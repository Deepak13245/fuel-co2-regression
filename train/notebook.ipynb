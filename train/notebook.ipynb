{
 "cells": [
  {
   "cell_type": "markdown",
   "metadata": {
    "id": "79nnOCM-fBYM"
   },
   "source": [
    "<div style=\"margin-bottom: -550px;\">\n",
    "  <div style=\"z-index:100;position:relative;padding:20px;\">\n",
    "      <h1>Team 4 - ML1 Presentation</h1>\n",
    "      <h2>Predicting CO2 Emission By Vehicles</h2>\n",
    "      <p style=\"float:right;\">\n",
    "      By, <br/>\n",
    "      Deepak Kumar T P <br/>\n",
    "      Shankar Narayanan Iyer\n",
    "      </p>\n",
    "  </div>\n",
    "\n",
    "  <img\n",
    "   style=\"transform: translateY(-600px); z-index:1;\"\n",
    "   src=\"https://media.giphy.com/media/3o7aD3LftJ423GBsVG/giphy.gif\" \n",
    "   width=\"100%\"\n",
    "   height=\"70%\"\n",
    "  />\n",
    "</div>"
   ]
  },
  {
   "cell_type": "code",
   "execution_count": null,
   "metadata": {
    "id": "e0CpineaWMVl",
    "outputId": "538c5fbd-b179-4c11-c4bd-7646aca6735e"
   },
   "outputs": [
    {
     "name": "stdout",
     "output_type": "stream",
     "text": [
      "Enabling notebook extension jupyter-js-widgets/extension...\r\n",
      "      - Validating: \u001b[32mOK\u001b[0m\r\n"
     ]
    }
   ],
   "source": [
    "import sys\n",
    "!{sys.executable} -m pip install -U pandas-profiling[notebook]\n",
    "!jupyter nbextension enable --py widgetsnbextension"
   ]
  },
  {
   "cell_type": "code",
   "execution_count": 2,
   "metadata": {
    "id": "8vflOJDFWMVp"
   },
   "outputs": [],
   "source": [
    "import pandas as pd\n",
    "import numpy as np\n",
    "import seaborn as sns\n",
    "from pandas_profiling import ProfileReport\n",
    "import re\n",
    "from sklearn.impute import KNNImputer\n",
    "from sklearn.linear_model import LinearRegression, SGDRegressor\n",
    "from sklearn.preprocessing import StandardScaler,OneHotEncoder\n",
    "from sklearn.model_selection import StratifiedShuffleSplit,train_test_split, GridSearchCV\n",
    "import matplotlib.pyplot as plt\n",
    "from sklearn.metrics import mean_squared_error, r2_score, mean_absolute_error\n",
    "from sklearn.pipeline import make_pipeline, Pipeline\n",
    "from sklearn.base import TransformerMixin, BaseEstimator\n",
    "from sklearn.compose import make_column_transformer\n",
    "from sklearn.feature_selection import SequentialFeatureSelector\n",
    "from sklearn.neighbors import KNeighborsClassifier\n",
    "import joblib\n",
    "from sklearn import set_config\n",
    "set_config(display='diagram')\n",
    "import warnings\n",
    "warnings.filterwarnings(\"ignore\", category=UserWarning)\n",
    "from scipy import stats"
   ]
  },
  {
   "cell_type": "markdown",
   "metadata": {
    "id": "XbozG-69P_So"
   },
   "source": [
    "<pre>\n",
    "This dataset captures the details of how CO2 emissions by a vehicle can vary with the different features. \n",
    "The dataset has been taken from Canada Government official open data website. This is a compiled version.\n",
    "This contains data over a period of 7 years.\n",
    "There are total 7385 rows and 12 columns.\n",
    "There are few abbreviations that has been used to describe the features.\n",
    "\n",
    "<b>Transmission</b>\n",
    "\n",
    "A = Automatic\n",
    "AM = Automated manual\n",
    "AS = Automatic with select shift\n",
    "AV = Continuously variable\n",
    "M = Manual\n",
    "3 - 10 = Number of gears\n",
    "\n",
    "<b>Fuel type</b>\n",
    "\n",
    "X = Regular gasoline\n",
    "Z = Premium gasoline\n",
    "D = Diesel\n",
    "E = Ethanol (E85)\n",
    "N = Natural gas\n",
    "Fuel Consumption\n",
    "\n",
    "City and highway fuel consumption ratings are shown in\n",
    "litres per 100 kilometres (L/100 km) - \n",
    "the combined rating (55% city, 45% hwy) \n",
    "is shown in L/100 km and in miles per gallon (mpg)\n",
    "\n",
    "<b>CO2 Emissions</b>\n",
    "\n",
    "The tailpipe emissions of carbon dioxide (in grams per kilometre) for combined city and highway driving\n",
    "</pre>\n",
    "\n",
    "Link to dataset [click here](https://www.kaggle.com/debajyotipodder/co2-emission-by-vehicles)\n"
   ]
  },
  {
   "cell_type": "code",
   "execution_count": 120,
   "metadata": {
    "id": "SkGq9f1yWMVp"
   },
   "outputs": [],
   "source": [
    "df = pd.read_csv('./dataset.csv')"
   ]
  },
  {
   "cell_type": "code",
   "execution_count": 121,
   "metadata": {
    "colab": {
     "base_uri": "https://localhost:8080/",
     "height": 330
    },
    "id": "KcoF9sb_WMVq",
    "outputId": "4e962f31-c3ac-4208-b177-09ef5ad5b4e3",
    "scrolled": true
   },
   "outputs": [
    {
     "data": {
      "text/html": [
       "<div>\n",
       "<style scoped>\n",
       "    .dataframe tbody tr th:only-of-type {\n",
       "        vertical-align: middle;\n",
       "    }\n",
       "\n",
       "    .dataframe tbody tr th {\n",
       "        vertical-align: top;\n",
       "    }\n",
       "\n",
       "    .dataframe thead th {\n",
       "        text-align: right;\n",
       "    }\n",
       "</style>\n",
       "<table border=\"1\" class=\"dataframe\">\n",
       "  <thead>\n",
       "    <tr style=\"text-align: right;\">\n",
       "      <th></th>\n",
       "      <th>Make</th>\n",
       "      <th>Model</th>\n",
       "      <th>Vehicle Class</th>\n",
       "      <th>Engine Size(L)</th>\n",
       "      <th>Cylinders</th>\n",
       "      <th>Transmission</th>\n",
       "      <th>Fuel Type</th>\n",
       "      <th>Fuel Consumption City (L/100 km)</th>\n",
       "      <th>Fuel Consumption Hwy (L/100 km)</th>\n",
       "      <th>Fuel Consumption Comb (L/100 km)</th>\n",
       "      <th>Fuel Consumption Comb (mpg)</th>\n",
       "      <th>CO2 Emissions(g/km)</th>\n",
       "    </tr>\n",
       "  </thead>\n",
       "  <tbody>\n",
       "    <tr>\n",
       "      <th>0</th>\n",
       "      <td>ACURA</td>\n",
       "      <td>ILX</td>\n",
       "      <td>COMPACT</td>\n",
       "      <td>2.0</td>\n",
       "      <td>4</td>\n",
       "      <td>AS5</td>\n",
       "      <td>Z</td>\n",
       "      <td>9.9</td>\n",
       "      <td>6.7</td>\n",
       "      <td>8.5</td>\n",
       "      <td>33</td>\n",
       "      <td>196</td>\n",
       "    </tr>\n",
       "    <tr>\n",
       "      <th>1</th>\n",
       "      <td>ACURA</td>\n",
       "      <td>ILX</td>\n",
       "      <td>COMPACT</td>\n",
       "      <td>2.4</td>\n",
       "      <td>4</td>\n",
       "      <td>M6</td>\n",
       "      <td>Z</td>\n",
       "      <td>11.2</td>\n",
       "      <td>7.7</td>\n",
       "      <td>9.6</td>\n",
       "      <td>29</td>\n",
       "      <td>221</td>\n",
       "    </tr>\n",
       "    <tr>\n",
       "      <th>2</th>\n",
       "      <td>ACURA</td>\n",
       "      <td>ILX HYBRID</td>\n",
       "      <td>COMPACT</td>\n",
       "      <td>1.5</td>\n",
       "      <td>4</td>\n",
       "      <td>AV7</td>\n",
       "      <td>Z</td>\n",
       "      <td>6.0</td>\n",
       "      <td>5.8</td>\n",
       "      <td>5.9</td>\n",
       "      <td>48</td>\n",
       "      <td>136</td>\n",
       "    </tr>\n",
       "    <tr>\n",
       "      <th>3</th>\n",
       "      <td>ACURA</td>\n",
       "      <td>MDX 4WD</td>\n",
       "      <td>SUV - SMALL</td>\n",
       "      <td>3.5</td>\n",
       "      <td>6</td>\n",
       "      <td>AS6</td>\n",
       "      <td>Z</td>\n",
       "      <td>12.7</td>\n",
       "      <td>9.1</td>\n",
       "      <td>11.1</td>\n",
       "      <td>25</td>\n",
       "      <td>255</td>\n",
       "    </tr>\n",
       "    <tr>\n",
       "      <th>4</th>\n",
       "      <td>ACURA</td>\n",
       "      <td>RDX AWD</td>\n",
       "      <td>SUV - SMALL</td>\n",
       "      <td>3.5</td>\n",
       "      <td>6</td>\n",
       "      <td>AS6</td>\n",
       "      <td>Z</td>\n",
       "      <td>12.1</td>\n",
       "      <td>8.7</td>\n",
       "      <td>10.6</td>\n",
       "      <td>27</td>\n",
       "      <td>244</td>\n",
       "    </tr>\n",
       "  </tbody>\n",
       "</table>\n",
       "</div>"
      ],
      "text/plain": [
       "    Make       Model Vehicle Class  Engine Size(L)  Cylinders Transmission  \\\n",
       "0  ACURA         ILX       COMPACT             2.0          4          AS5   \n",
       "1  ACURA         ILX       COMPACT             2.4          4           M6   \n",
       "2  ACURA  ILX HYBRID       COMPACT             1.5          4          AV7   \n",
       "3  ACURA     MDX 4WD   SUV - SMALL             3.5          6          AS6   \n",
       "4  ACURA     RDX AWD   SUV - SMALL             3.5          6          AS6   \n",
       "\n",
       "  Fuel Type  Fuel Consumption City (L/100 km)  \\\n",
       "0         Z                               9.9   \n",
       "1         Z                              11.2   \n",
       "2         Z                               6.0   \n",
       "3         Z                              12.7   \n",
       "4         Z                              12.1   \n",
       "\n",
       "   Fuel Consumption Hwy (L/100 km)  Fuel Consumption Comb (L/100 km)  \\\n",
       "0                              6.7                               8.5   \n",
       "1                              7.7                               9.6   \n",
       "2                              5.8                               5.9   \n",
       "3                              9.1                              11.1   \n",
       "4                              8.7                              10.6   \n",
       "\n",
       "   Fuel Consumption Comb (mpg)  CO2 Emissions(g/km)  \n",
       "0                           33                  196  \n",
       "1                           29                  221  \n",
       "2                           48                  136  \n",
       "3                           25                  255  \n",
       "4                           27                  244  "
      ]
     },
     "execution_count": 121,
     "metadata": {},
     "output_type": "execute_result"
    }
   ],
   "source": [
    "df.head()"
   ]
  },
  {
   "cell_type": "code",
   "execution_count": 122,
   "metadata": {
    "id": "ulFvKO1nWMVp"
   },
   "outputs": [],
   "source": [
    "profile = ProfileReport(df, title='CO2 Emission By Vehicles Profile Report', explorative=True)"
   ]
  },
  {
   "cell_type": "code",
   "execution_count": 123,
   "metadata": {
    "colab": {
     "referenced_widgets": [
      "9efa687537194ae1b994b08f420b2c07",
      "2a6aef03ebce406db493e988515e76ec"
     ]
    },
    "id": "pNz7_AzuWMVq",
    "outputId": "6516cb2c-d823-4edc-ccf8-b60db7177aa3"
   },
   "outputs": [
    {
     "data": {
      "application/vnd.jupyter.widget-view+json": {
       "model_id": "5335a78f9e774e8795bd0dda338cae7a",
       "version_major": 2,
       "version_minor": 0
      },
      "text/plain": [
       "Summarize dataset:   0%|          | 0/25 [00:00<?, ?it/s]"
      ]
     },
     "metadata": {},
     "output_type": "display_data"
    },
    {
     "data": {
      "application/vnd.jupyter.widget-view+json": {
       "model_id": "2068a2ebe0324868ae199938f09002f2",
       "version_major": 2,
       "version_minor": 0
      },
      "text/plain": [
       "Generate report structure:   0%|          | 0/1 [00:00<?, ?it/s]"
      ]
     },
     "metadata": {},
     "output_type": "display_data"
    },
    {
     "data": {
      "application/vnd.jupyter.widget-view+json": {
       "model_id": "2864fb6a3d9c40a09f427a1232f81d11",
       "version_major": 2,
       "version_minor": 0
      },
      "text/plain": [
       "Render HTML:   0%|          | 0/1 [00:00<?, ?it/s]"
      ]
     },
     "metadata": {},
     "output_type": "display_data"
    },
    {
     "data": {
      "application/vnd.jupyter.widget-view+json": {
       "model_id": "2e4714318c8c4f43904f0a683caeb5f9",
       "version_major": 2,
       "version_minor": 0
      },
      "text/plain": [
       "Export report to file:   0%|          | 0/1 [00:00<?, ?it/s]"
      ]
     },
     "metadata": {},
     "output_type": "display_data"
    }
   ],
   "source": [
    "profile.to_file('./profile.html')"
   ]
  },
  {
   "cell_type": "markdown",
   "metadata": {
    "id": "rJvdJqzeRFI1"
   },
   "source": [
    "# Summary of EDA\n",
    "\n",
    "1. Dataset has 1103 duplicated rows\n",
    "2. We will not be including Model column since it has high cardinality 2053 distinct values.\n",
    "3. Multi colinerarity found between Fuel Consumption City, Hwy, Combined L/100 KM, and Combined mpg\n",
    "4. We will remove combined column since it is derviced from City and Hwy\n",
    "5. We will remove combined mpg since it is derived variable from L/100 KM\n",
    "6. Will remove row having Fuel Type as N since it has only one observation\n",
    "7. Convert Transmission in to two columns Transmission Mode and Number of gears"
   ]
  },
  {
   "cell_type": "markdown",
   "metadata": {
    "id": "zh8JbmH-UM9v"
   },
   "source": [
    "## Data Preprocessing"
   ]
  },
  {
   "cell_type": "markdown",
   "metadata": {
    "id": "tFxPYStaSjit"
   },
   "source": [
    "### Removing Duplicate Rows"
   ]
  },
  {
   "cell_type": "code",
   "execution_count": 124,
   "metadata": {
    "colab": {
     "base_uri": "https://localhost:8080/"
    },
    "id": "TjJle9SDWMVr",
    "outputId": "1f42d752-9170-4fdb-bf7b-dfacda2b1acf"
   },
   "outputs": [
    {
     "data": {
      "text/plain": [
       "(1103, 12)"
      ]
     },
     "execution_count": 124,
     "metadata": {},
     "output_type": "execute_result"
    }
   ],
   "source": [
    "# Find duplicates\n",
    "df[df.duplicated()].shape"
   ]
  },
  {
   "cell_type": "code",
   "execution_count": 125,
   "metadata": {
    "id": "vyezhoEJWMVr"
   },
   "outputs": [],
   "source": [
    "# Drop duplicates\n",
    "df.drop_duplicates(inplace=True)"
   ]
  },
  {
   "cell_type": "code",
   "execution_count": 126,
   "metadata": {
    "colab": {
     "base_uri": "https://localhost:8080/"
    },
    "id": "CguFxZbjWMVr",
    "outputId": "4ec79816-9bec-4baf-abb4-c02da5efa28f"
   },
   "outputs": [
    {
     "data": {
      "text/plain": [
       "(6282, 12)"
      ]
     },
     "execution_count": 126,
     "metadata": {},
     "output_type": "execute_result"
    }
   ],
   "source": [
    "df.shape"
   ]
  },
  {
   "cell_type": "markdown",
   "metadata": {
    "id": "reJhKwjMSqSP"
   },
   "source": [
    "### Dropping columns \n",
    "1. Fuel Consumption Comb (L/100 km) is combination of city and highway\n",
    "2. Fuel Consumption Comb (mpg) is derived from L/100 km\n",
    "3. Model has high cardinality\n",
    "4. Dropping make"
   ]
  },
  {
   "cell_type": "code",
   "execution_count": 127,
   "metadata": {
    "id": "4GwQBhkSWMVr"
   },
   "outputs": [],
   "source": [
    "df.drop(df.columns[[0,1,-2,-3]], axis=1, inplace=True)"
   ]
  },
  {
   "cell_type": "code",
   "execution_count": 128,
   "metadata": {
    "colab": {
     "base_uri": "https://localhost:8080/",
     "height": 224
    },
    "id": "z60FcC3uWMVs",
    "outputId": "a9daaa4e-5872-44d3-b741-dc6c1a4e2ec1"
   },
   "outputs": [
    {
     "data": {
      "text/html": [
       "<div>\n",
       "<style scoped>\n",
       "    .dataframe tbody tr th:only-of-type {\n",
       "        vertical-align: middle;\n",
       "    }\n",
       "\n",
       "    .dataframe tbody tr th {\n",
       "        vertical-align: top;\n",
       "    }\n",
       "\n",
       "    .dataframe thead th {\n",
       "        text-align: right;\n",
       "    }\n",
       "</style>\n",
       "<table border=\"1\" class=\"dataframe\">\n",
       "  <thead>\n",
       "    <tr style=\"text-align: right;\">\n",
       "      <th></th>\n",
       "      <th>Vehicle Class</th>\n",
       "      <th>Engine Size(L)</th>\n",
       "      <th>Cylinders</th>\n",
       "      <th>Transmission</th>\n",
       "      <th>Fuel Type</th>\n",
       "      <th>Fuel Consumption City (L/100 km)</th>\n",
       "      <th>Fuel Consumption Hwy (L/100 km)</th>\n",
       "      <th>CO2 Emissions(g/km)</th>\n",
       "    </tr>\n",
       "  </thead>\n",
       "  <tbody>\n",
       "    <tr>\n",
       "      <th>0</th>\n",
       "      <td>COMPACT</td>\n",
       "      <td>2.0</td>\n",
       "      <td>4</td>\n",
       "      <td>AS5</td>\n",
       "      <td>Z</td>\n",
       "      <td>9.9</td>\n",
       "      <td>6.7</td>\n",
       "      <td>196</td>\n",
       "    </tr>\n",
       "    <tr>\n",
       "      <th>1</th>\n",
       "      <td>COMPACT</td>\n",
       "      <td>2.4</td>\n",
       "      <td>4</td>\n",
       "      <td>M6</td>\n",
       "      <td>Z</td>\n",
       "      <td>11.2</td>\n",
       "      <td>7.7</td>\n",
       "      <td>221</td>\n",
       "    </tr>\n",
       "    <tr>\n",
       "      <th>2</th>\n",
       "      <td>COMPACT</td>\n",
       "      <td>1.5</td>\n",
       "      <td>4</td>\n",
       "      <td>AV7</td>\n",
       "      <td>Z</td>\n",
       "      <td>6.0</td>\n",
       "      <td>5.8</td>\n",
       "      <td>136</td>\n",
       "    </tr>\n",
       "    <tr>\n",
       "      <th>3</th>\n",
       "      <td>SUV - SMALL</td>\n",
       "      <td>3.5</td>\n",
       "      <td>6</td>\n",
       "      <td>AS6</td>\n",
       "      <td>Z</td>\n",
       "      <td>12.7</td>\n",
       "      <td>9.1</td>\n",
       "      <td>255</td>\n",
       "    </tr>\n",
       "    <tr>\n",
       "      <th>4</th>\n",
       "      <td>SUV - SMALL</td>\n",
       "      <td>3.5</td>\n",
       "      <td>6</td>\n",
       "      <td>AS6</td>\n",
       "      <td>Z</td>\n",
       "      <td>12.1</td>\n",
       "      <td>8.7</td>\n",
       "      <td>244</td>\n",
       "    </tr>\n",
       "  </tbody>\n",
       "</table>\n",
       "</div>"
      ],
      "text/plain": [
       "  Vehicle Class  Engine Size(L)  Cylinders Transmission Fuel Type  \\\n",
       "0       COMPACT             2.0          4          AS5         Z   \n",
       "1       COMPACT             2.4          4           M6         Z   \n",
       "2       COMPACT             1.5          4          AV7         Z   \n",
       "3   SUV - SMALL             3.5          6          AS6         Z   \n",
       "4   SUV - SMALL             3.5          6          AS6         Z   \n",
       "\n",
       "   Fuel Consumption City (L/100 km)  Fuel Consumption Hwy (L/100 km)  \\\n",
       "0                               9.9                              6.7   \n",
       "1                              11.2                              7.7   \n",
       "2                               6.0                              5.8   \n",
       "3                              12.7                              9.1   \n",
       "4                              12.1                              8.7   \n",
       "\n",
       "   CO2 Emissions(g/km)  \n",
       "0                  196  \n",
       "1                  221  \n",
       "2                  136  \n",
       "3                  255  \n",
       "4                  244  "
      ]
     },
     "execution_count": 128,
     "metadata": {},
     "output_type": "execute_result"
    }
   ],
   "source": [
    "df.head()"
   ]
  },
  {
   "cell_type": "code",
   "execution_count": 129,
   "metadata": {
    "colab": {
     "base_uri": "https://localhost:8080/",
     "height": 206
    },
    "id": "tIoNuwx6WMVs",
    "outputId": "81acafba-3c57-461f-eda0-b8f8abd4cf68"
   },
   "outputs": [
    {
     "data": {
      "text/html": [
       "<div>\n",
       "<style scoped>\n",
       "    .dataframe tbody tr th:only-of-type {\n",
       "        vertical-align: middle;\n",
       "    }\n",
       "\n",
       "    .dataframe tbody tr th {\n",
       "        vertical-align: top;\n",
       "    }\n",
       "\n",
       "    .dataframe thead th {\n",
       "        text-align: right;\n",
       "    }\n",
       "</style>\n",
       "<table border=\"1\" class=\"dataframe\">\n",
       "  <thead>\n",
       "    <tr style=\"text-align: right;\">\n",
       "      <th></th>\n",
       "      <th>Engine Size(L)</th>\n",
       "      <th>Cylinders</th>\n",
       "      <th>Fuel Consumption City (L/100 km)</th>\n",
       "      <th>Fuel Consumption Hwy (L/100 km)</th>\n",
       "      <th>CO2 Emissions(g/km)</th>\n",
       "    </tr>\n",
       "  </thead>\n",
       "  <tbody>\n",
       "    <tr>\n",
       "      <th>0</th>\n",
       "      <td>2.0</td>\n",
       "      <td>4</td>\n",
       "      <td>9.9</td>\n",
       "      <td>6.7</td>\n",
       "      <td>196</td>\n",
       "    </tr>\n",
       "    <tr>\n",
       "      <th>1</th>\n",
       "      <td>2.4</td>\n",
       "      <td>4</td>\n",
       "      <td>11.2</td>\n",
       "      <td>7.7</td>\n",
       "      <td>221</td>\n",
       "    </tr>\n",
       "    <tr>\n",
       "      <th>2</th>\n",
       "      <td>1.5</td>\n",
       "      <td>4</td>\n",
       "      <td>6.0</td>\n",
       "      <td>5.8</td>\n",
       "      <td>136</td>\n",
       "    </tr>\n",
       "    <tr>\n",
       "      <th>3</th>\n",
       "      <td>3.5</td>\n",
       "      <td>6</td>\n",
       "      <td>12.7</td>\n",
       "      <td>9.1</td>\n",
       "      <td>255</td>\n",
       "    </tr>\n",
       "    <tr>\n",
       "      <th>4</th>\n",
       "      <td>3.5</td>\n",
       "      <td>6</td>\n",
       "      <td>12.1</td>\n",
       "      <td>8.7</td>\n",
       "      <td>244</td>\n",
       "    </tr>\n",
       "  </tbody>\n",
       "</table>\n",
       "</div>"
      ],
      "text/plain": [
       "   Engine Size(L)  Cylinders  Fuel Consumption City (L/100 km)  \\\n",
       "0             2.0          4                               9.9   \n",
       "1             2.4          4                              11.2   \n",
       "2             1.5          4                               6.0   \n",
       "3             3.5          6                              12.7   \n",
       "4             3.5          6                              12.1   \n",
       "\n",
       "   Fuel Consumption Hwy (L/100 km)  CO2 Emissions(g/km)  \n",
       "0                              6.7                  196  \n",
       "1                              7.7                  221  \n",
       "2                              5.8                  136  \n",
       "3                              9.1                  255  \n",
       "4                              8.7                  244  "
      ]
     },
     "execution_count": 129,
     "metadata": {},
     "output_type": "execute_result"
    }
   ],
   "source": [
    "numeric_data = df._get_numeric_data()\n",
    "numeric_data.head()"
   ]
  },
  {
   "cell_type": "code",
   "execution_count": 130,
   "metadata": {
    "id": "3NegWmNyWMVs"
   },
   "outputs": [],
   "source": [
    "# Cylinders is categorical\n",
    "df['Cylinders'] = df['Cylinders'].astype('object') "
   ]
  },
  {
   "cell_type": "code",
   "execution_count": 131,
   "metadata": {
    "colab": {
     "base_uri": "https://localhost:8080/",
     "height": 206
    },
    "id": "yR4HPWh_WMVs",
    "outputId": "524d4a1e-64db-48fd-8703-883bd98b00da"
   },
   "outputs": [
    {
     "data": {
      "text/html": [
       "<div>\n",
       "<style scoped>\n",
       "    .dataframe tbody tr th:only-of-type {\n",
       "        vertical-align: middle;\n",
       "    }\n",
       "\n",
       "    .dataframe tbody tr th {\n",
       "        vertical-align: top;\n",
       "    }\n",
       "\n",
       "    .dataframe thead th {\n",
       "        text-align: right;\n",
       "    }\n",
       "</style>\n",
       "<table border=\"1\" class=\"dataframe\">\n",
       "  <thead>\n",
       "    <tr style=\"text-align: right;\">\n",
       "      <th></th>\n",
       "      <th>Engine Size(L)</th>\n",
       "      <th>Fuel Consumption City (L/100 km)</th>\n",
       "      <th>Fuel Consumption Hwy (L/100 km)</th>\n",
       "      <th>CO2 Emissions(g/km)</th>\n",
       "    </tr>\n",
       "  </thead>\n",
       "  <tbody>\n",
       "    <tr>\n",
       "      <th>0</th>\n",
       "      <td>2.0</td>\n",
       "      <td>9.9</td>\n",
       "      <td>6.7</td>\n",
       "      <td>196</td>\n",
       "    </tr>\n",
       "    <tr>\n",
       "      <th>1</th>\n",
       "      <td>2.4</td>\n",
       "      <td>11.2</td>\n",
       "      <td>7.7</td>\n",
       "      <td>221</td>\n",
       "    </tr>\n",
       "    <tr>\n",
       "      <th>2</th>\n",
       "      <td>1.5</td>\n",
       "      <td>6.0</td>\n",
       "      <td>5.8</td>\n",
       "      <td>136</td>\n",
       "    </tr>\n",
       "    <tr>\n",
       "      <th>3</th>\n",
       "      <td>3.5</td>\n",
       "      <td>12.7</td>\n",
       "      <td>9.1</td>\n",
       "      <td>255</td>\n",
       "    </tr>\n",
       "    <tr>\n",
       "      <th>4</th>\n",
       "      <td>3.5</td>\n",
       "      <td>12.1</td>\n",
       "      <td>8.7</td>\n",
       "      <td>244</td>\n",
       "    </tr>\n",
       "  </tbody>\n",
       "</table>\n",
       "</div>"
      ],
      "text/plain": [
       "   Engine Size(L)  Fuel Consumption City (L/100 km)  \\\n",
       "0             2.0                               9.9   \n",
       "1             2.4                              11.2   \n",
       "2             1.5                               6.0   \n",
       "3             3.5                              12.7   \n",
       "4             3.5                              12.1   \n",
       "\n",
       "   Fuel Consumption Hwy (L/100 km)  CO2 Emissions(g/km)  \n",
       "0                              6.7                  196  \n",
       "1                              7.7                  221  \n",
       "2                              5.8                  136  \n",
       "3                              9.1                  255  \n",
       "4                              8.7                  244  "
      ]
     },
     "execution_count": 131,
     "metadata": {},
     "output_type": "execute_result"
    }
   ],
   "source": [
    "numeric_data = df._get_numeric_data()\n",
    "numeric_data.head()"
   ]
  },
  {
   "cell_type": "markdown",
   "metadata": {
    "id": "w96O4qQoSyc3"
   },
   "source": [
    "### Pair plot of numeric variables\n",
    "1. Diagonal has KDE curve\n",
    "2. Other cells has regression graph of two variables"
   ]
  },
  {
   "cell_type": "code",
   "execution_count": 13,
   "metadata": {
    "colab": {
     "base_uri": "https://localhost:8080/"
    },
    "id": "1ZW5TrCVWMVt",
    "outputId": "560f09cb-7360-4c38-e851-0438ebc1c808"
   },
   "outputs": [
    {
     "data": {
      "text/plain": [
       "<seaborn.axisgrid.PairGrid at 0x408175d358>"
      ]
     },
     "execution_count": 13,
     "metadata": {},
     "output_type": "execute_result"
    },
    {
     "data": {
      "image/png": "[encoded data removed]",
      "text/plain": [
       "<Figure size 720x720 with 20 Axes>"
      ]
     },
     "metadata": {
      "needs_background": "light"
     },
     "output_type": "display_data"
    }
   ],
   "source": [
    "sns.pairplot(numeric_data, kind='reg', diag_kind='kde')"
   ]
  },
  {
   "cell_type": "markdown",
   "metadata": {
    "id": "Zp35WDMgTGgj"
   },
   "source": [
    "Observations\n",
    "1. All variables are postiviely correlated to target\n",
    "2. Except engine size everything else is normally distributed"
   ]
  },
  {
   "cell_type": "markdown",
   "metadata": {
    "id": "Fvz7qGWRTg3C"
   },
   "source": [
    "## Categorical variables"
   ]
  },
  {
   "cell_type": "code",
   "execution_count": 132,
   "metadata": {
    "colab": {
     "base_uri": "https://localhost:8080/"
    },
    "id": "Ij_5ItJ4WMVt",
    "outputId": "e6be5073-566c-4692-864d-19e83fc39e3f"
   },
   "outputs": [
    {
     "data": {
      "text/plain": [
       "SUV - SMALL                 1006\n",
       "MID-SIZE                     983\n",
       "COMPACT                      903\n",
       "SUV - STANDARD               613\n",
       "SUBCOMPACT                   533\n",
       "FULL-SIZE                    508\n",
       "PICKUP TRUCK - STANDARD      475\n",
       "TWO-SEATER                   381\n",
       "MINICOMPACT                  274\n",
       "STATION WAGON - SMALL        214\n",
       "PICKUP TRUCK - SMALL         133\n",
       "VAN - PASSENGER               66\n",
       "SPECIAL PURPOSE VEHICLE       65\n",
       "MINIVAN                       61\n",
       "STATION WAGON - MID-SIZE      45\n",
       "VAN - CARGO                   22\n",
       "Name: Vehicle Class, dtype: int64"
      ]
     },
     "execution_count": 132,
     "metadata": {},
     "output_type": "execute_result"
    }
   ],
   "source": [
    "df['Vehicle Class'].value_counts()"
   ]
  },
  {
   "cell_type": "code",
   "execution_count": 133,
   "metadata": {
    "colab": {
     "base_uri": "https://localhost:8080/"
    },
    "id": "MppEfIyKWMVt",
    "outputId": "e0ed0d13-48bd-4567-fb3a-230aeb44e86b"
   },
   "outputs": [
    {
     "data": {
      "text/plain": [
       "4     2749\n",
       "6     2040\n",
       "8     1202\n",
       "12     135\n",
       "3       88\n",
       "10      40\n",
       "5       26\n",
       "16       2\n",
       "Name: Cylinders, dtype: int64"
      ]
     },
     "execution_count": 133,
     "metadata": {},
     "output_type": "execute_result"
    }
   ],
   "source": [
    "df['Cylinders'].value_counts()"
   ]
  },
  {
   "cell_type": "code",
   "execution_count": 134,
   "metadata": {
    "colab": {
     "base_uri": "https://localhost:8080/"
    },
    "id": "OOEEruiLWMVt",
    "outputId": "2d6ac26f-8a81-4ee2-b62a-3452e6e227fa"
   },
   "outputs": [
    {
     "data": {
      "text/plain": [
       "AS6     1139\n",
       "AS8     1056\n",
       "M6       773\n",
       "A6       684\n",
       "AM7      383\n",
       "A8       378\n",
       "AS7      283\n",
       "A9       263\n",
       "AV       241\n",
       "M5       168\n",
       "AS10     151\n",
       "AM6      107\n",
       "AV7       92\n",
       "AV6       89\n",
       "A5        78\n",
       "M7        78\n",
       "AS9       65\n",
       "A4        61\n",
       "AM8       45\n",
       "A7        44\n",
       "AV8       34\n",
       "A10       28\n",
       "AS5       26\n",
       "AV10       9\n",
       "AM5        4\n",
       "AS4        2\n",
       "AM9        1\n",
       "Name: Transmission, dtype: int64"
      ]
     },
     "execution_count": 134,
     "metadata": {},
     "output_type": "execute_result"
    }
   ],
   "source": [
    "df['Transmission'].value_counts()"
   ]
  },
  {
   "cell_type": "markdown",
   "metadata": {
    "id": "PtfOMs1qTmEE"
   },
   "source": [
    "#### Observations\n",
    "One of AV transmission has missing gears (around 241 rows). We will use imputer to fill the gears\n"
   ]
  },
  {
   "cell_type": "markdown",
   "metadata": {
    "id": "bjjUkrq1WMVt"
   },
   "source": [
    "```\n",
    "A = Automatic\n",
    "AM = Automated manual\n",
    "AS = Automatic with select shift\n",
    "AV = Continuously variable\n",
    "M = Manual\n",
    "\n",
    "Number represents the gears\n",
    "```\n",
    "\n",
    "#### Splitting this column into transmission mode and number of gears"
   ]
  },
  {
   "cell_type": "code",
   "execution_count": 135,
   "metadata": {
    "id": "yRaqzgQpWMVt"
   },
   "outputs": [],
   "source": [
    "df['TransmissionMode'] = df['Transmission'].apply(lambda x: re.search('[A-Z]*', x).group())"
   ]
  },
  {
   "cell_type": "code",
   "execution_count": 136,
   "metadata": {
    "colab": {
     "base_uri": "https://localhost:8080/"
    },
    "id": "CkOfNHoWWMVt",
    "outputId": "768d3a67-5add-487b-ffc3-14baaa6b5c19"
   },
   "outputs": [
    {
     "data": {
      "text/plain": [
       "AS    2722\n",
       "A     1536\n",
       "M     1019\n",
       "AM     540\n",
       "AV     465\n",
       "Name: TransmissionMode, dtype: int64"
      ]
     },
     "execution_count": 136,
     "metadata": {},
     "output_type": "execute_result"
    }
   ],
   "source": [
    "df['TransmissionMode'].value_counts()"
   ]
  },
  {
   "cell_type": "code",
   "execution_count": 137,
   "metadata": {
    "id": "9xiZ__mwWMVt"
   },
   "outputs": [],
   "source": [
    "# one of AV has no gears making it to 0 for now\n",
    "df['Transmission'].replace({'AV':'AV0'}, inplace=True)"
   ]
  },
  {
   "cell_type": "code",
   "execution_count": 138,
   "metadata": {
    "id": "IZ4MSIcoWMVt"
   },
   "outputs": [],
   "source": [
    "df['Gears'] = df['Transmission'].apply(lambda x: re.search('[0-9]+', x).group())"
   ]
  },
  {
   "cell_type": "code",
   "execution_count": 139,
   "metadata": {
    "colab": {
     "base_uri": "https://localhost:8080/"
    },
    "id": "uW-ccZ1iWMVt",
    "outputId": "18c54d3d-274d-45b1-eef0-0b9e3f5c7983"
   },
   "outputs": [
    {
     "data": {
      "text/plain": [
       "6     2792\n",
       "8     1513\n",
       "7      880\n",
       "9      329\n",
       "5      276\n",
       "0      241\n",
       "10     188\n",
       "4       63\n",
       "Name: Gears, dtype: int64"
      ]
     },
     "execution_count": 139,
     "metadata": {},
     "output_type": "execute_result"
    }
   ],
   "source": [
    "df['Gears'].value_counts()"
   ]
  },
  {
   "cell_type": "code",
   "execution_count": 140,
   "metadata": {
    "id": "eumFGr5LWMVu"
   },
   "outputs": [],
   "source": [
    "df.drop(labels=['Transmission'], axis=1, inplace=True)"
   ]
  },
  {
   "cell_type": "code",
   "execution_count": 23,
   "metadata": {
    "colab": {
     "base_uri": "https://localhost:8080/"
    },
    "id": "0-RvfTywWMVu",
    "outputId": "f89d3549-16bf-4084-cd43-1fbbf0fe8fba"
   },
   "outputs": [
    {
     "data": {
      "text/plain": [
       "X    3039\n",
       "Z    2765\n",
       "E     330\n",
       "D     147\n",
       "N       1\n",
       "Name: Fuel Type, dtype: int64"
      ]
     },
     "execution_count": 23,
     "metadata": {},
     "output_type": "execute_result"
    }
   ],
   "source": [
    "df['Fuel Type'].value_counts()"
   ]
  },
  {
   "cell_type": "markdown",
   "metadata": {
    "id": "5FWe44FvT_fr"
   },
   "source": [
    "#### Removing Natural gas fuel since there is only one entry\n"
   ]
  },
  {
   "cell_type": "code",
   "execution_count": 24,
   "metadata": {
    "id": "kqFqUgq3WMVu"
   },
   "outputs": [],
   "source": [
    "df.drop(df[df['Fuel Type']=='N'].index, inplace=True)"
   ]
  },
  {
   "cell_type": "code",
   "execution_count": 25,
   "metadata": {
    "colab": {
     "base_uri": "https://localhost:8080/",
     "height": 563
    },
    "id": "TcevxamYWMVu",
    "outputId": "78e75047-e15d-4970-b6d4-c0946c9802b6"
   },
   "outputs": [
    {
     "data": {
      "text/html": [
       "<div>\n",
       "<style scoped>\n",
       "    .dataframe tbody tr th:only-of-type {\n",
       "        vertical-align: middle;\n",
       "    }\n",
       "\n",
       "    .dataframe tbody tr th {\n",
       "        vertical-align: top;\n",
       "    }\n",
       "\n",
       "    .dataframe thead th {\n",
       "        text-align: right;\n",
       "    }\n",
       "</style>\n",
       "<table border=\"1\" class=\"dataframe\">\n",
       "  <thead>\n",
       "    <tr style=\"text-align: right;\">\n",
       "      <th></th>\n",
       "      <th>Vehicle Class</th>\n",
       "      <th>Engine Size(L)</th>\n",
       "      <th>Cylinders</th>\n",
       "      <th>Fuel Type</th>\n",
       "      <th>Fuel Consumption City (L/100 km)</th>\n",
       "      <th>Fuel Consumption Hwy (L/100 km)</th>\n",
       "      <th>CO2 Emissions(g/km)</th>\n",
       "      <th>TransmissionMode</th>\n",
       "      <th>Gears</th>\n",
       "    </tr>\n",
       "  </thead>\n",
       "  <tbody>\n",
       "    <tr>\n",
       "      <th>0</th>\n",
       "      <td>COMPACT</td>\n",
       "      <td>2.0</td>\n",
       "      <td>4</td>\n",
       "      <td>Z</td>\n",
       "      <td>9.9</td>\n",
       "      <td>6.7</td>\n",
       "      <td>196</td>\n",
       "      <td>AS</td>\n",
       "      <td>5</td>\n",
       "    </tr>\n",
       "    <tr>\n",
       "      <th>1</th>\n",
       "      <td>COMPACT</td>\n",
       "      <td>2.4</td>\n",
       "      <td>4</td>\n",
       "      <td>Z</td>\n",
       "      <td>11.2</td>\n",
       "      <td>7.7</td>\n",
       "      <td>221</td>\n",
       "      <td>M</td>\n",
       "      <td>6</td>\n",
       "    </tr>\n",
       "    <tr>\n",
       "      <th>2</th>\n",
       "      <td>COMPACT</td>\n",
       "      <td>1.5</td>\n",
       "      <td>4</td>\n",
       "      <td>Z</td>\n",
       "      <td>6.0</td>\n",
       "      <td>5.8</td>\n",
       "      <td>136</td>\n",
       "      <td>AV</td>\n",
       "      <td>7</td>\n",
       "    </tr>\n",
       "    <tr>\n",
       "      <th>3</th>\n",
       "      <td>SUV - SMALL</td>\n",
       "      <td>3.5</td>\n",
       "      <td>6</td>\n",
       "      <td>Z</td>\n",
       "      <td>12.7</td>\n",
       "      <td>9.1</td>\n",
       "      <td>255</td>\n",
       "      <td>AS</td>\n",
       "      <td>6</td>\n",
       "    </tr>\n",
       "    <tr>\n",
       "      <th>4</th>\n",
       "      <td>SUV - SMALL</td>\n",
       "      <td>3.5</td>\n",
       "      <td>6</td>\n",
       "      <td>Z</td>\n",
       "      <td>12.1</td>\n",
       "      <td>8.7</td>\n",
       "      <td>244</td>\n",
       "      <td>AS</td>\n",
       "      <td>6</td>\n",
       "    </tr>\n",
       "    <tr>\n",
       "      <th>...</th>\n",
       "      <td>...</td>\n",
       "      <td>...</td>\n",
       "      <td>...</td>\n",
       "      <td>...</td>\n",
       "      <td>...</td>\n",
       "      <td>...</td>\n",
       "      <td>...</td>\n",
       "      <td>...</td>\n",
       "      <td>...</td>\n",
       "    </tr>\n",
       "    <tr>\n",
       "      <th>6276</th>\n",
       "      <td>SUV - SMALL</td>\n",
       "      <td>2.0</td>\n",
       "      <td>4</td>\n",
       "      <td>Z</td>\n",
       "      <td>10.7</td>\n",
       "      <td>7.7</td>\n",
       "      <td>219</td>\n",
       "      <td>AS</td>\n",
       "      <td>8</td>\n",
       "    </tr>\n",
       "    <tr>\n",
       "      <th>6277</th>\n",
       "      <td>SUV - SMALL</td>\n",
       "      <td>2.0</td>\n",
       "      <td>4</td>\n",
       "      <td>Z</td>\n",
       "      <td>11.2</td>\n",
       "      <td>8.3</td>\n",
       "      <td>232</td>\n",
       "      <td>AS</td>\n",
       "      <td>8</td>\n",
       "    </tr>\n",
       "    <tr>\n",
       "      <th>6278</th>\n",
       "      <td>SUV - SMALL</td>\n",
       "      <td>2.0</td>\n",
       "      <td>4</td>\n",
       "      <td>Z</td>\n",
       "      <td>11.7</td>\n",
       "      <td>8.6</td>\n",
       "      <td>240</td>\n",
       "      <td>AS</td>\n",
       "      <td>8</td>\n",
       "    </tr>\n",
       "    <tr>\n",
       "      <th>6279</th>\n",
       "      <td>SUV - STANDARD</td>\n",
       "      <td>2.0</td>\n",
       "      <td>4</td>\n",
       "      <td>Z</td>\n",
       "      <td>11.2</td>\n",
       "      <td>8.3</td>\n",
       "      <td>232</td>\n",
       "      <td>AS</td>\n",
       "      <td>8</td>\n",
       "    </tr>\n",
       "    <tr>\n",
       "      <th>6280</th>\n",
       "      <td>SUV - STANDARD</td>\n",
       "      <td>2.0</td>\n",
       "      <td>4</td>\n",
       "      <td>Z</td>\n",
       "      <td>12.2</td>\n",
       "      <td>8.7</td>\n",
       "      <td>248</td>\n",
       "      <td>AS</td>\n",
       "      <td>8</td>\n",
       "    </tr>\n",
       "  </tbody>\n",
       "</table>\n",
       "<p>6281 rows × 9 columns</p>\n",
       "</div>"
      ],
      "text/plain": [
       "       Vehicle Class  Engine Size(L) Cylinders Fuel Type  \\\n",
       "0            COMPACT             2.0         4         Z   \n",
       "1            COMPACT             2.4         4         Z   \n",
       "2            COMPACT             1.5         4         Z   \n",
       "3        SUV - SMALL             3.5         6         Z   \n",
       "4        SUV - SMALL             3.5         6         Z   \n",
       "...              ...             ...       ...       ...   \n",
       "6276     SUV - SMALL             2.0         4         Z   \n",
       "6277     SUV - SMALL             2.0         4         Z   \n",
       "6278     SUV - SMALL             2.0         4         Z   \n",
       "6279  SUV - STANDARD             2.0         4         Z   \n",
       "6280  SUV - STANDARD             2.0         4         Z   \n",
       "\n",
       "      Fuel Consumption City (L/100 km)  Fuel Consumption Hwy (L/100 km)  \\\n",
       "0                                  9.9                              6.7   \n",
       "1                                 11.2                              7.7   \n",
       "2                                  6.0                              5.8   \n",
       "3                                 12.7                              9.1   \n",
       "4                                 12.1                              8.7   \n",
       "...                                ...                              ...   \n",
       "6276                              10.7                              7.7   \n",
       "6277                              11.2                              8.3   \n",
       "6278                              11.7                              8.6   \n",
       "6279                              11.2                              8.3   \n",
       "6280                              12.2                              8.7   \n",
       "\n",
       "      CO2 Emissions(g/km) TransmissionMode Gears  \n",
       "0                     196               AS     5  \n",
       "1                     221                M     6  \n",
       "2                     136               AV     7  \n",
       "3                     255               AS     6  \n",
       "4                     244               AS     6  \n",
       "...                   ...              ...   ...  \n",
       "6276                  219               AS     8  \n",
       "6277                  232               AS     8  \n",
       "6278                  240               AS     8  \n",
       "6279                  232               AS     8  \n",
       "6280                  248               AS     8  \n",
       "\n",
       "[6281 rows x 9 columns]"
      ]
     },
     "execution_count": 25,
     "metadata": {},
     "output_type": "execute_result"
    }
   ],
   "source": [
    "df.reset_index(drop=True,inplace=True)\n",
    "df"
   ]
  },
  {
   "cell_type": "markdown",
   "metadata": {
    "id": "iDG3lB4dUGuM"
   },
   "source": [
    "## Model Building And Selection"
   ]
  },
  {
   "cell_type": "markdown",
   "metadata": {
    "id": "oh4H2ubnU0-8"
   },
   "source": [
    "### First Model using LinearRegression\n",
    "\n",
    "We are using sklearn [pipelines](https://scikit-learn.org/stable/modules/generated/sklearn.pipeline.Pipeline.html) to build model.\n",
    "\n",
    "1. Creating one hot encoder transformer to convert categorical to one hot encoded values.\n",
    "\n",
    "2. Then passing data through KNN Imputer to treat missing values of gears\n",
    "\n",
    "3. Pass through standard scaler for scaling date.\n",
    "\n",
    "4. Pass through LinearRegression to find the coeficient and intercept\n"
   ]
  },
  {
   "cell_type": "code",
   "execution_count": 26,
   "metadata": {
    "id": "H4_Kh8snWMVu"
   },
   "outputs": [],
   "source": [
    "oneHotEncoder = make_column_transformer(\n",
    "    (OneHotEncoder(sparse=False), ['Vehicle Class', 'Fuel Type', 'TransmissionMode']),\n",
    "    remainder='passthrough'\n",
    ")"
   ]
  },
  {
   "cell_type": "code",
   "execution_count": 113,
   "metadata": {
    "colab": {
     "base_uri": "https://localhost:8080/",
     "height": 231
    },
    "id": "C8ik5jRLWMVu",
    "outputId": "45196230-3e11-4639-cc34-727e1a12dccd"
   },
   "outputs": [
    {
     "data": {
      "text/html": [
       "<style>div.sk-top-container {color: black;background-color: white;}div.sk-toggleable {background-color: white;}label.sk-toggleable__label {cursor: pointer;display: block;width: 100%;margin-bottom: 0;padding: 0.2em 0.3em;box-sizing: border-box;text-align: center;}div.sk-toggleable__content {max-height: 0;max-width: 0;overflow: hidden;text-align: left;background-color: #f0f8ff;}div.sk-toggleable__content pre {margin: 0.2em;color: black;border-radius: 0.25em;background-color: #f0f8ff;}input.sk-toggleable__control:checked~div.sk-toggleable__content {max-height: 200px;max-width: 100%;overflow: auto;}div.sk-estimator input.sk-toggleable__control:checked~label.sk-toggleable__label {background-color: #d4ebff;}div.sk-label input.sk-toggleable__control:checked~label.sk-toggleable__label {background-color: #d4ebff;}input.sk-hidden--visually {border: 0;clip: rect(1px 1px 1px 1px);clip: rect(1px, 1px, 1px, 1px);height: 1px;margin: -1px;overflow: hidden;padding: 0;position: absolute;width: 1px;}div.sk-estimator {font-family: monospace;background-color: #f0f8ff;margin: 0.25em 0.25em;border: 1px dotted black;border-radius: 0.25em;box-sizing: border-box;}div.sk-estimator:hover {background-color: #d4ebff;}div.sk-parallel-item::after {content: \"\";width: 100%;border-bottom: 1px solid gray;flex-grow: 1;}div.sk-label:hover label.sk-toggleable__label {background-color: #d4ebff;}div.sk-serial::before {content: \"\";position: absolute;border-left: 1px solid gray;box-sizing: border-box;top: 2em;bottom: 0;left: 50%;}div.sk-serial {display: flex;flex-direction: column;align-items: center;background-color: white;}div.sk-item {z-index: 1;}div.sk-parallel {display: flex;align-items: stretch;justify-content: center;background-color: white;}div.sk-parallel-item {display: flex;flex-direction: column;position: relative;background-color: white;}div.sk-parallel-item:first-child::after {align-self: flex-end;width: 50%;}div.sk-parallel-item:last-child::after {align-self: flex-start;width: 50%;}div.sk-parallel-item:only-child::after {width: 0;}div.sk-dashed-wrapped {border: 1px dashed gray;margin: 0.2em;box-sizing: border-box;padding-bottom: 0.1em;background-color: white;position: relative;}div.sk-label label {font-family: monospace;font-weight: bold;background-color: white;display: inline-block;line-height: 1.2em;}div.sk-label-container {position: relative;z-index: 2;text-align: center;}div.sk-container {display: inline-block;position: relative;}</style><div class=\"sk-top-container\"><div class=\"sk-container\"><div class=\"sk-item sk-dashed-wrapped\"><div class=\"sk-label-container\"><div class=\"sk-label sk-toggleable\"><input class=\"sk-toggleable__control sk-hidden--visually\" id=\"a0d6cbf0-46ce-405b-acfa-5532e885de52\" type=\"checkbox\" ><label class=\"sk-toggleable__label\" for=\"a0d6cbf0-46ce-405b-acfa-5532e885de52\">Pipeline</label><div class=\"sk-toggleable__content\"><pre>Pipeline(steps=[('columntransformer',\n",
       "                 ColumnTransformer(remainder='passthrough',\n",
       "                                   transformers=[('onehotencoder',\n",
       "                                                  OneHotEncoder(sparse=False),\n",
       "                                                  ['Vehicle Class', 'Fuel Type',\n",
       "                                                   'TransmissionMode'])])),\n",
       "                ('knnimputer', KNNImputer()),\n",
       "                ('standardscaler', StandardScaler()),\n",
       "                ('linearregression', LinearRegression())])</pre></div></div></div><div class=\"sk-serial\"><div class=\"sk-item sk-dashed-wrapped\"><div class=\"sk-label-container\"><div class=\"sk-label sk-toggleable\"><input class=\"sk-toggleable__control sk-hidden--visually\" id=\"69bf5319-5737-4ca4-a692-9f72049e08c3\" type=\"checkbox\" ><label class=\"sk-toggleable__label\" for=\"69bf5319-5737-4ca4-a692-9f72049e08c3\">columntransformer: ColumnTransformer</label><div class=\"sk-toggleable__content\"><pre>ColumnTransformer(remainder='passthrough',\n",
       "                  transformers=[('onehotencoder', OneHotEncoder(sparse=False),\n",
       "                                 ['Vehicle Class', 'Fuel Type',\n",
       "                                  'TransmissionMode'])])</pre></div></div></div><div class=\"sk-parallel\"><div class=\"sk-parallel-item\"><div class=\"sk-item\"><div class=\"sk-label-container\"><div class=\"sk-label sk-toggleable\"><input class=\"sk-toggleable__control sk-hidden--visually\" id=\"78b26997-c1b3-4d38-9506-653e1152ac0e\" type=\"checkbox\" ><label class=\"sk-toggleable__label\" for=\"78b26997-c1b3-4d38-9506-653e1152ac0e\">onehotencoder</label><div class=\"sk-toggleable__content\"><pre>['Vehicle Class', 'Fuel Type', 'TransmissionMode']</pre></div></div></div><div class=\"sk-serial\"><div class=\"sk-item\"><div class=\"sk-estimator sk-toggleable\"><input class=\"sk-toggleable__control sk-hidden--visually\" id=\"3eb48476-9f46-491c-b9d3-04ce07f588fc\" type=\"checkbox\" ><label class=\"sk-toggleable__label\" for=\"3eb48476-9f46-491c-b9d3-04ce07f588fc\">OneHotEncoder</label><div class=\"sk-toggleable__content\"><pre>OneHotEncoder(sparse=False)</pre></div></div></div></div></div></div><div class=\"sk-parallel-item\"><div class=\"sk-item\"><div class=\"sk-label-container\"><div class=\"sk-label sk-toggleable\"><input class=\"sk-toggleable__control sk-hidden--visually\" id=\"3a8ce0a0-f0b6-4ab7-a7a3-959b09cbc3d3\" type=\"checkbox\" ><label class=\"sk-toggleable__label\" for=\"3a8ce0a0-f0b6-4ab7-a7a3-959b09cbc3d3\">remainder</label><div class=\"sk-toggleable__content\"><pre>['Engine Size(L)', 'Cylinders', 'Fuel Consumption City (L/100 km)', 'Fuel Consumption Hwy (L/100 km)', 'Gears']</pre></div></div></div><div class=\"sk-serial\"><div class=\"sk-item\"><div class=\"sk-estimator sk-toggleable\"><input class=\"sk-toggleable__control sk-hidden--visually\" id=\"a4dbfeb5-db2f-459e-bee2-314b8d01700f\" type=\"checkbox\" ><label class=\"sk-toggleable__label\" for=\"a4dbfeb5-db2f-459e-bee2-314b8d01700f\">passthrough</label><div class=\"sk-toggleable__content\"><pre>passthrough</pre></div></div></div></div></div></div></div></div><div class=\"sk-item\"><div class=\"sk-estimator sk-toggleable\"><input class=\"sk-toggleable__control sk-hidden--visually\" id=\"ceeecf49-c794-435e-aabe-37252612929a\" type=\"checkbox\" ><label class=\"sk-toggleable__label\" for=\"ceeecf49-c794-435e-aabe-37252612929a\">KNNImputer</label><div class=\"sk-toggleable__content\"><pre>KNNImputer()</pre></div></div></div><div class=\"sk-item\"><div class=\"sk-estimator sk-toggleable\"><input class=\"sk-toggleable__control sk-hidden--visually\" id=\"a7687593-3491-47da-9aab-3e68a2a05f65\" type=\"checkbox\" ><label class=\"sk-toggleable__label\" for=\"a7687593-3491-47da-9aab-3e68a2a05f65\">StandardScaler</label><div class=\"sk-toggleable__content\"><pre>StandardScaler()</pre></div></div></div><div class=\"sk-item\"><div class=\"sk-estimator sk-toggleable\"><input class=\"sk-toggleable__control sk-hidden--visually\" id=\"1057905d-7210-48d2-8102-d9685d0d8207\" type=\"checkbox\" ><label class=\"sk-toggleable__label\" for=\"1057905d-7210-48d2-8102-d9685d0d8207\">LinearRegression</label><div class=\"sk-toggleable__content\"><pre>LinearRegression()</pre></div></div></div></div></div></div></div>"
      ],
      "text/plain": [
       "Pipeline(steps=[('columntransformer',\n",
       "                 ColumnTransformer(remainder='passthrough',\n",
       "                                   transformers=[('onehotencoder',\n",
       "                                                  OneHotEncoder(sparse=False),\n",
       "                                                  ['Vehicle Class', 'Fuel Type',\n",
       "                                                   'TransmissionMode'])])),\n",
       "                ('knnimputer', KNNImputer()),\n",
       "                ('standardscaler', StandardScaler()),\n",
       "                ('linearregression', LinearRegression())])"
      ]
     },
     "execution_count": 113,
     "metadata": {},
     "output_type": "execute_result"
    }
   ],
   "source": [
    "pipe1 = make_pipeline(oneHotEncoder, KNNImputer(), StandardScaler(), LinearRegression())\n",
    "pipe1"
   ]
  },
  {
   "cell_type": "code",
   "execution_count": 28,
   "metadata": {
    "id": "-wUn4znkWMVu"
   },
   "outputs": [],
   "source": [
    "# Helper to get data from datafram\n",
    "def get_data_1(df):\n",
    "    frame = df.copy()\n",
    "    y = frame['CO2 Emissions(g/km)']\n",
    "    X = frame.drop(labels=['CO2 Emissions(g/km)'], axis=1)\n",
    "    X['Cylinders'] = X['Cylinders'].astype('int')\n",
    "    X['Gears'] = X['Gears'].astype('int')\n",
    "    X['Gears'].replace({0:np.nan}, inplace=True)\n",
    "    return X,y"
   ]
  },
  {
   "cell_type": "markdown",
   "metadata": {
    "id": "LbJw0o7uVbJb"
   },
   "source": [
    "1. Splitting data into test and train in 0.2 ratio\n",
    "2. Fit the pipeline\n",
    "3. r2 score of train and test data"
   ]
  },
  {
   "cell_type": "code",
   "execution_count": 29,
   "metadata": {
    "colab": {
     "base_uri": "https://localhost:8080/"
    },
    "id": "6_zexVsNWMVu",
    "outputId": "2ea62b8f-f2d1-4fa2-f8e8-f4bc0dabc455"
   },
   "outputs": [
    {
     "data": {
      "text/plain": [
       "(0.9918649049768482, 0.9921054799730065)"
      ]
     },
     "execution_count": 29,
     "metadata": {},
     "output_type": "execute_result"
    }
   ],
   "source": [
    "X_train, X_test, y_train, y_test = train_test_split(*get_data_1(df), test_size=0.2, random_state=42)\n",
    "pipe1.fit(X_train, y_train)\n",
    "r2_score(y_train, pipe1.predict(X_train)), r2_score(y_test, pipe1.predict(X_test))"
   ]
  },
  {
   "cell_type": "markdown",
   "metadata": {
    "id": "GeNp2I76VsDX"
   },
   "source": [
    "Draw box plots to see outliers"
   ]
  },
  {
   "cell_type": "code",
   "execution_count": 68,
   "metadata": {
    "id": "CWH0d365WMVu"
   },
   "outputs": [],
   "source": [
    "def draw_box_plots(df, cols):\n",
    "    fig, axes = plt.subplots(int(np.ceil(len(cols)/3)),3, figsize=(15,8))\n",
    "    axes = axes.ravel()\n",
    "    for i, col in enumerate(cols):\n",
    "        ax = axes[i]\n",
    "        sns.boxplot(data=df, y = col, ax=ax)"
   ]
  },
  {
   "cell_type": "code",
   "execution_count": 31,
   "metadata": {
    "id": "qz4eWdDjWMVv"
   },
   "outputs": [],
   "source": [
    "outlier_cols = ['Fuel Consumption City (L/100 km)', 'Fuel Consumption Hwy (L/100 km)','Engine Size(L)']"
   ]
  },
  {
   "cell_type": "code",
   "execution_count": 69,
   "metadata": {
    "id": "Um4AvjO1WMVv"
   },
   "outputs": [
    {
     "data": {
      "image/png": "[encoded data removed]",
      "text/plain": [
       "<Figure size 1080x576 with 3 Axes>"
      ]
     },
     "metadata": {
      "needs_background": "light"
     },
     "output_type": "display_data"
    }
   ],
   "source": [
    "draw_box_plots(df, outlier_cols)"
   ]
  },
  {
   "cell_type": "code",
   "execution_count": 33,
   "metadata": {
    "id": "z9iA28sCWMVv"
   },
   "outputs": [],
   "source": [
    "# helper to treat outliers\n",
    "def treat_outliers(df, cols, factor = 1.5):\n",
    "    frame = df.copy()\n",
    "    for col in cols:\n",
    "        series = frame[col]\n",
    "        q1 = series.quantile(0.25)\n",
    "        q3 = series.quantile(0.75)\n",
    "        iqr = q3 - q1\n",
    "        smin = q1 - factor * iqr\n",
    "        smax = q3 + factor * iqr\n",
    "        frame.loc[series < smin, col] = smin\n",
    "        frame.loc[series > smax, col] = smax\n",
    "    return frame"
   ]
  },
  {
   "cell_type": "markdown",
   "metadata": {
    "id": "j986tH04V3Eg"
   },
   "source": [
    "1. Treat outliers with ratio of 1.5 IQR \n",
    "2. Splitting data into test and train in 0.2 ratio\n",
    "3. Fit the pipeline\n",
    "4. r2 score of train and test data"
   ]
  },
  {
   "cell_type": "code",
   "execution_count": 70,
   "metadata": {
    "id": "fbv2A71cWMVv"
   },
   "outputs": [
    {
     "data": {
      "image/png": "[encoded data removed]",
      "text/plain": [
       "<Figure size 1080x576 with 3 Axes>"
      ]
     },
     "metadata": {
      "needs_background": "light"
     },
     "output_type": "display_data"
    }
   ],
   "source": [
    "df_without_outliers = treat_outliers(df, outlier_cols)\n",
    "draw_box_plots(df_without_outliers, outlier_cols)"
   ]
  },
  {
   "cell_type": "code",
   "execution_count": 35,
   "metadata": {
    "colab": {
     "base_uri": "https://localhost:8080/"
    },
    "id": "v71SoYd-WMVv",
    "outputId": "13a0648f-1d53-48d8-b4a2-764766aa8b3b"
   },
   "outputs": [
    {
     "data": {
      "text/plain": [
       "(0.9905351624848721, 0.9891427732029083)"
      ]
     },
     "execution_count": 35,
     "metadata": {},
     "output_type": "execute_result"
    }
   ],
   "source": [
    "X_train, X_test, y_train, y_test = train_test_split(*get_data_1(df_without_outliers), test_size=0.2, random_state=42)\n",
    "pipe1.fit(X_train, y_train)\n",
    "r2_score(y_train, pipe1.predict(X_train)), r2_score(y_test, pipe1.predict(X_test))"
   ]
  },
  {
   "cell_type": "markdown",
   "metadata": {
    "id": "-51SOx7UWEZ4"
   },
   "source": [
    "1. Treat outliers with ratio of 3 IQR \n",
    "2. Splitting data into test and train in 0.2 ratio\n",
    "3. Fit the pipeline\n",
    "4. r2 score of train and test data"
   ]
  },
  {
   "cell_type": "code",
   "execution_count": 71,
   "metadata": {
    "id": "VHRK7WKSWMVv"
   },
   "outputs": [
    {
     "data": {
      "image/png": "[encoded data removed]",
      "text/plain": [
       "<Figure size 1080x576 with 3 Axes>"
      ]
     },
     "metadata": {
      "needs_background": "light"
     },
     "output_type": "display_data"
    }
   ],
   "source": [
    "df_without_outliers_1 = treat_outliers(df, outlier_cols,3)\n",
    "draw_box_plots(df_without_outliers_1, outlier_cols)"
   ]
  },
  {
   "cell_type": "code",
   "execution_count": 37,
   "metadata": {
    "colab": {
     "base_uri": "https://localhost:8080/"
    },
    "id": "R9F0fIZMWMVv",
    "outputId": "e6e1c618-7886-4545-8614-013a095760f1"
   },
   "outputs": [
    {
     "data": {
      "text/plain": [
       "(0.993141715472525, 0.9931173786066354)"
      ]
     },
     "execution_count": 37,
     "metadata": {},
     "output_type": "execute_result"
    }
   ],
   "source": [
    "X_train, X_test, y_train, y_test = train_test_split(*get_data_1(df_without_outliers_1), test_size=0.2, random_state=42)\n",
    "pipe1.fit(X_train, y_train)\n",
    "r2_score(y_train, pipe1.predict(X_train)), r2_score(y_test, pipe1.predict(X_test))"
   ]
  },
  {
   "cell_type": "markdown",
   "metadata": {
    "id": "j3cnIOgSWxiL"
   },
   "source": [
    "### Second Pipeline\n",
    "Same as first pipeline with Forward Sequential Feature Selection with cross vaildation of 10 splits"
   ]
  },
  {
   "cell_type": "code",
   "execution_count": 114,
   "metadata": {
    "colab": {
     "base_uri": "https://localhost:8080/",
     "height": 295
    },
    "id": "YLrLfL54WMVv",
    "outputId": "fa57a153-82b6-43a9-b4f5-987216fe8944"
   },
   "outputs": [
    {
     "data": {
      "text/html": [
       "<style>div.sk-top-container {color: black;background-color: white;}div.sk-toggleable {background-color: white;}label.sk-toggleable__label {cursor: pointer;display: block;width: 100%;margin-bottom: 0;padding: 0.2em 0.3em;box-sizing: border-box;text-align: center;}div.sk-toggleable__content {max-height: 0;max-width: 0;overflow: hidden;text-align: left;background-color: #f0f8ff;}div.sk-toggleable__content pre {margin: 0.2em;color: black;border-radius: 0.25em;background-color: #f0f8ff;}input.sk-toggleable__control:checked~div.sk-toggleable__content {max-height: 200px;max-width: 100%;overflow: auto;}div.sk-estimator input.sk-toggleable__control:checked~label.sk-toggleable__label {background-color: #d4ebff;}div.sk-label input.sk-toggleable__control:checked~label.sk-toggleable__label {background-color: #d4ebff;}input.sk-hidden--visually {border: 0;clip: rect(1px 1px 1px 1px);clip: rect(1px, 1px, 1px, 1px);height: 1px;margin: -1px;overflow: hidden;padding: 0;position: absolute;width: 1px;}div.sk-estimator {font-family: monospace;background-color: #f0f8ff;margin: 0.25em 0.25em;border: 1px dotted black;border-radius: 0.25em;box-sizing: border-box;}div.sk-estimator:hover {background-color: #d4ebff;}div.sk-parallel-item::after {content: \"\";width: 100%;border-bottom: 1px solid gray;flex-grow: 1;}div.sk-label:hover label.sk-toggleable__label {background-color: #d4ebff;}div.sk-serial::before {content: \"\";position: absolute;border-left: 1px solid gray;box-sizing: border-box;top: 2em;bottom: 0;left: 50%;}div.sk-serial {display: flex;flex-direction: column;align-items: center;background-color: white;}div.sk-item {z-index: 1;}div.sk-parallel {display: flex;align-items: stretch;justify-content: center;background-color: white;}div.sk-parallel-item {display: flex;flex-direction: column;position: relative;background-color: white;}div.sk-parallel-item:first-child::after {align-self: flex-end;width: 50%;}div.sk-parallel-item:last-child::after {align-self: flex-start;width: 50%;}div.sk-parallel-item:only-child::after {width: 0;}div.sk-dashed-wrapped {border: 1px dashed gray;margin: 0.2em;box-sizing: border-box;padding-bottom: 0.1em;background-color: white;position: relative;}div.sk-label label {font-family: monospace;font-weight: bold;background-color: white;display: inline-block;line-height: 1.2em;}div.sk-label-container {position: relative;z-index: 2;text-align: center;}div.sk-container {display: inline-block;position: relative;}</style><div class=\"sk-top-container\"><div class=\"sk-container\"><div class=\"sk-item sk-dashed-wrapped\"><div class=\"sk-label-container\"><div class=\"sk-label sk-toggleable\"><input class=\"sk-toggleable__control sk-hidden--visually\" id=\"d2343ee1-f59f-4edf-a690-82008cc048cc\" type=\"checkbox\" ><label class=\"sk-toggleable__label\" for=\"d2343ee1-f59f-4edf-a690-82008cc048cc\">Pipeline</label><div class=\"sk-toggleable__content\"><pre>Pipeline(steps=[('columntransformer',\n",
       "                 ColumnTransformer(remainder='passthrough',\n",
       "                                   transformers=[('onehotencoder',\n",
       "                                                  OneHotEncoder(sparse=False),\n",
       "                                                  ['Vehicle Class', 'Fuel Type',\n",
       "                                                   'TransmissionMode'])])),\n",
       "                ('knnimputer', KNNImputer()),\n",
       "                ('standardscaler', StandardScaler()),\n",
       "                ('sequentialfeatureselector',\n",
       "                 SequentialFeatureSelector(cv=10, estimator=LinearRegression(),\n",
       "                                           n_features_to_select=15,\n",
       "                                           scoring='r2')),\n",
       "                ('linearregression', LinearRegression())])</pre></div></div></div><div class=\"sk-serial\"><div class=\"sk-item sk-dashed-wrapped\"><div class=\"sk-label-container\"><div class=\"sk-label sk-toggleable\"><input class=\"sk-toggleable__control sk-hidden--visually\" id=\"4e8eecbd-ed68-4225-ac2b-074ac5624238\" type=\"checkbox\" ><label class=\"sk-toggleable__label\" for=\"4e8eecbd-ed68-4225-ac2b-074ac5624238\">columntransformer: ColumnTransformer</label><div class=\"sk-toggleable__content\"><pre>ColumnTransformer(remainder='passthrough',\n",
       "                  transformers=[('onehotencoder', OneHotEncoder(sparse=False),\n",
       "                                 ['Vehicle Class', 'Fuel Type',\n",
       "                                  'TransmissionMode'])])</pre></div></div></div><div class=\"sk-parallel\"><div class=\"sk-parallel-item\"><div class=\"sk-item\"><div class=\"sk-label-container\"><div class=\"sk-label sk-toggleable\"><input class=\"sk-toggleable__control sk-hidden--visually\" id=\"21145e4a-41fa-46a9-911e-5d5d7877943d\" type=\"checkbox\" ><label class=\"sk-toggleable__label\" for=\"21145e4a-41fa-46a9-911e-5d5d7877943d\">onehotencoder</label><div class=\"sk-toggleable__content\"><pre>['Vehicle Class', 'Fuel Type', 'TransmissionMode']</pre></div></div></div><div class=\"sk-serial\"><div class=\"sk-item\"><div class=\"sk-estimator sk-toggleable\"><input class=\"sk-toggleable__control sk-hidden--visually\" id=\"61127d32-2421-40d0-a613-06c18a3843f3\" type=\"checkbox\" ><label class=\"sk-toggleable__label\" for=\"61127d32-2421-40d0-a613-06c18a3843f3\">OneHotEncoder</label><div class=\"sk-toggleable__content\"><pre>OneHotEncoder(sparse=False)</pre></div></div></div></div></div></div><div class=\"sk-parallel-item\"><div class=\"sk-item\"><div class=\"sk-label-container\"><div class=\"sk-label sk-toggleable\"><input class=\"sk-toggleable__control sk-hidden--visually\" id=\"910a4fd5-7bac-42d1-a935-b8b8124d4d89\" type=\"checkbox\" ><label class=\"sk-toggleable__label\" for=\"910a4fd5-7bac-42d1-a935-b8b8124d4d89\">remainder</label><div class=\"sk-toggleable__content\"><pre>['Engine Size(L)', 'Cylinders', 'Fuel Consumption City (L/100 km)', 'Fuel Consumption Hwy (L/100 km)', 'Gears']</pre></div></div></div><div class=\"sk-serial\"><div class=\"sk-item\"><div class=\"sk-estimator sk-toggleable\"><input class=\"sk-toggleable__control sk-hidden--visually\" id=\"8a911425-caf3-4e0e-9662-5049ac8e57b3\" type=\"checkbox\" ><label class=\"sk-toggleable__label\" for=\"8a911425-caf3-4e0e-9662-5049ac8e57b3\">passthrough</label><div class=\"sk-toggleable__content\"><pre>passthrough</pre></div></div></div></div></div></div></div></div><div class=\"sk-item\"><div class=\"sk-estimator sk-toggleable\"><input class=\"sk-toggleable__control sk-hidden--visually\" id=\"5ec6ab5f-2edc-4f56-84c2-d6e6a7b1cbe4\" type=\"checkbox\" ><label class=\"sk-toggleable__label\" for=\"5ec6ab5f-2edc-4f56-84c2-d6e6a7b1cbe4\">KNNImputer</label><div class=\"sk-toggleable__content\"><pre>KNNImputer()</pre></div></div></div><div class=\"sk-item\"><div class=\"sk-estimator sk-toggleable\"><input class=\"sk-toggleable__control sk-hidden--visually\" id=\"13f6965f-d6c4-4913-828c-ac0f0f56a9bb\" type=\"checkbox\" ><label class=\"sk-toggleable__label\" for=\"13f6965f-d6c4-4913-828c-ac0f0f56a9bb\">StandardScaler</label><div class=\"sk-toggleable__content\"><pre>StandardScaler()</pre></div></div></div><div class=\"sk-item sk-dashed-wrapped\"><div class=\"sk-label-container\"><div class=\"sk-label sk-toggleable\"><input class=\"sk-toggleable__control sk-hidden--visually\" id=\"c1ba254e-c73e-4309-a5d8-825095e3fd57\" type=\"checkbox\" ><label class=\"sk-toggleable__label\" for=\"c1ba254e-c73e-4309-a5d8-825095e3fd57\">sequentialfeatureselector: SequentialFeatureSelector</label><div class=\"sk-toggleable__content\"><pre>SequentialFeatureSelector(cv=10, estimator=LinearRegression(),\n",
       "                          n_features_to_select=15, scoring='r2')</pre></div></div></div><div class=\"sk-parallel\"><div class=\"sk-parallel-item\"><div class=\"sk-item\"><div class=\"sk-serial\"><div class=\"sk-item\"><div class=\"sk-estimator sk-toggleable\"><input class=\"sk-toggleable__control sk-hidden--visually\" id=\"4e911680-2754-4657-84e9-4f4b951bbef1\" type=\"checkbox\" ><label class=\"sk-toggleable__label\" for=\"4e911680-2754-4657-84e9-4f4b951bbef1\">LinearRegression</label><div class=\"sk-toggleable__content\"><pre>LinearRegression()</pre></div></div></div></div></div></div></div></div><div class=\"sk-item\"><div class=\"sk-estimator sk-toggleable\"><input class=\"sk-toggleable__control sk-hidden--visually\" id=\"8e4d35d5-1098-4dec-bbef-65d827149f34\" type=\"checkbox\" ><label class=\"sk-toggleable__label\" for=\"8e4d35d5-1098-4dec-bbef-65d827149f34\">LinearRegression</label><div class=\"sk-toggleable__content\"><pre>LinearRegression()</pre></div></div></div></div></div></div></div>"
      ],
      "text/plain": [
       "Pipeline(steps=[('columntransformer',\n",
       "                 ColumnTransformer(remainder='passthrough',\n",
       "                                   transformers=[('onehotencoder',\n",
       "                                                  OneHotEncoder(sparse=False),\n",
       "                                                  ['Vehicle Class', 'Fuel Type',\n",
       "                                                   'TransmissionMode'])])),\n",
       "                ('knnimputer', KNNImputer()),\n",
       "                ('standardscaler', StandardScaler()),\n",
       "                ('sequentialfeatureselector',\n",
       "                 SequentialFeatureSelector(cv=10, estimator=LinearRegression(),\n",
       "                                           n_features_to_select=15,\n",
       "                                           scoring='r2')),\n",
       "                ('linearregression', LinearRegression())])"
      ]
     },
     "execution_count": 114,
     "metadata": {},
     "output_type": "execute_result"
    }
   ],
   "source": [
    "pipe2 = make_pipeline(\n",
    "    oneHotEncoder, \n",
    "    KNNImputer(), \n",
    "    StandardScaler(),\n",
    "    SequentialFeatureSelector(LinearRegression(), n_features_to_select=15, scoring='r2', cv=10,),\n",
    "    LinearRegression(),\n",
    ")\n",
    "pipe2"
   ]
  },
  {
   "cell_type": "markdown",
   "metadata": {
    "id": "Myu6zEJRXFx1"
   },
   "source": [
    "1. Splitting data into test and train in 0.2 ratio\n",
    "2. Fit the pipeline\n",
    "3. r2 score of train and test data"
   ]
  },
  {
   "cell_type": "code",
   "execution_count": 39,
   "metadata": {
    "colab": {
     "base_uri": "https://localhost:8080/"
    },
    "id": "c3Bh80LoWMVv",
    "outputId": "d942c2cc-14a3-43f3-fdf9-7fd03eb6d6f6"
   },
   "outputs": [
    {
     "data": {
      "text/plain": [
       "(0.9931193059657089, 0.9930998524879353)"
      ]
     },
     "execution_count": 39,
     "metadata": {},
     "output_type": "execute_result"
    }
   ],
   "source": [
    "X_train, X_test, y_train, y_test = train_test_split(*get_data_1(df_without_outliers_1), test_size=0.2, random_state=42)\n",
    "pipe2.fit(X_train, y_train)\n",
    "r2_score(y_train, pipe2.predict(X_train)), r2_score(y_test, pipe2.predict(X_test))"
   ]
  },
  {
   "cell_type": "markdown",
   "metadata": {
    "id": "oZnIeJqFXMZa"
   },
   "source": [
    "### Model 3\n",
    "\n",
    "Same as above model replaced LinearRegression with SGD"
   ]
  },
  {
   "cell_type": "code",
   "execution_count": 40,
   "metadata": {
    "colab": {
     "base_uri": "https://localhost:8080/",
     "height": 306
    },
    "id": "bKxhj5S3ZXwe",
    "outputId": "26f3e47d-c0f3-473d-f69f-1a623315b98d"
   },
   "outputs": [
    {
     "data": {
      "text/html": [
       "<style>div.sk-top-container {color: black;background-color: white;}div.sk-toggleable {background-color: white;}label.sk-toggleable__label {cursor: pointer;display: block;width: 100%;margin-bottom: 0;padding: 0.2em 0.3em;box-sizing: border-box;text-align: center;}div.sk-toggleable__content {max-height: 0;max-width: 0;overflow: hidden;text-align: left;background-color: #f0f8ff;}div.sk-toggleable__content pre {margin: 0.2em;color: black;border-radius: 0.25em;background-color: #f0f8ff;}input.sk-toggleable__control:checked~div.sk-toggleable__content {max-height: 200px;max-width: 100%;overflow: auto;}div.sk-estimator input.sk-toggleable__control:checked~label.sk-toggleable__label {background-color: #d4ebff;}div.sk-label input.sk-toggleable__control:checked~label.sk-toggleable__label {background-color: #d4ebff;}input.sk-hidden--visually {border: 0;clip: rect(1px 1px 1px 1px);clip: rect(1px, 1px, 1px, 1px);height: 1px;margin: -1px;overflow: hidden;padding: 0;position: absolute;width: 1px;}div.sk-estimator {font-family: monospace;background-color: #f0f8ff;margin: 0.25em 0.25em;border: 1px dotted black;border-radius: 0.25em;box-sizing: border-box;}div.sk-estimator:hover {background-color: #d4ebff;}div.sk-parallel-item::after {content: \"\";width: 100%;border-bottom: 1px solid gray;flex-grow: 1;}div.sk-label:hover label.sk-toggleable__label {background-color: #d4ebff;}div.sk-serial::before {content: \"\";position: absolute;border-left: 1px solid gray;box-sizing: border-box;top: 2em;bottom: 0;left: 50%;}div.sk-serial {display: flex;flex-direction: column;align-items: center;background-color: white;}div.sk-item {z-index: 1;}div.sk-parallel {display: flex;align-items: stretch;justify-content: center;background-color: white;}div.sk-parallel-item {display: flex;flex-direction: column;position: relative;background-color: white;}div.sk-parallel-item:first-child::after {align-self: flex-end;width: 50%;}div.sk-parallel-item:last-child::after {align-self: flex-start;width: 50%;}div.sk-parallel-item:only-child::after {width: 0;}div.sk-dashed-wrapped {border: 1px dashed gray;margin: 0.2em;box-sizing: border-box;padding-bottom: 0.1em;background-color: white;position: relative;}div.sk-label label {font-family: monospace;font-weight: bold;background-color: white;display: inline-block;line-height: 1.2em;}div.sk-label-container {position: relative;z-index: 2;text-align: center;}div.sk-container {display: inline-block;position: relative;}</style><div class=\"sk-top-container\"><div class=\"sk-container\"><div class=\"sk-item sk-dashed-wrapped\"><div class=\"sk-label-container\"><div class=\"sk-label sk-toggleable\"><input class=\"sk-toggleable__control sk-hidden--visually\" id=\"67995114-6e55-443e-8969-cad103a36be3\" type=\"checkbox\" ><label class=\"sk-toggleable__label\" for=\"67995114-6e55-443e-8969-cad103a36be3\">Pipeline</label><div class=\"sk-toggleable__content\"><pre>Pipeline(steps=[('columntransformer',\n",
       "                 ColumnTransformer(remainder='passthrough',\n",
       "                                   transformers=[('onehotencoder',\n",
       "                                                  OneHotEncoder(sparse=False),\n",
       "                                                  ['Vehicle Class', 'Fuel Type',\n",
       "                                                   'TransmissionMode'])])),\n",
       "                ('knnimputer', KNNImputer()),\n",
       "                ('standardscaler', StandardScaler()),\n",
       "                ('sgdregressor',\n",
       "                 SGDRegressor(early_stopping=True, random_state=42,\n",
       "                              validation_fraction=0.001))])</pre></div></div></div><div class=\"sk-serial\"><div class=\"sk-item sk-dashed-wrapped\"><div class=\"sk-label-container\"><div class=\"sk-label sk-toggleable\"><input class=\"sk-toggleable__control sk-hidden--visually\" id=\"0b01a8f6-4444-40bf-a6e2-0f50d7670838\" type=\"checkbox\" ><label class=\"sk-toggleable__label\" for=\"0b01a8f6-4444-40bf-a6e2-0f50d7670838\">columntransformer: ColumnTransformer</label><div class=\"sk-toggleable__content\"><pre>ColumnTransformer(remainder='passthrough',\n",
       "                  transformers=[('onehotencoder', OneHotEncoder(sparse=False),\n",
       "                                 ['Vehicle Class', 'Fuel Type',\n",
       "                                  'TransmissionMode'])])</pre></div></div></div><div class=\"sk-parallel\"><div class=\"sk-parallel-item\"><div class=\"sk-item\"><div class=\"sk-label-container\"><div class=\"sk-label sk-toggleable\"><input class=\"sk-toggleable__control sk-hidden--visually\" id=\"a322bc20-fdea-458c-be65-8e6ac5953b78\" type=\"checkbox\" ><label class=\"sk-toggleable__label\" for=\"a322bc20-fdea-458c-be65-8e6ac5953b78\">onehotencoder</label><div class=\"sk-toggleable__content\"><pre>['Vehicle Class', 'Fuel Type', 'TransmissionMode']</pre></div></div></div><div class=\"sk-serial\"><div class=\"sk-item\"><div class=\"sk-estimator sk-toggleable\"><input class=\"sk-toggleable__control sk-hidden--visually\" id=\"562f94f0-22e5-4d7a-9585-3d8cc9b40cdc\" type=\"checkbox\" ><label class=\"sk-toggleable__label\" for=\"562f94f0-22e5-4d7a-9585-3d8cc9b40cdc\">OneHotEncoder</label><div class=\"sk-toggleable__content\"><pre>OneHotEncoder(sparse=False)</pre></div></div></div></div></div></div><div class=\"sk-parallel-item\"><div class=\"sk-item\"><div class=\"sk-label-container\"><div class=\"sk-label sk-toggleable\"><input class=\"sk-toggleable__control sk-hidden--visually\" id=\"efb81820-b42d-4a1c-b752-e498e6ecc63f\" type=\"checkbox\" ><label class=\"sk-toggleable__label\" for=\"efb81820-b42d-4a1c-b752-e498e6ecc63f\">remainder</label><div class=\"sk-toggleable__content\"><pre>['Engine Size(L)', 'Cylinders', 'Fuel Consumption City (L/100 km)', 'Fuel Consumption Hwy (L/100 km)', 'Gears']</pre></div></div></div><div class=\"sk-serial\"><div class=\"sk-item\"><div class=\"sk-estimator sk-toggleable\"><input class=\"sk-toggleable__control sk-hidden--visually\" id=\"fe79ddd1-fa63-4c85-87c0-31e3fe1e012a\" type=\"checkbox\" ><label class=\"sk-toggleable__label\" for=\"fe79ddd1-fa63-4c85-87c0-31e3fe1e012a\">passthrough</label><div class=\"sk-toggleable__content\"><pre>passthrough</pre></div></div></div></div></div></div></div></div><div class=\"sk-item\"><div class=\"sk-estimator sk-toggleable\"><input class=\"sk-toggleable__control sk-hidden--visually\" id=\"66ab4f46-15b0-4af3-b04a-7a0d4cf1182f\" type=\"checkbox\" ><label class=\"sk-toggleable__label\" for=\"66ab4f46-15b0-4af3-b04a-7a0d4cf1182f\">KNNImputer</label><div class=\"sk-toggleable__content\"><pre>KNNImputer()</pre></div></div></div><div class=\"sk-item\"><div class=\"sk-estimator sk-toggleable\"><input class=\"sk-toggleable__control sk-hidden--visually\" id=\"ff0690a8-2a93-4ea5-beb4-a9b29c31bdd3\" type=\"checkbox\" ><label class=\"sk-toggleable__label\" for=\"ff0690a8-2a93-4ea5-beb4-a9b29c31bdd3\">StandardScaler</label><div class=\"sk-toggleable__content\"><pre>StandardScaler()</pre></div></div></div><div class=\"sk-item\"><div class=\"sk-estimator sk-toggleable\"><input class=\"sk-toggleable__control sk-hidden--visually\" id=\"cf6d5948-0952-495c-8958-4d043a48ee3f\" type=\"checkbox\" ><label class=\"sk-toggleable__label\" for=\"cf6d5948-0952-495c-8958-4d043a48ee3f\">SGDRegressor</label><div class=\"sk-toggleable__content\"><pre>SGDRegressor(early_stopping=True, random_state=42, validation_fraction=0.001)</pre></div></div></div></div></div></div></div>"
      ],
      "text/plain": [
       "Pipeline(steps=[('columntransformer',\n",
       "                 ColumnTransformer(remainder='passthrough',\n",
       "                                   transformers=[('onehotencoder',\n",
       "                                                  OneHotEncoder(sparse=False),\n",
       "                                                  ['Vehicle Class', 'Fuel Type',\n",
       "                                                   'TransmissionMode'])])),\n",
       "                ('knnimputer', KNNImputer()),\n",
       "                ('standardscaler', StandardScaler()),\n",
       "                ('sgdregressor',\n",
       "                 SGDRegressor(early_stopping=True, random_state=42,\n",
       "                              validation_fraction=0.001))])"
      ]
     },
     "execution_count": 40,
     "metadata": {},
     "output_type": "execute_result"
    }
   ],
   "source": [
    "pipe3 = make_pipeline(\n",
    "    oneHotEncoder, \n",
    "    KNNImputer(), \n",
    "    StandardScaler(),\n",
    "    SGDRegressor(\n",
    "        loss='squared_loss', \n",
    "        alpha=0.0001, \n",
    "        max_iter=1000, \n",
    "        epsilon=0.1, \n",
    "        random_state=42, \n",
    "        early_stopping=True,\n",
    "        validation_fraction = 0.001,\n",
    "        verbose=0,\n",
    "    ),\n",
    ")\n",
    "pipe3"
   ]
  },
  {
   "cell_type": "markdown",
   "metadata": {
    "id": "XKtitoLOXjQ7"
   },
   "source": [
    "1. Splitting data into test and train in 0.2 ratio\n",
    "2. Fit the pipeline\n",
    "3. r2 score of train and test data"
   ]
  },
  {
   "cell_type": "code",
   "execution_count": 41,
   "metadata": {
    "colab": {
     "base_uri": "https://localhost:8080/"
    },
    "id": "Gw1BOdH9bT15",
    "outputId": "1097f8f7-c33f-4fe3-998e-e574bd04597c"
   },
   "outputs": [
    {
     "data": {
      "text/plain": [
       "(0.9930132144194436, 0.993006524983319)"
      ]
     },
     "execution_count": 41,
     "metadata": {},
     "output_type": "execute_result"
    }
   ],
   "source": [
    "X_train, X_test, y_train, y_test = train_test_split(*get_data_1(df_without_outliers_1), test_size=0.2, random_state=42)\n",
    "pipe3.fit(X_train, y_train)\n",
    "r2_score(y_train, pipe3.predict(X_train)), r2_score(y_test, pipe3.predict(X_test))"
   ]
  },
  {
   "cell_type": "markdown",
   "metadata": {
    "id": "Bah4erkxXp_E"
   },
   "source": [
    "#### Pipeline 4 \n",
    "same as pipeline 3 but used with GridSearch to select the number of features"
   ]
  },
  {
   "cell_type": "code",
   "execution_count": 42,
   "metadata": {
    "colab": {
     "base_uri": "https://localhost:8080/",
     "height": 295
    },
    "id": "Mm8ZQPdAbZNC",
    "outputId": "32cb7253-d3ba-4ff3-afc1-e344b621f60f"
   },
   "outputs": [
    {
     "data": {
      "text/html": [
       "<style>div.sk-top-container {color: black;background-color: white;}div.sk-toggleable {background-color: white;}label.sk-toggleable__label {cursor: pointer;display: block;width: 100%;margin-bottom: 0;padding: 0.2em 0.3em;box-sizing: border-box;text-align: center;}div.sk-toggleable__content {max-height: 0;max-width: 0;overflow: hidden;text-align: left;background-color: #f0f8ff;}div.sk-toggleable__content pre {margin: 0.2em;color: black;border-radius: 0.25em;background-color: #f0f8ff;}input.sk-toggleable__control:checked~div.sk-toggleable__content {max-height: 200px;max-width: 100%;overflow: auto;}div.sk-estimator input.sk-toggleable__control:checked~label.sk-toggleable__label {background-color: #d4ebff;}div.sk-label input.sk-toggleable__control:checked~label.sk-toggleable__label {background-color: #d4ebff;}input.sk-hidden--visually {border: 0;clip: rect(1px 1px 1px 1px);clip: rect(1px, 1px, 1px, 1px);height: 1px;margin: -1px;overflow: hidden;padding: 0;position: absolute;width: 1px;}div.sk-estimator {font-family: monospace;background-color: #f0f8ff;margin: 0.25em 0.25em;border: 1px dotted black;border-radius: 0.25em;box-sizing: border-box;}div.sk-estimator:hover {background-color: #d4ebff;}div.sk-parallel-item::after {content: \"\";width: 100%;border-bottom: 1px solid gray;flex-grow: 1;}div.sk-label:hover label.sk-toggleable__label {background-color: #d4ebff;}div.sk-serial::before {content: \"\";position: absolute;border-left: 1px solid gray;box-sizing: border-box;top: 2em;bottom: 0;left: 50%;}div.sk-serial {display: flex;flex-direction: column;align-items: center;background-color: white;}div.sk-item {z-index: 1;}div.sk-parallel {display: flex;align-items: stretch;justify-content: center;background-color: white;}div.sk-parallel-item {display: flex;flex-direction: column;position: relative;background-color: white;}div.sk-parallel-item:first-child::after {align-self: flex-end;width: 50%;}div.sk-parallel-item:last-child::after {align-self: flex-start;width: 50%;}div.sk-parallel-item:only-child::after {width: 0;}div.sk-dashed-wrapped {border: 1px dashed gray;margin: 0.2em;box-sizing: border-box;padding-bottom: 0.1em;background-color: white;position: relative;}div.sk-label label {font-family: monospace;font-weight: bold;background-color: white;display: inline-block;line-height: 1.2em;}div.sk-label-container {position: relative;z-index: 2;text-align: center;}div.sk-container {display: inline-block;position: relative;}</style><div class=\"sk-top-container\"><div class=\"sk-container\"><div class=\"sk-item sk-dashed-wrapped\"><div class=\"sk-label-container\"><div class=\"sk-label sk-toggleable\"><input class=\"sk-toggleable__control sk-hidden--visually\" id=\"8bfd67fe-44ba-40da-ba83-ff20efa01f86\" type=\"checkbox\" ><label class=\"sk-toggleable__label\" for=\"8bfd67fe-44ba-40da-ba83-ff20efa01f86\">Pipeline</label><div class=\"sk-toggleable__content\"><pre>Pipeline(steps=[('encoding',\n",
       "                 ColumnTransformer(remainder='passthrough',\n",
       "                                   transformers=[('onehotencoder',\n",
       "                                                  OneHotEncoder(sparse=False),\n",
       "                                                  ['Vehicle Class', 'Fuel Type',\n",
       "                                                   'TransmissionMode'])])),\n",
       "                ('imputer', KNNImputer()), ('scaling', StandardScaler()),\n",
       "                ('feature',\n",
       "                 SequentialFeatureSelector(estimator=LinearRegression(),\n",
       "                                           scoring='r2')),\n",
       "                ('regression',\n",
       "                 SGDRegressor(early_stopping=True, random_state=42,\n",
       "                              validation_fraction=0.001))])</pre></div></div></div><div class=\"sk-serial\"><div class=\"sk-item sk-dashed-wrapped\"><div class=\"sk-label-container\"><div class=\"sk-label sk-toggleable\"><input class=\"sk-toggleable__control sk-hidden--visually\" id=\"c66faa5c-d2fe-4e1f-8989-f575769fc4ca\" type=\"checkbox\" ><label class=\"sk-toggleable__label\" for=\"c66faa5c-d2fe-4e1f-8989-f575769fc4ca\">encoding: ColumnTransformer</label><div class=\"sk-toggleable__content\"><pre>ColumnTransformer(remainder='passthrough',\n",
       "                  transformers=[('onehotencoder', OneHotEncoder(sparse=False),\n",
       "                                 ['Vehicle Class', 'Fuel Type',\n",
       "                                  'TransmissionMode'])])</pre></div></div></div><div class=\"sk-parallel\"><div class=\"sk-parallel-item\"><div class=\"sk-item\"><div class=\"sk-label-container\"><div class=\"sk-label sk-toggleable\"><input class=\"sk-toggleable__control sk-hidden--visually\" id=\"4ea56e6d-db62-404f-b3e0-61986b335779\" type=\"checkbox\" ><label class=\"sk-toggleable__label\" for=\"4ea56e6d-db62-404f-b3e0-61986b335779\">onehotencoder</label><div class=\"sk-toggleable__content\"><pre>['Vehicle Class', 'Fuel Type', 'TransmissionMode']</pre></div></div></div><div class=\"sk-serial\"><div class=\"sk-item\"><div class=\"sk-estimator sk-toggleable\"><input class=\"sk-toggleable__control sk-hidden--visually\" id=\"33627c89-dd74-4c50-b8d9-f2905b048712\" type=\"checkbox\" ><label class=\"sk-toggleable__label\" for=\"33627c89-dd74-4c50-b8d9-f2905b048712\">OneHotEncoder</label><div class=\"sk-toggleable__content\"><pre>OneHotEncoder(sparse=False)</pre></div></div></div></div></div></div><div class=\"sk-parallel-item\"><div class=\"sk-item\"><div class=\"sk-label-container\"><div class=\"sk-label sk-toggleable\"><input class=\"sk-toggleable__control sk-hidden--visually\" id=\"48faa3dd-0fda-4d65-b888-ee42c19a4528\" type=\"checkbox\" ><label class=\"sk-toggleable__label\" for=\"48faa3dd-0fda-4d65-b888-ee42c19a4528\">remainder</label><div class=\"sk-toggleable__content\"><pre>['Engine Size(L)', 'Cylinders', 'Fuel Consumption City (L/100 km)', 'Fuel Consumption Hwy (L/100 km)', 'Gears']</pre></div></div></div><div class=\"sk-serial\"><div class=\"sk-item\"><div class=\"sk-estimator sk-toggleable\"><input class=\"sk-toggleable__control sk-hidden--visually\" id=\"a746cdc4-e006-41a8-8b2b-b4287a4a537e\" type=\"checkbox\" ><label class=\"sk-toggleable__label\" for=\"a746cdc4-e006-41a8-8b2b-b4287a4a537e\">passthrough</label><div class=\"sk-toggleable__content\"><pre>passthrough</pre></div></div></div></div></div></div></div></div><div class=\"sk-item\"><div class=\"sk-estimator sk-toggleable\"><input class=\"sk-toggleable__control sk-hidden--visually\" id=\"93e205b9-3aca-472c-ba1c-57bbd46de116\" type=\"checkbox\" ><label class=\"sk-toggleable__label\" for=\"93e205b9-3aca-472c-ba1c-57bbd46de116\">KNNImputer</label><div class=\"sk-toggleable__content\"><pre>KNNImputer()</pre></div></div></div><div class=\"sk-item\"><div class=\"sk-estimator sk-toggleable\"><input class=\"sk-toggleable__control sk-hidden--visually\" id=\"51ccef26-1816-4fee-84d4-a4d39768aa4f\" type=\"checkbox\" ><label class=\"sk-toggleable__label\" for=\"51ccef26-1816-4fee-84d4-a4d39768aa4f\">StandardScaler</label><div class=\"sk-toggleable__content\"><pre>StandardScaler()</pre></div></div></div><div class=\"sk-item sk-dashed-wrapped\"><div class=\"sk-label-container\"><div class=\"sk-label sk-toggleable\"><input class=\"sk-toggleable__control sk-hidden--visually\" id=\"0e70d64e-12c3-49b3-a115-7cbe3465634c\" type=\"checkbox\" ><label class=\"sk-toggleable__label\" for=\"0e70d64e-12c3-49b3-a115-7cbe3465634c\">feature: SequentialFeatureSelector</label><div class=\"sk-toggleable__content\"><pre>SequentialFeatureSelector(estimator=LinearRegression(), scoring='r2')</pre></div></div></div><div class=\"sk-parallel\"><div class=\"sk-parallel-item\"><div class=\"sk-item\"><div class=\"sk-serial\"><div class=\"sk-item\"><div class=\"sk-estimator sk-toggleable\"><input class=\"sk-toggleable__control sk-hidden--visually\" id=\"0536e3ee-6c61-468d-afa0-185ad0edc022\" type=\"checkbox\" ><label class=\"sk-toggleable__label\" for=\"0536e3ee-6c61-468d-afa0-185ad0edc022\">LinearRegression</label><div class=\"sk-toggleable__content\"><pre>LinearRegression()</pre></div></div></div></div></div></div></div></div><div class=\"sk-item\"><div class=\"sk-estimator sk-toggleable\"><input class=\"sk-toggleable__control sk-hidden--visually\" id=\"2db8c0d7-7d93-44fb-8437-64891667c3f5\" type=\"checkbox\" ><label class=\"sk-toggleable__label\" for=\"2db8c0d7-7d93-44fb-8437-64891667c3f5\">SGDRegressor</label><div class=\"sk-toggleable__content\"><pre>SGDRegressor(early_stopping=True, random_state=42, validation_fraction=0.001)</pre></div></div></div></div></div></div></div>"
      ],
      "text/plain": [
       "Pipeline(steps=[('encoding',\n",
       "                 ColumnTransformer(remainder='passthrough',\n",
       "                                   transformers=[('onehotencoder',\n",
       "                                                  OneHotEncoder(sparse=False),\n",
       "                                                  ['Vehicle Class', 'Fuel Type',\n",
       "                                                   'TransmissionMode'])])),\n",
       "                ('imputer', KNNImputer()), ('scaling', StandardScaler()),\n",
       "                ('feature',\n",
       "                 SequentialFeatureSelector(estimator=LinearRegression(),\n",
       "                                           scoring='r2')),\n",
       "                ('regression',\n",
       "                 SGDRegressor(early_stopping=True, random_state=42,\n",
       "                              validation_fraction=0.001))])"
      ]
     },
     "execution_count": 42,
     "metadata": {},
     "output_type": "execute_result"
    }
   ],
   "source": [
    "pipe4 = Pipeline([\n",
    "    ('encoding',oneHotEncoder), \n",
    "    ('imputer',KNNImputer()), \n",
    "    ('scaling',StandardScaler()),\n",
    "    ('feature',SequentialFeatureSelector(LinearRegression(), scoring='r2', cv=5)),\n",
    "    ('regression', SGDRegressor(\n",
    "        loss='squared_loss', \n",
    "        alpha=0.0001, \n",
    "        max_iter=1000, \n",
    "        epsilon=0.1, \n",
    "        random_state=42, \n",
    "        early_stopping=True,\n",
    "        validation_fraction = 0.001,\n",
    "        verbose=0,\n",
    "    )),\n",
    "], verbose=False)\n",
    "pipe4"
   ]
  },
  {
   "cell_type": "markdown",
   "metadata": {
    "id": "M3EUs3AEX1b4"
   },
   "source": [
    "#### Model 4\n",
    "Using grid search cv to find optimal number of features from (5, 27)"
   ]
  },
  {
   "cell_type": "code",
   "execution_count": 43,
   "metadata": {
    "id": "xsbZuZudeY0R"
   },
   "outputs": [],
   "source": [
    "params = {\n",
    "    'feature__n_features_to_select':list(range(5,27))\n",
    "}\n",
    "grid = GridSearchCV(pipe4, param_grid=params, scoring='r2', cv=5, verbose=5, n_jobs=4)"
   ]
  },
  {
   "cell_type": "code",
   "execution_count": 44,
   "metadata": {
    "colab": {
     "base_uri": "https://localhost:8080/",
     "height": 316
    },
    "id": "x8eWKIz8fCR6",
    "outputId": "daad6182-d273-4744-f1fe-ddd712222602"
   },
   "outputs": [
    {
     "name": "stdout",
     "output_type": "stream",
     "text": [
      "Fitting 5 folds for each of 22 candidates, totalling 110 fits\n"
     ]
    },
    {
     "data": {
      "text/html": [
       "<style>div.sk-top-container {color: black;background-color: white;}div.sk-toggleable {background-color: white;}label.sk-toggleable__label {cursor: pointer;display: block;width: 100%;margin-bottom: 0;padding: 0.2em 0.3em;box-sizing: border-box;text-align: center;}div.sk-toggleable__content {max-height: 0;max-width: 0;overflow: hidden;text-align: left;background-color: #f0f8ff;}div.sk-toggleable__content pre {margin: 0.2em;color: black;border-radius: 0.25em;background-color: #f0f8ff;}input.sk-toggleable__control:checked~div.sk-toggleable__content {max-height: 200px;max-width: 100%;overflow: auto;}div.sk-estimator input.sk-toggleable__control:checked~label.sk-toggleable__label {background-color: #d4ebff;}div.sk-label input.sk-toggleable__control:checked~label.sk-toggleable__label {background-color: #d4ebff;}input.sk-hidden--visually {border: 0;clip: rect(1px 1px 1px 1px);clip: rect(1px, 1px, 1px, 1px);height: 1px;margin: -1px;overflow: hidden;padding: 0;position: absolute;width: 1px;}div.sk-estimator {font-family: monospace;background-color: #f0f8ff;margin: 0.25em 0.25em;border: 1px dotted black;border-radius: 0.25em;box-sizing: border-box;}div.sk-estimator:hover {background-color: #d4ebff;}div.sk-parallel-item::after {content: \"\";width: 100%;border-bottom: 1px solid gray;flex-grow: 1;}div.sk-label:hover label.sk-toggleable__label {background-color: #d4ebff;}div.sk-serial::before {content: \"\";position: absolute;border-left: 1px solid gray;box-sizing: border-box;top: 2em;bottom: 0;left: 50%;}div.sk-serial {display: flex;flex-direction: column;align-items: center;background-color: white;}div.sk-item {z-index: 1;}div.sk-parallel {display: flex;align-items: stretch;justify-content: center;background-color: white;}div.sk-parallel-item {display: flex;flex-direction: column;position: relative;background-color: white;}div.sk-parallel-item:first-child::after {align-self: flex-end;width: 50%;}div.sk-parallel-item:last-child::after {align-self: flex-start;width: 50%;}div.sk-parallel-item:only-child::after {width: 0;}div.sk-dashed-wrapped {border: 1px dashed gray;margin: 0.2em;box-sizing: border-box;padding-bottom: 0.1em;background-color: white;position: relative;}div.sk-label label {font-family: monospace;font-weight: bold;background-color: white;display: inline-block;line-height: 1.2em;}div.sk-label-container {position: relative;z-index: 2;text-align: center;}div.sk-container {display: inline-block;position: relative;}</style><div class=\"sk-top-container\"><div class=\"sk-container\"><div class=\"sk-item sk-dashed-wrapped\"><div class=\"sk-label-container\"><div class=\"sk-label sk-toggleable\"><input class=\"sk-toggleable__control sk-hidden--visually\" id=\"be428962-6ffa-4b94-913d-a8d7261c4c34\" type=\"checkbox\" ><label class=\"sk-toggleable__label\" for=\"be428962-6ffa-4b94-913d-a8d7261c4c34\">GridSearchCV</label><div class=\"sk-toggleable__content\"><pre>GridSearchCV(cv=5,\n",
       "             estimator=Pipeline(steps=[('encoding',\n",
       "                                        ColumnTransformer(remainder='passthrough',\n",
       "                                                          transformers=[('onehotencoder',\n",
       "                                                                         OneHotEncoder(sparse=False),\n",
       "                                                                         ['Vehicle '\n",
       "                                                                          'Class',\n",
       "                                                                          'Fuel '\n",
       "                                                                          'Type',\n",
       "                                                                          'TransmissionMode'])])),\n",
       "                                       ('imputer', KNNImputer()),\n",
       "                                       ('scaling', StandardScaler()),\n",
       "                                       ('feature',\n",
       "                                        SequentialFeatureSelector(estimator=LinearRegression(),\n",
       "                                                                  scoring='r2')),\n",
       "                                       ('regression',\n",
       "                                        SGDRegressor(early_stopping=True,\n",
       "                                                     random_state=42,\n",
       "                                                     validation_fraction=0.001))]),\n",
       "             n_jobs=4,\n",
       "             param_grid={'feature__n_features_to_select': [5, 6, 7, 8, 9, 10,\n",
       "                                                           11, 12, 13, 14, 15,\n",
       "                                                           16, 17, 18, 19, 20,\n",
       "                                                           21, 22, 23, 24, 25,\n",
       "                                                           26]},\n",
       "             scoring='r2', verbose=5)</pre></div></div></div><div class=\"sk-parallel\"><div class=\"sk-parallel-item\"><div class=\"sk-item\"><div class=\"sk-serial\"><div class=\"sk-item\"><div class=\"sk-serial\"><div class=\"sk-item sk-dashed-wrapped\"><div class=\"sk-label-container\"><div class=\"sk-label sk-toggleable\"><input class=\"sk-toggleable__control sk-hidden--visually\" id=\"a8151cdd-41d7-4522-95a4-31d359ca2266\" type=\"checkbox\" ><label class=\"sk-toggleable__label\" for=\"a8151cdd-41d7-4522-95a4-31d359ca2266\">encoding: ColumnTransformer</label><div class=\"sk-toggleable__content\"><pre>ColumnTransformer(remainder='passthrough',\n",
       "                  transformers=[('onehotencoder', OneHotEncoder(sparse=False),\n",
       "                                 ['Vehicle Class', 'Fuel Type',\n",
       "                                  'TransmissionMode'])])</pre></div></div></div><div class=\"sk-parallel\"><div class=\"sk-parallel-item\"><div class=\"sk-item\"><div class=\"sk-label-container\"><div class=\"sk-label sk-toggleable\"><input class=\"sk-toggleable__control sk-hidden--visually\" id=\"9d6c744a-a41f-4fd8-ba7c-ca521f31c16f\" type=\"checkbox\" ><label class=\"sk-toggleable__label\" for=\"9d6c744a-a41f-4fd8-ba7c-ca521f31c16f\">onehotencoder</label><div class=\"sk-toggleable__content\"><pre>['Vehicle Class', 'Fuel Type', 'TransmissionMode']</pre></div></div></div><div class=\"sk-serial\"><div class=\"sk-item\"><div class=\"sk-estimator sk-toggleable\"><input class=\"sk-toggleable__control sk-hidden--visually\" id=\"859f6bc9-c9cc-4413-98f2-0c7e1a55c791\" type=\"checkbox\" ><label class=\"sk-toggleable__label\" for=\"859f6bc9-c9cc-4413-98f2-0c7e1a55c791\">OneHotEncoder</label><div class=\"sk-toggleable__content\"><pre>OneHotEncoder(sparse=False)</pre></div></div></div></div></div></div><div class=\"sk-parallel-item\"><div class=\"sk-item\"><div class=\"sk-label-container\"><div class=\"sk-label sk-toggleable\"><input class=\"sk-toggleable__control sk-hidden--visually\" id=\"20e767e3-9e0d-4460-9297-9f3a740ee4dd\" type=\"checkbox\" ><label class=\"sk-toggleable__label\" for=\"20e767e3-9e0d-4460-9297-9f3a740ee4dd\">remainder</label><div class=\"sk-toggleable__content\"><pre>['Engine Size(L)', 'Cylinders', 'Fuel Consumption City (L/100 km)', 'Fuel Consumption Hwy (L/100 km)', 'Gears']</pre></div></div></div><div class=\"sk-serial\"><div class=\"sk-item\"><div class=\"sk-estimator sk-toggleable\"><input class=\"sk-toggleable__control sk-hidden--visually\" id=\"3b6e7582-0ddb-4dd5-9d04-bcbaa9d1d4b5\" type=\"checkbox\" ><label class=\"sk-toggleable__label\" for=\"3b6e7582-0ddb-4dd5-9d04-bcbaa9d1d4b5\">passthrough</label><div class=\"sk-toggleable__content\"><pre>passthrough</pre></div></div></div></div></div></div></div></div><div class=\"sk-item\"><div class=\"sk-estimator sk-toggleable\"><input class=\"sk-toggleable__control sk-hidden--visually\" id=\"6c398b82-6b1a-4f99-8816-a7d1a97f4a84\" type=\"checkbox\" ><label class=\"sk-toggleable__label\" for=\"6c398b82-6b1a-4f99-8816-a7d1a97f4a84\">KNNImputer</label><div class=\"sk-toggleable__content\"><pre>KNNImputer()</pre></div></div></div><div class=\"sk-item\"><div class=\"sk-estimator sk-toggleable\"><input class=\"sk-toggleable__control sk-hidden--visually\" id=\"87926059-4225-43de-987f-025ed9e8ad1c\" type=\"checkbox\" ><label class=\"sk-toggleable__label\" for=\"87926059-4225-43de-987f-025ed9e8ad1c\">StandardScaler</label><div class=\"sk-toggleable__content\"><pre>StandardScaler()</pre></div></div></div><div class=\"sk-item sk-dashed-wrapped\"><div class=\"sk-label-container\"><div class=\"sk-label sk-toggleable\"><input class=\"sk-toggleable__control sk-hidden--visually\" id=\"49e3dc67-a2ed-468f-a761-cf67c3025253\" type=\"checkbox\" ><label class=\"sk-toggleable__label\" for=\"49e3dc67-a2ed-468f-a761-cf67c3025253\">feature: SequentialFeatureSelector</label><div class=\"sk-toggleable__content\"><pre>SequentialFeatureSelector(estimator=LinearRegression(), scoring='r2')</pre></div></div></div><div class=\"sk-parallel\"><div class=\"sk-parallel-item\"><div class=\"sk-item\"><div class=\"sk-serial\"><div class=\"sk-item\"><div class=\"sk-estimator sk-toggleable\"><input class=\"sk-toggleable__control sk-hidden--visually\" id=\"365fd56f-310b-43c8-a25d-4e5c271aaa61\" type=\"checkbox\" ><label class=\"sk-toggleable__label\" for=\"365fd56f-310b-43c8-a25d-4e5c271aaa61\">LinearRegression</label><div class=\"sk-toggleable__content\"><pre>LinearRegression()</pre></div></div></div></div></div></div></div></div><div class=\"sk-item\"><div class=\"sk-estimator sk-toggleable\"><input class=\"sk-toggleable__control sk-hidden--visually\" id=\"97b515a1-74e5-489c-8b97-0bdb0c459ba4\" type=\"checkbox\" ><label class=\"sk-toggleable__label\" for=\"97b515a1-74e5-489c-8b97-0bdb0c459ba4\">SGDRegressor</label><div class=\"sk-toggleable__content\"><pre>SGDRegressor(early_stopping=True, random_state=42, validation_fraction=0.001)</pre></div></div></div></div></div></div></div></div></div></div></div></div>"
      ],
      "text/plain": [
       "GridSearchCV(cv=5,\n",
       "             estimator=Pipeline(steps=[('encoding',\n",
       "                                        ColumnTransformer(remainder='passthrough',\n",
       "                                                          transformers=[('onehotencoder',\n",
       "                                                                         OneHotEncoder(sparse=False),\n",
       "                                                                         ['Vehicle '\n",
       "                                                                          'Class',\n",
       "                                                                          'Fuel '\n",
       "                                                                          'Type',\n",
       "                                                                          'TransmissionMode'])])),\n",
       "                                       ('imputer', KNNImputer()),\n",
       "                                       ('scaling', StandardScaler()),\n",
       "                                       ('feature',\n",
       "                                        SequentialFeatureSelector(estimator=LinearRegression(),\n",
       "                                                                  scoring='r2')),\n",
       "                                       ('regression',\n",
       "                                        SGDRegressor(early_stopping=True,\n",
       "                                                     random_state=42,\n",
       "                                                     validation_fraction=0.001))]),\n",
       "             n_jobs=4,\n",
       "             param_grid={'feature__n_features_to_select': [5, 6, 7, 8, 9, 10,\n",
       "                                                           11, 12, 13, 14, 15,\n",
       "                                                           16, 17, 18, 19, 20,\n",
       "                                                           21, 22, 23, 24, 25,\n",
       "                                                           26]},\n",
       "             scoring='r2', verbose=5)"
      ]
     },
     "execution_count": 44,
     "metadata": {},
     "output_type": "execute_result"
    }
   ],
   "source": [
    "X_train, X_test, y_train, y_test = train_test_split(*get_data_1(df_without_outliers_1), test_size=0.2, random_state=42)\n",
    "grid.fit(X_train, y_train)"
   ]
  },
  {
   "cell_type": "code",
   "execution_count": 45,
   "metadata": {
    "colab": {
     "base_uri": "https://localhost:8080/"
    },
    "id": "60NQrt10gQdn",
    "outputId": "68ab0631-8c66-4d49-9142-d56831241ee3"
   },
   "outputs": [
    {
     "data": {
      "text/plain": [
       "(0.9929779555629832, 0.993043855639087)"
      ]
     },
     "execution_count": 45,
     "metadata": {},
     "output_type": "execute_result"
    }
   ],
   "source": [
    "r2_score(y_train, grid.predict(X_train)), r2_score(y_test, grid.predict(X_test))"
   ]
  },
  {
   "cell_type": "code",
   "execution_count": 46,
   "metadata": {
    "id": "W-UcCkx1kBZ6"
   },
   "outputs": [],
   "source": [
    "# Helper to find r2 adjusted score\n",
    "def r2_adjusted_score(r2, n, k):\n",
    "  # 1 - (((1 - R-Squared) * (n - 1)) / (n - k - 1)\n",
    "  return 1 - (((1 - r2) * (n - 1)) / (n - k - 1))"
   ]
  },
  {
   "cell_type": "code",
   "execution_count": 100,
   "metadata": {
    "id": "ne65XRFOgXBu"
   },
   "outputs": [],
   "source": [
    "# Helper to find estimator and parameter grid results\n",
    "def create_grid_result(grid):\n",
    "  grid_result = pd.DataFrame(grid.cv_results_).drop(columns=['params'])\n",
    "  grid_result['r2_adj_score'] = r2_adjusted_score(grid_result['mean_test_score'], len(X_train), grid_result['param_feature__n_features_to_select'])\n",
    "  grid_result.sort_values(['r2_adj_score'], ascending=False, inplace=True)\n",
    "  estimator = grid.best_estimator_\n",
    "  selected_features = estimator.steps[3][1].get_support()\n",
    "  columns = estimator.steps[0][1].get_feature_names()\n",
    "  feature_df = pd.DataFrame({'selected':selected_features, 'features':columns})\n",
    "  coef = pd.DataFrame({'coef': estimator[-1].coef_})\n",
    "  intercept = estimator[-1].intercept_[0]\n",
    "  return grid_result, coef.join(feature_df[feature_df['selected']].\\\n",
    "                        reset_index(drop=True)).\\\n",
    "                        drop(columns=['selected']).\\\n",
    "                        append({'coef':intercept, 'features':'_intercept'}, ignore_index=True).\\\n",
    "                        sort_values(['coef'], ascending=False)"
   ]
  },
  {
   "cell_type": "code",
   "execution_count": 101,
   "metadata": {
    "id": "9N0Q5pcqnD0l"
   },
   "outputs": [],
   "source": [
    "grid_result, features = create_grid_result(grid)"
   ]
  },
  {
   "cell_type": "markdown",
   "metadata": {
    "id": "32321VG-YNpf"
   },
   "source": [
    "Shows different attributes of grid search results\n",
    "\n",
    "It is sorted by best r2 adjusted score value.\n",
    "\n",
    "Observations\n",
    "1. With 9 Features we are getting maximum accuracy of 0.992754 "
   ]
  },
  {
   "cell_type": "code",
   "execution_count": 102,
   "metadata": {
    "colab": {
     "base_uri": "https://localhost:8080/",
     "height": 759
    },
    "id": "1vtUrgBfrHMJ",
    "outputId": "e7fe3d1f-c36c-4ce1-88b0-22950f328b51"
   },
   "outputs": [
    {
     "data": {
      "text/html": [
       "<div>\n",
       "<style scoped>\n",
       "    .dataframe tbody tr th:only-of-type {\n",
       "        vertical-align: middle;\n",
       "    }\n",
       "\n",
       "    .dataframe tbody tr th {\n",
       "        vertical-align: top;\n",
       "    }\n",
       "\n",
       "    .dataframe thead th {\n",
       "        text-align: right;\n",
       "    }\n",
       "</style>\n",
       "<table border=\"1\" class=\"dataframe\">\n",
       "  <thead>\n",
       "    <tr style=\"text-align: right;\">\n",
       "      <th></th>\n",
       "      <th>mean_fit_time</th>\n",
       "      <th>std_fit_time</th>\n",
       "      <th>mean_score_time</th>\n",
       "      <th>std_score_time</th>\n",
       "      <th>param_feature__n_features_to_select</th>\n",
       "      <th>split0_test_score</th>\n",
       "      <th>split1_test_score</th>\n",
       "      <th>split2_test_score</th>\n",
       "      <th>split3_test_score</th>\n",
       "      <th>split4_test_score</th>\n",
       "      <th>mean_test_score</th>\n",
       "      <th>std_test_score</th>\n",
       "      <th>rank_test_score</th>\n",
       "      <th>r2_adj_score</th>\n",
       "    </tr>\n",
       "  </thead>\n",
       "  <tbody>\n",
       "    <tr>\n",
       "      <th>4</th>\n",
       "      <td>16.240870</td>\n",
       "      <td>0.335700</td>\n",
       "      <td>0.386166</td>\n",
       "      <td>0.040857</td>\n",
       "      <td>9</td>\n",
       "      <td>0.992520</td>\n",
       "      <td>0.992514</td>\n",
       "      <td>0.994109</td>\n",
       "      <td>0.991442</td>\n",
       "      <td>0.993289</td>\n",
       "      <td>0.992775</td>\n",
       "      <td>0.000889</td>\n",
       "      <td>1</td>\n",
       "      <td>0.992762</td>\n",
       "    </tr>\n",
       "    <tr>\n",
       "      <th>3</th>\n",
       "      <td>13.778870</td>\n",
       "      <td>0.161554</td>\n",
       "      <td>0.372854</td>\n",
       "      <td>0.041545</td>\n",
       "      <td>8</td>\n",
       "      <td>0.992486</td>\n",
       "      <td>0.992144</td>\n",
       "      <td>0.994087</td>\n",
       "      <td>0.991302</td>\n",
       "      <td>0.993210</td>\n",
       "      <td>0.992646</td>\n",
       "      <td>0.000946</td>\n",
       "      <td>2</td>\n",
       "      <td>0.992634</td>\n",
       "    </tr>\n",
       "    <tr>\n",
       "      <th>1</th>\n",
       "      <td>9.780474</td>\n",
       "      <td>0.126297</td>\n",
       "      <td>0.368428</td>\n",
       "      <td>0.045416</td>\n",
       "      <td>6</td>\n",
       "      <td>0.992462</td>\n",
       "      <td>0.992053</td>\n",
       "      <td>0.993949</td>\n",
       "      <td>0.991101</td>\n",
       "      <td>0.993454</td>\n",
       "      <td>0.992604</td>\n",
       "      <td>0.001011</td>\n",
       "      <td>3</td>\n",
       "      <td>0.992595</td>\n",
       "    </tr>\n",
       "    <tr>\n",
       "      <th>2</th>\n",
       "      <td>11.870196</td>\n",
       "      <td>0.184546</td>\n",
       "      <td>0.365771</td>\n",
       "      <td>0.039677</td>\n",
       "      <td>7</td>\n",
       "      <td>0.992430</td>\n",
       "      <td>0.992123</td>\n",
       "      <td>0.994065</td>\n",
       "      <td>0.991268</td>\n",
       "      <td>0.993095</td>\n",
       "      <td>0.992596</td>\n",
       "      <td>0.000940</td>\n",
       "      <td>6</td>\n",
       "      <td>0.992586</td>\n",
       "    </tr>\n",
       "    <tr>\n",
       "      <th>5</th>\n",
       "      <td>18.206941</td>\n",
       "      <td>0.053726</td>\n",
       "      <td>0.389088</td>\n",
       "      <td>0.038941</td>\n",
       "      <td>10</td>\n",
       "      <td>0.992527</td>\n",
       "      <td>0.991592</td>\n",
       "      <td>0.994111</td>\n",
       "      <td>0.991500</td>\n",
       "      <td>0.993249</td>\n",
       "      <td>0.992596</td>\n",
       "      <td>0.000994</td>\n",
       "      <td>7</td>\n",
       "      <td>0.992581</td>\n",
       "    </tr>\n",
       "    <tr>\n",
       "      <th>17</th>\n",
       "      <td>50.376175</td>\n",
       "      <td>0.931234</td>\n",
       "      <td>0.438146</td>\n",
       "      <td>0.049965</td>\n",
       "      <td>22</td>\n",
       "      <td>0.991609</td>\n",
       "      <td>0.992656</td>\n",
       "      <td>0.994125</td>\n",
       "      <td>0.991414</td>\n",
       "      <td>0.993198</td>\n",
       "      <td>0.992600</td>\n",
       "      <td>0.001008</td>\n",
       "      <td>4</td>\n",
       "      <td>0.992568</td>\n",
       "    </tr>\n",
       "    <tr>\n",
       "      <th>16</th>\n",
       "      <td>48.188370</td>\n",
       "      <td>0.565258</td>\n",
       "      <td>0.437394</td>\n",
       "      <td>0.048548</td>\n",
       "      <td>21</td>\n",
       "      <td>0.991617</td>\n",
       "      <td>0.992638</td>\n",
       "      <td>0.994130</td>\n",
       "      <td>0.991412</td>\n",
       "      <td>0.993190</td>\n",
       "      <td>0.992598</td>\n",
       "      <td>0.001007</td>\n",
       "      <td>5</td>\n",
       "      <td>0.992567</td>\n",
       "    </tr>\n",
       "    <tr>\n",
       "      <th>13</th>\n",
       "      <td>41.171084</td>\n",
       "      <td>1.840505</td>\n",
       "      <td>0.424957</td>\n",
       "      <td>0.041775</td>\n",
       "      <td>18</td>\n",
       "      <td>0.991605</td>\n",
       "      <td>0.992650</td>\n",
       "      <td>0.993979</td>\n",
       "      <td>0.991400</td>\n",
       "      <td>0.993194</td>\n",
       "      <td>0.992566</td>\n",
       "      <td>0.000968</td>\n",
       "      <td>8</td>\n",
       "      <td>0.992539</td>\n",
       "    </tr>\n",
       "    <tr>\n",
       "      <th>14</th>\n",
       "      <td>40.927997</td>\n",
       "      <td>0.335892</td>\n",
       "      <td>0.423388</td>\n",
       "      <td>0.044928</td>\n",
       "      <td>19</td>\n",
       "      <td>0.991609</td>\n",
       "      <td>0.992643</td>\n",
       "      <td>0.993980</td>\n",
       "      <td>0.991400</td>\n",
       "      <td>0.993190</td>\n",
       "      <td>0.992564</td>\n",
       "      <td>0.000967</td>\n",
       "      <td>9</td>\n",
       "      <td>0.992536</td>\n",
       "    </tr>\n",
       "    <tr>\n",
       "      <th>10</th>\n",
       "      <td>30.314189</td>\n",
       "      <td>0.171657</td>\n",
       "      <td>0.402601</td>\n",
       "      <td>0.043298</td>\n",
       "      <td>15</td>\n",
       "      <td>0.991622</td>\n",
       "      <td>0.992633</td>\n",
       "      <td>0.994115</td>\n",
       "      <td>0.991394</td>\n",
       "      <td>0.992852</td>\n",
       "      <td>0.992523</td>\n",
       "      <td>0.000974</td>\n",
       "      <td>10</td>\n",
       "      <td>0.992501</td>\n",
       "    </tr>\n",
       "    <tr>\n",
       "      <th>11</th>\n",
       "      <td>32.940954</td>\n",
       "      <td>0.344273</td>\n",
       "      <td>0.408577</td>\n",
       "      <td>0.042317</td>\n",
       "      <td>16</td>\n",
       "      <td>0.991617</td>\n",
       "      <td>0.992648</td>\n",
       "      <td>0.994119</td>\n",
       "      <td>0.991391</td>\n",
       "      <td>0.992839</td>\n",
       "      <td>0.992523</td>\n",
       "      <td>0.000976</td>\n",
       "      <td>11</td>\n",
       "      <td>0.992499</td>\n",
       "    </tr>\n",
       "    <tr>\n",
       "      <th>9</th>\n",
       "      <td>27.750951</td>\n",
       "      <td>0.194543</td>\n",
       "      <td>0.398748</td>\n",
       "      <td>0.041441</td>\n",
       "      <td>14</td>\n",
       "      <td>0.991543</td>\n",
       "      <td>0.992636</td>\n",
       "      <td>0.994095</td>\n",
       "      <td>0.991399</td>\n",
       "      <td>0.992849</td>\n",
       "      <td>0.992504</td>\n",
       "      <td>0.000981</td>\n",
       "      <td>12</td>\n",
       "      <td>0.992483</td>\n",
       "    </tr>\n",
       "    <tr>\n",
       "      <th>12</th>\n",
       "      <td>35.807718</td>\n",
       "      <td>0.569308</td>\n",
       "      <td>0.419468</td>\n",
       "      <td>0.048439</td>\n",
       "      <td>17</td>\n",
       "      <td>0.991602</td>\n",
       "      <td>0.992648</td>\n",
       "      <td>0.993990</td>\n",
       "      <td>0.991395</td>\n",
       "      <td>0.992840</td>\n",
       "      <td>0.992495</td>\n",
       "      <td>0.000936</td>\n",
       "      <td>13</td>\n",
       "      <td>0.992469</td>\n",
       "    </tr>\n",
       "    <tr>\n",
       "      <th>8</th>\n",
       "      <td>25.225112</td>\n",
       "      <td>0.361396</td>\n",
       "      <td>0.398579</td>\n",
       "      <td>0.044902</td>\n",
       "      <td>13</td>\n",
       "      <td>0.991482</td>\n",
       "      <td>0.992628</td>\n",
       "      <td>0.994092</td>\n",
       "      <td>0.991385</td>\n",
       "      <td>0.992660</td>\n",
       "      <td>0.992450</td>\n",
       "      <td>0.000984</td>\n",
       "      <td>14</td>\n",
       "      <td>0.99243</td>\n",
       "    </tr>\n",
       "    <tr>\n",
       "      <th>18</th>\n",
       "      <td>52.165278</td>\n",
       "      <td>0.812235</td>\n",
       "      <td>0.430073</td>\n",
       "      <td>0.048385</td>\n",
       "      <td>23</td>\n",
       "      <td>0.991571</td>\n",
       "      <td>0.991720</td>\n",
       "      <td>0.994153</td>\n",
       "      <td>0.991413</td>\n",
       "      <td>0.993208</td>\n",
       "      <td>0.992413</td>\n",
       "      <td>0.001082</td>\n",
       "      <td>15</td>\n",
       "      <td>0.992378</td>\n",
       "    </tr>\n",
       "    <tr>\n",
       "      <th>21</th>\n",
       "      <td>55.365762</td>\n",
       "      <td>2.678039</td>\n",
       "      <td>0.381101</td>\n",
       "      <td>0.062867</td>\n",
       "      <td>26</td>\n",
       "      <td>0.991555</td>\n",
       "      <td>0.991731</td>\n",
       "      <td>0.994154</td>\n",
       "      <td>0.991413</td>\n",
       "      <td>0.993208</td>\n",
       "      <td>0.992412</td>\n",
       "      <td>0.001083</td>\n",
       "      <td>16</td>\n",
       "      <td>0.992373</td>\n",
       "    </tr>\n",
       "    <tr>\n",
       "      <th>19</th>\n",
       "      <td>54.290875</td>\n",
       "      <td>0.404405</td>\n",
       "      <td>0.432039</td>\n",
       "      <td>0.045618</td>\n",
       "      <td>24</td>\n",
       "      <td>0.991550</td>\n",
       "      <td>0.991716</td>\n",
       "      <td>0.994150</td>\n",
       "      <td>0.991414</td>\n",
       "      <td>0.993212</td>\n",
       "      <td>0.992408</td>\n",
       "      <td>0.001085</td>\n",
       "      <td>18</td>\n",
       "      <td>0.992372</td>\n",
       "    </tr>\n",
       "    <tr>\n",
       "      <th>20</th>\n",
       "      <td>56.918978</td>\n",
       "      <td>0.862940</td>\n",
       "      <td>0.441472</td>\n",
       "      <td>0.043956</td>\n",
       "      <td>25</td>\n",
       "      <td>0.991552</td>\n",
       "      <td>0.991719</td>\n",
       "      <td>0.994151</td>\n",
       "      <td>0.991412</td>\n",
       "      <td>0.993209</td>\n",
       "      <td>0.992408</td>\n",
       "      <td>0.001084</td>\n",
       "      <td>17</td>\n",
       "      <td>0.99237</td>\n",
       "    </tr>\n",
       "    <tr>\n",
       "      <th>15</th>\n",
       "      <td>45.483904</td>\n",
       "      <td>0.239172</td>\n",
       "      <td>0.442745</td>\n",
       "      <td>0.048873</td>\n",
       "      <td>20</td>\n",
       "      <td>0.991621</td>\n",
       "      <td>0.991668</td>\n",
       "      <td>0.993986</td>\n",
       "      <td>0.991412</td>\n",
       "      <td>0.993191</td>\n",
       "      <td>0.992376</td>\n",
       "      <td>0.001025</td>\n",
       "      <td>19</td>\n",
       "      <td>0.992345</td>\n",
       "    </tr>\n",
       "    <tr>\n",
       "      <th>0</th>\n",
       "      <td>8.668896</td>\n",
       "      <td>0.259602</td>\n",
       "      <td>0.356500</td>\n",
       "      <td>0.048653</td>\n",
       "      <td>5</td>\n",
       "      <td>0.991710</td>\n",
       "      <td>0.991555</td>\n",
       "      <td>0.993502</td>\n",
       "      <td>0.991079</td>\n",
       "      <td>0.993326</td>\n",
       "      <td>0.992234</td>\n",
       "      <td>0.000987</td>\n",
       "      <td>20</td>\n",
       "      <td>0.992227</td>\n",
       "    </tr>\n",
       "    <tr>\n",
       "      <th>6</th>\n",
       "      <td>20.398181</td>\n",
       "      <td>0.200949</td>\n",
       "      <td>0.389389</td>\n",
       "      <td>0.043610</td>\n",
       "      <td>11</td>\n",
       "      <td>0.991757</td>\n",
       "      <td>0.992540</td>\n",
       "      <td>0.993133</td>\n",
       "      <td>0.989532</td>\n",
       "      <td>0.992716</td>\n",
       "      <td>0.991936</td>\n",
       "      <td>0.001282</td>\n",
       "      <td>21</td>\n",
       "      <td>0.991918</td>\n",
       "    </tr>\n",
       "    <tr>\n",
       "      <th>7</th>\n",
       "      <td>22.740139</td>\n",
       "      <td>0.163240</td>\n",
       "      <td>0.393933</td>\n",
       "      <td>0.043460</td>\n",
       "      <td>12</td>\n",
       "      <td>0.991457</td>\n",
       "      <td>0.991302</td>\n",
       "      <td>0.993150</td>\n",
       "      <td>0.989562</td>\n",
       "      <td>0.992628</td>\n",
       "      <td>0.991620</td>\n",
       "      <td>0.001243</td>\n",
       "      <td>22</td>\n",
       "      <td>0.9916</td>\n",
       "    </tr>\n",
       "  </tbody>\n",
       "</table>\n",
       "</div>"
      ],
      "text/plain": [
       "    mean_fit_time  std_fit_time  mean_score_time  std_score_time  \\\n",
       "4       16.240870      0.335700         0.386166        0.040857   \n",
       "3       13.778870      0.161554         0.372854        0.041545   \n",
       "1        9.780474      0.126297         0.368428        0.045416   \n",
       "2       11.870196      0.184546         0.365771        0.039677   \n",
       "5       18.206941      0.053726         0.389088        0.038941   \n",
       "17      50.376175      0.931234         0.438146        0.049965   \n",
       "16      48.188370      0.565258         0.437394        0.048548   \n",
       "13      41.171084      1.840505         0.424957        0.041775   \n",
       "14      40.927997      0.335892         0.423388        0.044928   \n",
       "10      30.314189      0.171657         0.402601        0.043298   \n",
       "11      32.940954      0.344273         0.408577        0.042317   \n",
       "9       27.750951      0.194543         0.398748        0.041441   \n",
       "12      35.807718      0.569308         0.419468        0.048439   \n",
       "8       25.225112      0.361396         0.398579        0.044902   \n",
       "18      52.165278      0.812235         0.430073        0.048385   \n",
       "21      55.365762      2.678039         0.381101        0.062867   \n",
       "19      54.290875      0.404405         0.432039        0.045618   \n",
       "20      56.918978      0.862940         0.441472        0.043956   \n",
       "15      45.483904      0.239172         0.442745        0.048873   \n",
       "0        8.668896      0.259602         0.356500        0.048653   \n",
       "6       20.398181      0.200949         0.389389        0.043610   \n",
       "7       22.740139      0.163240         0.393933        0.043460   \n",
       "\n",
       "   param_feature__n_features_to_select  split0_test_score  split1_test_score  \\\n",
       "4                                    9           0.992520           0.992514   \n",
       "3                                    8           0.992486           0.992144   \n",
       "1                                    6           0.992462           0.992053   \n",
       "2                                    7           0.992430           0.992123   \n",
       "5                                   10           0.992527           0.991592   \n",
       "17                                  22           0.991609           0.992656   \n",
       "16                                  21           0.991617           0.992638   \n",
       "13                                  18           0.991605           0.992650   \n",
       "14                                  19           0.991609           0.992643   \n",
       "10                                  15           0.991622           0.992633   \n",
       "11                                  16           0.991617           0.992648   \n",
       "9                                   14           0.991543           0.992636   \n",
       "12                                  17           0.991602           0.992648   \n",
       "8                                   13           0.991482           0.992628   \n",
       "18                                  23           0.991571           0.991720   \n",
       "21                                  26           0.991555           0.991731   \n",
       "19                                  24           0.991550           0.991716   \n",
       "20                                  25           0.991552           0.991719   \n",
       "15                                  20           0.991621           0.991668   \n",
       "0                                    5           0.991710           0.991555   \n",
       "6                                   11           0.991757           0.992540   \n",
       "7                                   12           0.991457           0.991302   \n",
       "\n",
       "    split2_test_score  split3_test_score  split4_test_score  mean_test_score  \\\n",
       "4            0.994109           0.991442           0.993289         0.992775   \n",
       "3            0.994087           0.991302           0.993210         0.992646   \n",
       "1            0.993949           0.991101           0.993454         0.992604   \n",
       "2            0.994065           0.991268           0.993095         0.992596   \n",
       "5            0.994111           0.991500           0.993249         0.992596   \n",
       "17           0.994125           0.991414           0.993198         0.992600   \n",
       "16           0.994130           0.991412           0.993190         0.992598   \n",
       "13           0.993979           0.991400           0.993194         0.992566   \n",
       "14           0.993980           0.991400           0.993190         0.992564   \n",
       "10           0.994115           0.991394           0.992852         0.992523   \n",
       "11           0.994119           0.991391           0.992839         0.992523   \n",
       "9            0.994095           0.991399           0.992849         0.992504   \n",
       "12           0.993990           0.991395           0.992840         0.992495   \n",
       "8            0.994092           0.991385           0.992660         0.992450   \n",
       "18           0.994153           0.991413           0.993208         0.992413   \n",
       "21           0.994154           0.991413           0.993208         0.992412   \n",
       "19           0.994150           0.991414           0.993212         0.992408   \n",
       "20           0.994151           0.991412           0.993209         0.992408   \n",
       "15           0.993986           0.991412           0.993191         0.992376   \n",
       "0            0.993502           0.991079           0.993326         0.992234   \n",
       "6            0.993133           0.989532           0.992716         0.991936   \n",
       "7            0.993150           0.989562           0.992628         0.991620   \n",
       "\n",
       "    std_test_score  rank_test_score r2_adj_score  \n",
       "4         0.000889                1     0.992762  \n",
       "3         0.000946                2     0.992634  \n",
       "1         0.001011                3     0.992595  \n",
       "2         0.000940                6     0.992586  \n",
       "5         0.000994                7     0.992581  \n",
       "17        0.001008                4     0.992568  \n",
       "16        0.001007                5     0.992567  \n",
       "13        0.000968                8     0.992539  \n",
       "14        0.000967                9     0.992536  \n",
       "10        0.000974               10     0.992501  \n",
       "11        0.000976               11     0.992499  \n",
       "9         0.000981               12     0.992483  \n",
       "12        0.000936               13     0.992469  \n",
       "8         0.000984               14      0.99243  \n",
       "18        0.001082               15     0.992378  \n",
       "21        0.001083               16     0.992373  \n",
       "19        0.001085               18     0.992372  \n",
       "20        0.001084               17      0.99237  \n",
       "15        0.001025               19     0.992345  \n",
       "0         0.000987               20     0.992227  \n",
       "6         0.001282               21     0.991918  \n",
       "7         0.001243               22       0.9916  "
      ]
     },
     "execution_count": 102,
     "metadata": {},
     "output_type": "execute_result"
    }
   ],
   "source": [
    "grid_result"
   ]
  },
  {
   "cell_type": "markdown",
   "metadata": {
    "id": "N2PrNuqFYm_N"
   },
   "source": [
    "#### Features\n",
    "\n",
    "This table represents the featues selected and their coefficients\n",
    "\n",
    "Observations\n",
    "\n",
    "1. Fuel Consumption has highest coefficient\n",
    "2. Fuel Type Methonol reduces C02 emissions since it has negative coeficient\n",
    "3. Using Methonol we can reduce emission by 25\n",
    "4. Intercept is 251.104"
   ]
  },
  {
   "cell_type": "code",
   "execution_count": 103,
   "metadata": {
    "colab": {
     "base_uri": "https://localhost:8080/",
     "height": 332
    },
    "id": "rqbyMA06GX1K",
    "outputId": "354be40e-b331-4c13-ac7d-0d5c472f138b"
   },
   "outputs": [
    {
     "data": {
      "text/html": [
       "<div>\n",
       "<style scoped>\n",
       "    .dataframe tbody tr th:only-of-type {\n",
       "        vertical-align: middle;\n",
       "    }\n",
       "\n",
       "    .dataframe tbody tr th {\n",
       "        vertical-align: top;\n",
       "    }\n",
       "\n",
       "    .dataframe thead th {\n",
       "        text-align: right;\n",
       "    }\n",
       "</style>\n",
       "<table border=\"1\" class=\"dataframe\">\n",
       "  <thead>\n",
       "    <tr style=\"text-align: right;\">\n",
       "      <th></th>\n",
       "      <th>coef</th>\n",
       "      <th>features</th>\n",
       "    </tr>\n",
       "  </thead>\n",
       "  <tbody>\n",
       "    <tr>\n",
       "      <th>9</th>\n",
       "      <td>251.104489</td>\n",
       "      <td>_intercept</td>\n",
       "    </tr>\n",
       "    <tr>\n",
       "      <th>6</th>\n",
       "      <td>44.965753</td>\n",
       "      <td>Fuel Consumption City (L/100 km)</td>\n",
       "    </tr>\n",
       "    <tr>\n",
       "      <th>7</th>\n",
       "      <td>22.918521</td>\n",
       "      <td>Fuel Consumption Hwy (L/100 km)</td>\n",
       "    </tr>\n",
       "    <tr>\n",
       "      <th>4</th>\n",
       "      <td>4.347370</td>\n",
       "      <td>onehotencoder__x1_D</td>\n",
       "    </tr>\n",
       "    <tr>\n",
       "      <th>8</th>\n",
       "      <td>0.774746</td>\n",
       "      <td>Gears</td>\n",
       "    </tr>\n",
       "    <tr>\n",
       "      <th>1</th>\n",
       "      <td>0.436418</td>\n",
       "      <td>onehotencoder__x0_PICKUP TRUCK - SMALL</td>\n",
       "    </tr>\n",
       "    <tr>\n",
       "      <th>0</th>\n",
       "      <td>0.275594</td>\n",
       "      <td>onehotencoder__x0_FULL-SIZE</td>\n",
       "    </tr>\n",
       "    <tr>\n",
       "      <th>3</th>\n",
       "      <td>-0.678920</td>\n",
       "      <td>onehotencoder__x0_VAN - PASSENGER</td>\n",
       "    </tr>\n",
       "    <tr>\n",
       "      <th>2</th>\n",
       "      <td>-1.027355</td>\n",
       "      <td>onehotencoder__x0_VAN - CARGO</td>\n",
       "    </tr>\n",
       "    <tr>\n",
       "      <th>5</th>\n",
       "      <td>-25.440881</td>\n",
       "      <td>onehotencoder__x1_E</td>\n",
       "    </tr>\n",
       "  </tbody>\n",
       "</table>\n",
       "</div>"
      ],
      "text/plain": [
       "         coef                                features\n",
       "9  251.104489                              _intercept\n",
       "6   44.965753        Fuel Consumption City (L/100 km)\n",
       "7   22.918521         Fuel Consumption Hwy (L/100 km)\n",
       "4    4.347370                     onehotencoder__x1_D\n",
       "8    0.774746                                   Gears\n",
       "1    0.436418  onehotencoder__x0_PICKUP TRUCK - SMALL\n",
       "0    0.275594             onehotencoder__x0_FULL-SIZE\n",
       "3   -0.678920       onehotencoder__x0_VAN - PASSENGER\n",
       "2   -1.027355           onehotencoder__x0_VAN - CARGO\n",
       "5  -25.440881                     onehotencoder__x1_E"
      ]
     },
     "execution_count": 103,
     "metadata": {},
     "output_type": "execute_result"
    }
   ],
   "source": [
    "features"
   ]
  },
  {
   "cell_type": "markdown",
   "metadata": {
    "id": "WZYLksczZX82"
   },
   "source": [
    "#### 5 The Final Model\n",
    "\n",
    "1. Same as model 4 with one variation\n",
    "2. Using Grid Search to combine Fuel Consumption City ang Hwy in different ratios to find optimal model\n",
    "\n",
    "\n",
    "Creating a transformer which takes ratio and combines fuel usage"
   ]
  },
  {
   "cell_type": "code",
   "execution_count": 51,
   "metadata": {
    "id": "6WIMC4jJvpQI"
   },
   "outputs": [],
   "source": [
    "class CombineFuelConsumption(BaseEstimator, TransformerMixin):\n",
    "  def __init__(self, ratio=0.5):\n",
    "    self.ratio = ratio\n",
    "\n",
    "  def fit(self, X, y = None):\n",
    "    return self\n",
    "  \n",
    "  def transform(self, X, y = None):\n",
    "    ratio = self.ratio\n",
    "    computed = X['Fuel Consumption City (L/100 km)'] * ratio + X['Fuel Consumption Hwy (L/100 km)'] * (1-ratio)\n",
    "    return np.array([computed]).reshape(-1,1)\n",
    " \n",
    "  def get_feature_names(self):\n",
    "    return ['Fuel Consumption']"
   ]
  },
  {
   "cell_type": "code",
   "execution_count": 52,
   "metadata": {
    "id": "G2sY6bU6z7ze"
   },
   "outputs": [],
   "source": [
    "combine_transformer = make_column_transformer(\n",
    "    (OneHotEncoder(sparse=False), ['Vehicle Class', 'Fuel Type', 'TransmissionMode']),\n",
    "    (CombineFuelConsumption(),['Fuel Consumption City (L/100 km)','Fuel Consumption Hwy (L/100 km)']),\n",
    "    remainder='passthrough'\n",
    ")"
   ]
  },
  {
   "cell_type": "code",
   "execution_count": 53,
   "metadata": {
    "colab": {
     "base_uri": "https://localhost:8080/",
     "height": 295
    },
    "id": "9VQ76yweup8b",
    "outputId": "395edd64-386a-4c67-824e-869f09e3ba26"
   },
   "outputs": [
    {
     "data": {
      "text/html": [
       "<style>div.sk-top-container {color: black;background-color: white;}div.sk-toggleable {background-color: white;}label.sk-toggleable__label {cursor: pointer;display: block;width: 100%;margin-bottom: 0;padding: 0.2em 0.3em;box-sizing: border-box;text-align: center;}div.sk-toggleable__content {max-height: 0;max-width: 0;overflow: hidden;text-align: left;background-color: #f0f8ff;}div.sk-toggleable__content pre {margin: 0.2em;color: black;border-radius: 0.25em;background-color: #f0f8ff;}input.sk-toggleable__control:checked~div.sk-toggleable__content {max-height: 200px;max-width: 100%;overflow: auto;}div.sk-estimator input.sk-toggleable__control:checked~label.sk-toggleable__label {background-color: #d4ebff;}div.sk-label input.sk-toggleable__control:checked~label.sk-toggleable__label {background-color: #d4ebff;}input.sk-hidden--visually {border: 0;clip: rect(1px 1px 1px 1px);clip: rect(1px, 1px, 1px, 1px);height: 1px;margin: -1px;overflow: hidden;padding: 0;position: absolute;width: 1px;}div.sk-estimator {font-family: monospace;background-color: #f0f8ff;margin: 0.25em 0.25em;border: 1px dotted black;border-radius: 0.25em;box-sizing: border-box;}div.sk-estimator:hover {background-color: #d4ebff;}div.sk-parallel-item::after {content: \"\";width: 100%;border-bottom: 1px solid gray;flex-grow: 1;}div.sk-label:hover label.sk-toggleable__label {background-color: #d4ebff;}div.sk-serial::before {content: \"\";position: absolute;border-left: 1px solid gray;box-sizing: border-box;top: 2em;bottom: 0;left: 50%;}div.sk-serial {display: flex;flex-direction: column;align-items: center;background-color: white;}div.sk-item {z-index: 1;}div.sk-parallel {display: flex;align-items: stretch;justify-content: center;background-color: white;}div.sk-parallel-item {display: flex;flex-direction: column;position: relative;background-color: white;}div.sk-parallel-item:first-child::after {align-self: flex-end;width: 50%;}div.sk-parallel-item:last-child::after {align-self: flex-start;width: 50%;}div.sk-parallel-item:only-child::after {width: 0;}div.sk-dashed-wrapped {border: 1px dashed gray;margin: 0.2em;box-sizing: border-box;padding-bottom: 0.1em;background-color: white;position: relative;}div.sk-label label {font-family: monospace;font-weight: bold;background-color: white;display: inline-block;line-height: 1.2em;}div.sk-label-container {position: relative;z-index: 2;text-align: center;}div.sk-container {display: inline-block;position: relative;}</style><div class=\"sk-top-container\"><div class=\"sk-container\"><div class=\"sk-item sk-dashed-wrapped\"><div class=\"sk-label-container\"><div class=\"sk-label sk-toggleable\"><input class=\"sk-toggleable__control sk-hidden--visually\" id=\"5e06e307-8c94-409f-b6fd-34117bad5cd5\" type=\"checkbox\" ><label class=\"sk-toggleable__label\" for=\"5e06e307-8c94-409f-b6fd-34117bad5cd5\">Pipeline</label><div class=\"sk-toggleable__content\"><pre>Pipeline(steps=[('combine',\n",
       "                 ColumnTransformer(remainder='passthrough',\n",
       "                                   transformers=[('onehotencoder',\n",
       "                                                  OneHotEncoder(sparse=False),\n",
       "                                                  ['Vehicle Class', 'Fuel Type',\n",
       "                                                   'TransmissionMode']),\n",
       "                                                 ('combinefuelconsumption',\n",
       "                                                  CombineFuelConsumption(),\n",
       "                                                  ['Fuel Consumption City '\n",
       "                                                   '(L/100 km)',\n",
       "                                                   'Fuel Consumption Hwy '\n",
       "                                                   '(L/100 km)'])])),\n",
       "                ('imputer', KNNImputer()), ('scaling', StandardScaler()),\n",
       "                ('feature',\n",
       "                 SequentialFeatureSelector(estimator=LinearRegression(),\n",
       "                                           scoring='r2')),\n",
       "                ('regression',\n",
       "                 SGDRegressor(early_stopping=True, random_state=42,\n",
       "                              validation_fraction=0.001))])</pre></div></div></div><div class=\"sk-serial\"><div class=\"sk-item sk-dashed-wrapped\"><div class=\"sk-label-container\"><div class=\"sk-label sk-toggleable\"><input class=\"sk-toggleable__control sk-hidden--visually\" id=\"5b112d7b-ae13-4c18-a6bf-3f99348792ba\" type=\"checkbox\" ><label class=\"sk-toggleable__label\" for=\"5b112d7b-ae13-4c18-a6bf-3f99348792ba\">combine: ColumnTransformer</label><div class=\"sk-toggleable__content\"><pre>ColumnTransformer(remainder='passthrough',\n",
       "                  transformers=[('onehotencoder', OneHotEncoder(sparse=False),\n",
       "                                 ['Vehicle Class', 'Fuel Type',\n",
       "                                  'TransmissionMode']),\n",
       "                                ('combinefuelconsumption',\n",
       "                                 CombineFuelConsumption(),\n",
       "                                 ['Fuel Consumption City (L/100 km)',\n",
       "                                  'Fuel Consumption Hwy (L/100 km)'])])</pre></div></div></div><div class=\"sk-parallel\"><div class=\"sk-parallel-item\"><div class=\"sk-item\"><div class=\"sk-label-container\"><div class=\"sk-label sk-toggleable\"><input class=\"sk-toggleable__control sk-hidden--visually\" id=\"080130ad-1e7d-47e9-8c8d-5d43b64087cc\" type=\"checkbox\" ><label class=\"sk-toggleable__label\" for=\"080130ad-1e7d-47e9-8c8d-5d43b64087cc\">onehotencoder</label><div class=\"sk-toggleable__content\"><pre>['Vehicle Class', 'Fuel Type', 'TransmissionMode']</pre></div></div></div><div class=\"sk-serial\"><div class=\"sk-item\"><div class=\"sk-estimator sk-toggleable\"><input class=\"sk-toggleable__control sk-hidden--visually\" id=\"be471964-1e96-4e77-adc7-5be02435d0f4\" type=\"checkbox\" ><label class=\"sk-toggleable__label\" for=\"be471964-1e96-4e77-adc7-5be02435d0f4\">OneHotEncoder</label><div class=\"sk-toggleable__content\"><pre>OneHotEncoder(sparse=False)</pre></div></div></div></div></div></div><div class=\"sk-parallel-item\"><div class=\"sk-item\"><div class=\"sk-label-container\"><div class=\"sk-label sk-toggleable\"><input class=\"sk-toggleable__control sk-hidden--visually\" id=\"2c425d93-2be5-49c0-8f04-18d8aea891fc\" type=\"checkbox\" ><label class=\"sk-toggleable__label\" for=\"2c425d93-2be5-49c0-8f04-18d8aea891fc\">combinefuelconsumption</label><div class=\"sk-toggleable__content\"><pre>['Fuel Consumption City (L/100 km)', 'Fuel Consumption Hwy (L/100 km)']</pre></div></div></div><div class=\"sk-serial\"><div class=\"sk-item\"><div class=\"sk-estimator sk-toggleable\"><input class=\"sk-toggleable__control sk-hidden--visually\" id=\"a7b3bd90-13aa-483d-a9a7-c5fb05b030fe\" type=\"checkbox\" ><label class=\"sk-toggleable__label\" for=\"a7b3bd90-13aa-483d-a9a7-c5fb05b030fe\">CombineFuelConsumption</label><div class=\"sk-toggleable__content\"><pre>CombineFuelConsumption()</pre></div></div></div></div></div></div><div class=\"sk-parallel-item\"><div class=\"sk-item\"><div class=\"sk-label-container\"><div class=\"sk-label sk-toggleable\"><input class=\"sk-toggleable__control sk-hidden--visually\" id=\"41a0880f-5c4d-4202-b8ca-004546aec962\" type=\"checkbox\" ><label class=\"sk-toggleable__label\" for=\"41a0880f-5c4d-4202-b8ca-004546aec962\">remainder</label><div class=\"sk-toggleable__content\"><pre></pre></div></div></div><div class=\"sk-serial\"><div class=\"sk-item\"><div class=\"sk-estimator sk-toggleable\"><input class=\"sk-toggleable__control sk-hidden--visually\" id=\"fb19d775-2f71-4f39-be7b-6e5a41ddcced\" type=\"checkbox\" ><label class=\"sk-toggleable__label\" for=\"fb19d775-2f71-4f39-be7b-6e5a41ddcced\">passthrough</label><div class=\"sk-toggleable__content\"><pre>passthrough</pre></div></div></div></div></div></div></div></div><div class=\"sk-item\"><div class=\"sk-estimator sk-toggleable\"><input class=\"sk-toggleable__control sk-hidden--visually\" id=\"1adb5eb2-c23e-4f08-aabd-dbf8a64325d7\" type=\"checkbox\" ><label class=\"sk-toggleable__label\" for=\"1adb5eb2-c23e-4f08-aabd-dbf8a64325d7\">KNNImputer</label><div class=\"sk-toggleable__content\"><pre>KNNImputer()</pre></div></div></div><div class=\"sk-item\"><div class=\"sk-estimator sk-toggleable\"><input class=\"sk-toggleable__control sk-hidden--visually\" id=\"512dea3b-2438-4a92-b38e-e2161ea164da\" type=\"checkbox\" ><label class=\"sk-toggleable__label\" for=\"512dea3b-2438-4a92-b38e-e2161ea164da\">StandardScaler</label><div class=\"sk-toggleable__content\"><pre>StandardScaler()</pre></div></div></div><div class=\"sk-item sk-dashed-wrapped\"><div class=\"sk-label-container\"><div class=\"sk-label sk-toggleable\"><input class=\"sk-toggleable__control sk-hidden--visually\" id=\"79b0ccd8-4dc5-4eb0-ac32-d944e61c8cf6\" type=\"checkbox\" ><label class=\"sk-toggleable__label\" for=\"79b0ccd8-4dc5-4eb0-ac32-d944e61c8cf6\">feature: SequentialFeatureSelector</label><div class=\"sk-toggleable__content\"><pre>SequentialFeatureSelector(estimator=LinearRegression(), scoring='r2')</pre></div></div></div><div class=\"sk-parallel\"><div class=\"sk-parallel-item\"><div class=\"sk-item\"><div class=\"sk-serial\"><div class=\"sk-item\"><div class=\"sk-estimator sk-toggleable\"><input class=\"sk-toggleable__control sk-hidden--visually\" id=\"7c1b0f4e-dfc6-48f0-bd64-fa51102968b5\" type=\"checkbox\" ><label class=\"sk-toggleable__label\" for=\"7c1b0f4e-dfc6-48f0-bd64-fa51102968b5\">LinearRegression</label><div class=\"sk-toggleable__content\"><pre>LinearRegression()</pre></div></div></div></div></div></div></div></div><div class=\"sk-item\"><div class=\"sk-estimator sk-toggleable\"><input class=\"sk-toggleable__control sk-hidden--visually\" id=\"ffca2f9d-f323-4b4f-a909-6474a4781f23\" type=\"checkbox\" ><label class=\"sk-toggleable__label\" for=\"ffca2f9d-f323-4b4f-a909-6474a4781f23\">SGDRegressor</label><div class=\"sk-toggleable__content\"><pre>SGDRegressor(early_stopping=True, random_state=42, validation_fraction=0.001)</pre></div></div></div></div></div></div></div>"
      ],
      "text/plain": [
       "Pipeline(steps=[('combine',\n",
       "                 ColumnTransformer(remainder='passthrough',\n",
       "                                   transformers=[('onehotencoder',\n",
       "                                                  OneHotEncoder(sparse=False),\n",
       "                                                  ['Vehicle Class', 'Fuel Type',\n",
       "                                                   'TransmissionMode']),\n",
       "                                                 ('combinefuelconsumption',\n",
       "                                                  CombineFuelConsumption(),\n",
       "                                                  ['Fuel Consumption City '\n",
       "                                                   '(L/100 km)',\n",
       "                                                   'Fuel Consumption Hwy '\n",
       "                                                   '(L/100 km)'])])),\n",
       "                ('imputer', KNNImputer()), ('scaling', StandardScaler()),\n",
       "                ('feature',\n",
       "                 SequentialFeatureSelector(estimator=LinearRegression(),\n",
       "                                           scoring='r2')),\n",
       "                ('regression',\n",
       "                 SGDRegressor(early_stopping=True, random_state=42,\n",
       "                              validation_fraction=0.001))])"
      ]
     },
     "execution_count": 53,
     "metadata": {},
     "output_type": "execute_result"
    }
   ],
   "source": [
    "pipe5 = Pipeline(\n",
    "    steps=[\n",
    "      ('combine', combine_transformer), \n",
    "      ('imputer',KNNImputer()), \n",
    "      ('scaling',StandardScaler()),\n",
    "      ('feature',SequentialFeatureSelector(LinearRegression(), scoring='r2', cv=5)),\n",
    "      ('regression', SGDRegressor(\n",
    "          loss='squared_loss', \n",
    "          alpha=0.0001, \n",
    "          max_iter=1000, \n",
    "          epsilon=0.1, \n",
    "          random_state=42, \n",
    "          early_stopping=True,\n",
    "          validation_fraction = 0.001,\n",
    "          verbose=0,\n",
    "      )),\n",
    "    ]\n",
    ")\n",
    "pipe5"
   ]
  },
  {
   "cell_type": "markdown",
   "metadata": {
    "id": "bDjCSQPYZ2BD"
   },
   "source": [
    "Training Model and finding r2 scores for pipeline"
   ]
  },
  {
   "cell_type": "code",
   "execution_count": 54,
   "metadata": {
    "colab": {
     "base_uri": "https://localhost:8080/"
    },
    "id": "yaBtI0bswr3x",
    "outputId": "68050d50-edcd-4643-ee35-b72c534df646"
   },
   "outputs": [
    {
     "data": {
      "text/plain": [
       "(0.9926911383261665, 0.9927825235405848)"
      ]
     },
     "execution_count": 54,
     "metadata": {},
     "output_type": "execute_result"
    }
   ],
   "source": [
    "X_train, X_test, y_train, y_test = train_test_split(*get_data_1(df_without_outliers_1), test_size=0.2, random_state=42)\n",
    "pipe5.fit(X_train, y_train)\n",
    "r2_score(y_train, pipe5.predict(X_train)), r2_score(y_test, pipe5.predict(X_test))"
   ]
  },
  {
   "cell_type": "markdown",
   "metadata": {
    "id": "TyQqqoZfZ-F3"
   },
   "source": [
    "#### Model 5\n",
    "\n",
    "Creaing a grid of \n",
    "1. Fuel Usage ratio in 0.5 - 0.7 splitting into range of 10 \n",
    "2. Features (5,20)"
   ]
  },
  {
   "cell_type": "code",
   "execution_count": 55,
   "metadata": {
    "id": "3xi6KaWkxLsX"
   },
   "outputs": [],
   "source": [
    "params = {\n",
    "    'combine__combinefuelconsumption__ratio':list(np.linspace(0.5, 0.7, 10)),\n",
    "    'feature__n_features_to_select':list(range(5,20)),\n",
    "}\n",
    "grid2 = GridSearchCV(pipe5, param_grid=params, scoring='r2', cv=5, verbose=5, n_jobs=-1)"
   ]
  },
  {
   "cell_type": "code",
   "execution_count": 56,
   "metadata": {
    "colab": {
     "base_uri": "https://localhost:8080/",
     "height": 316
    },
    "id": "Ys9egVtD2sjy",
    "outputId": "7536e6bc-adec-4ae3-cc88-2f8eddad1b8e"
   },
   "outputs": [
    {
     "name": "stdout",
     "output_type": "stream",
     "text": [
      "Fitting 5 folds for each of 150 candidates, totalling 750 fits\n"
     ]
    },
    {
     "data": {
      "text/html": [
       "<style>div.sk-top-container {color: black;background-color: white;}div.sk-toggleable {background-color: white;}label.sk-toggleable__label {cursor: pointer;display: block;width: 100%;margin-bottom: 0;padding: 0.2em 0.3em;box-sizing: border-box;text-align: center;}div.sk-toggleable__content {max-height: 0;max-width: 0;overflow: hidden;text-align: left;background-color: #f0f8ff;}div.sk-toggleable__content pre {margin: 0.2em;color: black;border-radius: 0.25em;background-color: #f0f8ff;}input.sk-toggleable__control:checked~div.sk-toggleable__content {max-height: 200px;max-width: 100%;overflow: auto;}div.sk-estimator input.sk-toggleable__control:checked~label.sk-toggleable__label {background-color: #d4ebff;}div.sk-label input.sk-toggleable__control:checked~label.sk-toggleable__label {background-color: #d4ebff;}input.sk-hidden--visually {border: 0;clip: rect(1px 1px 1px 1px);clip: rect(1px, 1px, 1px, 1px);height: 1px;margin: -1px;overflow: hidden;padding: 0;position: absolute;width: 1px;}div.sk-estimator {font-family: monospace;background-color: #f0f8ff;margin: 0.25em 0.25em;border: 1px dotted black;border-radius: 0.25em;box-sizing: border-box;}div.sk-estimator:hover {background-color: #d4ebff;}div.sk-parallel-item::after {content: \"\";width: 100%;border-bottom: 1px solid gray;flex-grow: 1;}div.sk-label:hover label.sk-toggleable__label {background-color: #d4ebff;}div.sk-serial::before {content: \"\";position: absolute;border-left: 1px solid gray;box-sizing: border-box;top: 2em;bottom: 0;left: 50%;}div.sk-serial {display: flex;flex-direction: column;align-items: center;background-color: white;}div.sk-item {z-index: 1;}div.sk-parallel {display: flex;align-items: stretch;justify-content: center;background-color: white;}div.sk-parallel-item {display: flex;flex-direction: column;position: relative;background-color: white;}div.sk-parallel-item:first-child::after {align-self: flex-end;width: 50%;}div.sk-parallel-item:last-child::after {align-self: flex-start;width: 50%;}div.sk-parallel-item:only-child::after {width: 0;}div.sk-dashed-wrapped {border: 1px dashed gray;margin: 0.2em;box-sizing: border-box;padding-bottom: 0.1em;background-color: white;position: relative;}div.sk-label label {font-family: monospace;font-weight: bold;background-color: white;display: inline-block;line-height: 1.2em;}div.sk-label-container {position: relative;z-index: 2;text-align: center;}div.sk-container {display: inline-block;position: relative;}</style><div class=\"sk-top-container\"><div class=\"sk-container\"><div class=\"sk-item sk-dashed-wrapped\"><div class=\"sk-label-container\"><div class=\"sk-label sk-toggleable\"><input class=\"sk-toggleable__control sk-hidden--visually\" id=\"dbaa3706-0463-4a77-8cdf-9d579030756b\" type=\"checkbox\" ><label class=\"sk-toggleable__label\" for=\"dbaa3706-0463-4a77-8cdf-9d579030756b\">GridSearchCV</label><div class=\"sk-toggleable__content\"><pre>GridSearchCV(cv=5,\n",
       "             estimator=Pipeline(steps=[('combine',\n",
       "                                        ColumnTransformer(remainder='passthrough',\n",
       "                                                          transformers=[('onehotencoder',\n",
       "                                                                         OneHotEncoder(sparse=False),\n",
       "                                                                         ['Vehicle '\n",
       "                                                                          'Class',\n",
       "                                                                          'Fuel '\n",
       "                                                                          'Type',\n",
       "                                                                          'TransmissionMode']),\n",
       "                                                                        ('combinefuelconsumption',\n",
       "                                                                         CombineFuelConsumption(),\n",
       "                                                                         ['Fuel '\n",
       "                                                                          'Consumption '\n",
       "                                                                          'City '\n",
       "                                                                          '(L/100 '\n",
       "                                                                          'km)',\n",
       "                                                                          'Fuel '\n",
       "                                                                          'Consumption '\n",
       "                                                                          'Hwy '\n",
       "                                                                          '(L/100 '\n",
       "                                                                          'km)'])])),\n",
       "                                       ('impute...\n",
       "                                                     validation_fraction=0.001))]),\n",
       "             n_jobs=-1,\n",
       "             param_grid={'combine__combinefuelconsumption__ratio': [0.5,\n",
       "                                                                    0.5222222222222223,\n",
       "                                                                    0.5444444444444444,\n",
       "                                                                    0.5666666666666667,\n",
       "                                                                    0.5888888888888889,\n",
       "                                                                    0.611111111111111,\n",
       "                                                                    0.6333333333333333,\n",
       "                                                                    0.6555555555555554,\n",
       "                                                                    0.6777777777777777,\n",
       "                                                                    0.7],\n",
       "                         'feature__n_features_to_select': [5, 6, 7, 8, 9, 10,\n",
       "                                                           11, 12, 13, 14, 15,\n",
       "                                                           16, 17, 18, 19]},\n",
       "             scoring='r2', verbose=5)</pre></div></div></div><div class=\"sk-parallel\"><div class=\"sk-parallel-item\"><div class=\"sk-item\"><div class=\"sk-serial\"><div class=\"sk-item\"><div class=\"sk-serial\"><div class=\"sk-item sk-dashed-wrapped\"><div class=\"sk-label-container\"><div class=\"sk-label sk-toggleable\"><input class=\"sk-toggleable__control sk-hidden--visually\" id=\"47d94996-1225-4f7f-b842-703495b3eac6\" type=\"checkbox\" ><label class=\"sk-toggleable__label\" for=\"47d94996-1225-4f7f-b842-703495b3eac6\">combine: ColumnTransformer</label><div class=\"sk-toggleable__content\"><pre>ColumnTransformer(remainder='passthrough',\n",
       "                  transformers=[('onehotencoder', OneHotEncoder(sparse=False),\n",
       "                                 ['Vehicle Class', 'Fuel Type',\n",
       "                                  'TransmissionMode']),\n",
       "                                ('combinefuelconsumption',\n",
       "                                 CombineFuelConsumption(),\n",
       "                                 ['Fuel Consumption City (L/100 km)',\n",
       "                                  'Fuel Consumption Hwy (L/100 km)'])])</pre></div></div></div><div class=\"sk-parallel\"><div class=\"sk-parallel-item\"><div class=\"sk-item\"><div class=\"sk-label-container\"><div class=\"sk-label sk-toggleable\"><input class=\"sk-toggleable__control sk-hidden--visually\" id=\"49e297c1-0712-4451-b8bd-773a9958e56d\" type=\"checkbox\" ><label class=\"sk-toggleable__label\" for=\"49e297c1-0712-4451-b8bd-773a9958e56d\">onehotencoder</label><div class=\"sk-toggleable__content\"><pre>['Vehicle Class', 'Fuel Type', 'TransmissionMode']</pre></div></div></div><div class=\"sk-serial\"><div class=\"sk-item\"><div class=\"sk-estimator sk-toggleable\"><input class=\"sk-toggleable__control sk-hidden--visually\" id=\"6ca09366-322d-4baa-bf13-af24adc31f87\" type=\"checkbox\" ><label class=\"sk-toggleable__label\" for=\"6ca09366-322d-4baa-bf13-af24adc31f87\">OneHotEncoder</label><div class=\"sk-toggleable__content\"><pre>OneHotEncoder(sparse=False)</pre></div></div></div></div></div></div><div class=\"sk-parallel-item\"><div class=\"sk-item\"><div class=\"sk-label-container\"><div class=\"sk-label sk-toggleable\"><input class=\"sk-toggleable__control sk-hidden--visually\" id=\"6b27e40a-c947-4739-aa54-6d48d1b84d0b\" type=\"checkbox\" ><label class=\"sk-toggleable__label\" for=\"6b27e40a-c947-4739-aa54-6d48d1b84d0b\">combinefuelconsumption</label><div class=\"sk-toggleable__content\"><pre>['Fuel Consumption City (L/100 km)', 'Fuel Consumption Hwy (L/100 km)']</pre></div></div></div><div class=\"sk-serial\"><div class=\"sk-item\"><div class=\"sk-estimator sk-toggleable\"><input class=\"sk-toggleable__control sk-hidden--visually\" id=\"0636367b-a4db-4749-8f4c-5622805afeab\" type=\"checkbox\" ><label class=\"sk-toggleable__label\" for=\"0636367b-a4db-4749-8f4c-5622805afeab\">CombineFuelConsumption</label><div class=\"sk-toggleable__content\"><pre>CombineFuelConsumption()</pre></div></div></div></div></div></div><div class=\"sk-parallel-item\"><div class=\"sk-item\"><div class=\"sk-label-container\"><div class=\"sk-label sk-toggleable\"><input class=\"sk-toggleable__control sk-hidden--visually\" id=\"b63939f4-8566-4553-a768-b93f638ee461\" type=\"checkbox\" ><label class=\"sk-toggleable__label\" for=\"b63939f4-8566-4553-a768-b93f638ee461\">remainder</label><div class=\"sk-toggleable__content\"><pre>['Engine Size(L)', 'Cylinders', 'Gears']</pre></div></div></div><div class=\"sk-serial\"><div class=\"sk-item\"><div class=\"sk-estimator sk-toggleable\"><input class=\"sk-toggleable__control sk-hidden--visually\" id=\"e1f4bb7d-59b1-4d7d-b66a-16a5105390a4\" type=\"checkbox\" ><label class=\"sk-toggleable__label\" for=\"e1f4bb7d-59b1-4d7d-b66a-16a5105390a4\">passthrough</label><div class=\"sk-toggleable__content\"><pre>passthrough</pre></div></div></div></div></div></div></div></div><div class=\"sk-item\"><div class=\"sk-estimator sk-toggleable\"><input class=\"sk-toggleable__control sk-hidden--visually\" id=\"08a9cdaa-f3b0-4cc4-8273-1182cd748153\" type=\"checkbox\" ><label class=\"sk-toggleable__label\" for=\"08a9cdaa-f3b0-4cc4-8273-1182cd748153\">KNNImputer</label><div class=\"sk-toggleable__content\"><pre>KNNImputer()</pre></div></div></div><div class=\"sk-item\"><div class=\"sk-estimator sk-toggleable\"><input class=\"sk-toggleable__control sk-hidden--visually\" id=\"90f203b8-7bc0-42b7-aacd-76b8582d580c\" type=\"checkbox\" ><label class=\"sk-toggleable__label\" for=\"90f203b8-7bc0-42b7-aacd-76b8582d580c\">StandardScaler</label><div class=\"sk-toggleable__content\"><pre>StandardScaler()</pre></div></div></div><div class=\"sk-item sk-dashed-wrapped\"><div class=\"sk-label-container\"><div class=\"sk-label sk-toggleable\"><input class=\"sk-toggleable__control sk-hidden--visually\" id=\"a33ae5b8-1bf5-4574-8693-ed69263fc0a4\" type=\"checkbox\" ><label class=\"sk-toggleable__label\" for=\"a33ae5b8-1bf5-4574-8693-ed69263fc0a4\">feature: SequentialFeatureSelector</label><div class=\"sk-toggleable__content\"><pre>SequentialFeatureSelector(estimator=LinearRegression(), scoring='r2')</pre></div></div></div><div class=\"sk-parallel\"><div class=\"sk-parallel-item\"><div class=\"sk-item\"><div class=\"sk-serial\"><div class=\"sk-item\"><div class=\"sk-estimator sk-toggleable\"><input class=\"sk-toggleable__control sk-hidden--visually\" id=\"8085345d-933c-4356-961e-3cb81bffeb18\" type=\"checkbox\" ><label class=\"sk-toggleable__label\" for=\"8085345d-933c-4356-961e-3cb81bffeb18\">LinearRegression</label><div class=\"sk-toggleable__content\"><pre>LinearRegression()</pre></div></div></div></div></div></div></div></div><div class=\"sk-item\"><div class=\"sk-estimator sk-toggleable\"><input class=\"sk-toggleable__control sk-hidden--visually\" id=\"6d4913d5-b158-4d4c-9c07-7403ec4c0c87\" type=\"checkbox\" ><label class=\"sk-toggleable__label\" for=\"6d4913d5-b158-4d4c-9c07-7403ec4c0c87\">SGDRegressor</label><div class=\"sk-toggleable__content\"><pre>SGDRegressor(early_stopping=True, random_state=42, validation_fraction=0.001)</pre></div></div></div></div></div></div></div></div></div></div></div></div>"
      ],
      "text/plain": [
       "GridSearchCV(cv=5,\n",
       "             estimator=Pipeline(steps=[('combine',\n",
       "                                        ColumnTransformer(remainder='passthrough',\n",
       "                                                          transformers=[('onehotencoder',\n",
       "                                                                         OneHotEncoder(sparse=False),\n",
       "                                                                         ['Vehicle '\n",
       "                                                                          'Class',\n",
       "                                                                          'Fuel '\n",
       "                                                                          'Type',\n",
       "                                                                          'TransmissionMode']),\n",
       "                                                                        ('combinefuelconsumption',\n",
       "                                                                         CombineFuelConsumption(),\n",
       "                                                                         ['Fuel '\n",
       "                                                                          'Consumption '\n",
       "                                                                          'City '\n",
       "                                                                          '(L/100 '\n",
       "                                                                          'km)',\n",
       "                                                                          'Fuel '\n",
       "                                                                          'Consumption '\n",
       "                                                                          'Hwy '\n",
       "                                                                          '(L/100 '\n",
       "                                                                          'km)'])])),\n",
       "                                       ('impute...\n",
       "                                                     validation_fraction=0.001))]),\n",
       "             n_jobs=-1,\n",
       "             param_grid={'combine__combinefuelconsumption__ratio': [0.5,\n",
       "                                                                    0.5222222222222223,\n",
       "                                                                    0.5444444444444444,\n",
       "                                                                    0.5666666666666667,\n",
       "                                                                    0.5888888888888889,\n",
       "                                                                    0.611111111111111,\n",
       "                                                                    0.6333333333333333,\n",
       "                                                                    0.6555555555555554,\n",
       "                                                                    0.6777777777777777,\n",
       "                                                                    0.7],\n",
       "                         'feature__n_features_to_select': [5, 6, 7, 8, 9, 10,\n",
       "                                                           11, 12, 13, 14, 15,\n",
       "                                                           16, 17, 18, 19]},\n",
       "             scoring='r2', verbose=5)"
      ]
     },
     "execution_count": 56,
     "metadata": {},
     "output_type": "execute_result"
    }
   ],
   "source": [
    "X_train, X_test, y_train, y_test = train_test_split(*get_data_1(df_without_outliers_1), test_size=0.2, random_state=42)\n",
    "grid2.fit(X_train, y_train)"
   ]
  },
  {
   "cell_type": "markdown",
   "metadata": {
    "id": "9WNeiHAgaRJQ"
   },
   "source": [
    "r2 score of model 5"
   ]
  },
  {
   "cell_type": "code",
   "execution_count": 57,
   "metadata": {
    "colab": {
     "base_uri": "https://localhost:8080/"
    },
    "id": "apXpf6G_FkvX",
    "outputId": "f123e3a5-78d2-4e4b-f867-a18037a83d36"
   },
   "outputs": [
    {
     "data": {
      "text/plain": [
       "(0.9929449433695127, 0.9929500562290614)"
      ]
     },
     "execution_count": 57,
     "metadata": {},
     "output_type": "execute_result"
    }
   ],
   "source": [
    "r2_score(y_train, grid2.predict(X_train)), r2_score(y_test, grid2.predict(X_test))"
   ]
  },
  {
   "cell_type": "code",
   "execution_count": 104,
   "metadata": {
    "id": "xlxAOLshFtL5"
   },
   "outputs": [],
   "source": [
    "grid_result, features = create_grid_result(grid2)"
   ]
  },
  {
   "cell_type": "markdown",
   "metadata": {
    "id": "xXD4AsZCaUQn"
   },
   "source": [
    "#### Results of Model 5\n",
    "1. Number of features selected 16\n",
    "2. Ratio of fuel 0.54444\n",
    "3. Max adjusted r2 score 0.9928"
   ]
  },
  {
   "cell_type": "code",
   "execution_count": 105,
   "metadata": {
    "colab": {
     "base_uri": "https://localhost:8080/",
     "height": 444
    },
    "id": "hl3GWyvjGjqU",
    "outputId": "c7d93786-090b-44ec-83aa-865e3f9720b3"
   },
   "outputs": [
    {
     "data": {
      "text/html": [
       "<div>\n",
       "<style scoped>\n",
       "    .dataframe tbody tr th:only-of-type {\n",
       "        vertical-align: middle;\n",
       "    }\n",
       "\n",
       "    .dataframe tbody tr th {\n",
       "        vertical-align: top;\n",
       "    }\n",
       "\n",
       "    .dataframe thead th {\n",
       "        text-align: right;\n",
       "    }\n",
       "</style>\n",
       "<table border=\"1\" class=\"dataframe\">\n",
       "  <thead>\n",
       "    <tr style=\"text-align: right;\">\n",
       "      <th></th>\n",
       "      <th>mean_fit_time</th>\n",
       "      <th>std_fit_time</th>\n",
       "      <th>mean_score_time</th>\n",
       "      <th>std_score_time</th>\n",
       "      <th>param_combine__combinefuelconsumption__ratio</th>\n",
       "      <th>param_feature__n_features_to_select</th>\n",
       "      <th>split0_test_score</th>\n",
       "      <th>split1_test_score</th>\n",
       "      <th>split2_test_score</th>\n",
       "      <th>split3_test_score</th>\n",
       "      <th>split4_test_score</th>\n",
       "      <th>mean_test_score</th>\n",
       "      <th>std_test_score</th>\n",
       "      <th>rank_test_score</th>\n",
       "      <th>r2_adj_score</th>\n",
       "    </tr>\n",
       "  </thead>\n",
       "  <tbody>\n",
       "    <tr>\n",
       "      <th>36</th>\n",
       "      <td>21.510665</td>\n",
       "      <td>0.394025</td>\n",
       "      <td>0.417041</td>\n",
       "      <td>0.041645</td>\n",
       "      <td>0.544444</td>\n",
       "      <td>11</td>\n",
       "      <td>0.992613</td>\n",
       "      <td>0.992663</td>\n",
       "      <td>0.993743</td>\n",
       "      <td>0.991613</td>\n",
       "      <td>0.993152</td>\n",
       "      <td>0.992757</td>\n",
       "      <td>0.000702</td>\n",
       "      <td>2</td>\n",
       "      <td>0.992741</td>\n",
       "    </tr>\n",
       "    <tr>\n",
       "      <th>88</th>\n",
       "      <td>39.752895</td>\n",
       "      <td>0.694147</td>\n",
       "      <td>0.435333</td>\n",
       "      <td>0.041076</td>\n",
       "      <td>0.611111</td>\n",
       "      <td>18</td>\n",
       "      <td>0.992179</td>\n",
       "      <td>0.992481</td>\n",
       "      <td>0.994223</td>\n",
       "      <td>0.991880</td>\n",
       "      <td>0.993035</td>\n",
       "      <td>0.992760</td>\n",
       "      <td>0.000825</td>\n",
       "      <td>1</td>\n",
       "      <td>0.992734</td>\n",
       "    </tr>\n",
       "    <tr>\n",
       "      <th>48</th>\n",
       "      <td>15.158726</td>\n",
       "      <td>0.410214</td>\n",
       "      <td>0.420485</td>\n",
       "      <td>0.042216</td>\n",
       "      <td>0.566667</td>\n",
       "      <td>8</td>\n",
       "      <td>0.992765</td>\n",
       "      <td>0.992512</td>\n",
       "      <td>0.994046</td>\n",
       "      <td>0.991297</td>\n",
       "      <td>0.993008</td>\n",
       "      <td>0.992726</td>\n",
       "      <td>0.000885</td>\n",
       "      <td>4</td>\n",
       "      <td>0.992714</td>\n",
       "    </tr>\n",
       "    <tr>\n",
       "      <th>55</th>\n",
       "      <td>30.918502</td>\n",
       "      <td>0.365655</td>\n",
       "      <td>0.417838</td>\n",
       "      <td>0.045484</td>\n",
       "      <td>0.566667</td>\n",
       "      <td>15</td>\n",
       "      <td>0.992068</td>\n",
       "      <td>0.992696</td>\n",
       "      <td>0.994216</td>\n",
       "      <td>0.991452</td>\n",
       "      <td>0.993196</td>\n",
       "      <td>0.992726</td>\n",
       "      <td>0.000949</td>\n",
       "      <td>3</td>\n",
       "      <td>0.992704</td>\n",
       "    </tr>\n",
       "    <tr>\n",
       "      <th>56</th>\n",
       "      <td>33.242639</td>\n",
       "      <td>0.548706</td>\n",
       "      <td>0.417278</td>\n",
       "      <td>0.040822</td>\n",
       "      <td>0.566667</td>\n",
       "      <td>16</td>\n",
       "      <td>0.992046</td>\n",
       "      <td>0.992697</td>\n",
       "      <td>0.994222</td>\n",
       "      <td>0.991451</td>\n",
       "      <td>0.993196</td>\n",
       "      <td>0.992722</td>\n",
       "      <td>0.000954</td>\n",
       "      <td>5</td>\n",
       "      <td>0.992699</td>\n",
       "    </tr>\n",
       "    <tr>\n",
       "      <th>...</th>\n",
       "      <td>...</td>\n",
       "      <td>...</td>\n",
       "      <td>...</td>\n",
       "      <td>...</td>\n",
       "      <td>...</td>\n",
       "      <td>...</td>\n",
       "      <td>...</td>\n",
       "      <td>...</td>\n",
       "      <td>...</td>\n",
       "      <td>...</td>\n",
       "      <td>...</td>\n",
       "      <td>...</td>\n",
       "      <td>...</td>\n",
       "      <td>...</td>\n",
       "      <td>...</td>\n",
       "    </tr>\n",
       "    <tr>\n",
       "      <th>121</th>\n",
       "      <td>11.061552</td>\n",
       "      <td>0.238994</td>\n",
       "      <td>0.424352</td>\n",
       "      <td>0.042835</td>\n",
       "      <td>0.677778</td>\n",
       "      <td>6</td>\n",
       "      <td>0.991446</td>\n",
       "      <td>0.990809</td>\n",
       "      <td>0.993241</td>\n",
       "      <td>0.990355</td>\n",
       "      <td>0.992104</td>\n",
       "      <td>0.991591</td>\n",
       "      <td>0.001015</td>\n",
       "      <td>146</td>\n",
       "      <td>0.991581</td>\n",
       "    </tr>\n",
       "    <tr>\n",
       "      <th>120</th>\n",
       "      <td>9.089696</td>\n",
       "      <td>0.172397</td>\n",
       "      <td>0.424713</td>\n",
       "      <td>0.045935</td>\n",
       "      <td>0.677778</td>\n",
       "      <td>5</td>\n",
       "      <td>0.991266</td>\n",
       "      <td>0.990551</td>\n",
       "      <td>0.993116</td>\n",
       "      <td>0.990315</td>\n",
       "      <td>0.992061</td>\n",
       "      <td>0.991462</td>\n",
       "      <td>0.001028</td>\n",
       "      <td>147</td>\n",
       "      <td>0.991453</td>\n",
       "    </tr>\n",
       "    <tr>\n",
       "      <th>137</th>\n",
       "      <td>13.016858</td>\n",
       "      <td>0.276367</td>\n",
       "      <td>0.424723</td>\n",
       "      <td>0.044222</td>\n",
       "      <td>0.7</td>\n",
       "      <td>7</td>\n",
       "      <td>0.991420</td>\n",
       "      <td>0.990794</td>\n",
       "      <td>0.993077</td>\n",
       "      <td>0.990189</td>\n",
       "      <td>0.991768</td>\n",
       "      <td>0.991450</td>\n",
       "      <td>0.000976</td>\n",
       "      <td>148</td>\n",
       "      <td>0.991438</td>\n",
       "    </tr>\n",
       "    <tr>\n",
       "      <th>136</th>\n",
       "      <td>11.031789</td>\n",
       "      <td>0.152706</td>\n",
       "      <td>0.423443</td>\n",
       "      <td>0.047282</td>\n",
       "      <td>0.7</td>\n",
       "      <td>6</td>\n",
       "      <td>0.991291</td>\n",
       "      <td>0.990473</td>\n",
       "      <td>0.992915</td>\n",
       "      <td>0.990011</td>\n",
       "      <td>0.991708</td>\n",
       "      <td>0.991279</td>\n",
       "      <td>0.001012</td>\n",
       "      <td>149</td>\n",
       "      <td>0.991269</td>\n",
       "    </tr>\n",
       "    <tr>\n",
       "      <th>135</th>\n",
       "      <td>8.930448</td>\n",
       "      <td>0.123750</td>\n",
       "      <td>0.420228</td>\n",
       "      <td>0.046435</td>\n",
       "      <td>0.7</td>\n",
       "      <td>5</td>\n",
       "      <td>0.991034</td>\n",
       "      <td>0.990553</td>\n",
       "      <td>0.992877</td>\n",
       "      <td>0.989939</td>\n",
       "      <td>0.991567</td>\n",
       "      <td>0.991194</td>\n",
       "      <td>0.000998</td>\n",
       "      <td>150</td>\n",
       "      <td>0.991185</td>\n",
       "    </tr>\n",
       "  </tbody>\n",
       "</table>\n",
       "<p>150 rows × 15 columns</p>\n",
       "</div>"
      ],
      "text/plain": [
       "     mean_fit_time  std_fit_time  mean_score_time  std_score_time  \\\n",
       "36       21.510665      0.394025         0.417041        0.041645   \n",
       "88       39.752895      0.694147         0.435333        0.041076   \n",
       "48       15.158726      0.410214         0.420485        0.042216   \n",
       "55       30.918502      0.365655         0.417838        0.045484   \n",
       "56       33.242639      0.548706         0.417278        0.040822   \n",
       "..             ...           ...              ...             ...   \n",
       "121      11.061552      0.238994         0.424352        0.042835   \n",
       "120       9.089696      0.172397         0.424713        0.045935   \n",
       "137      13.016858      0.276367         0.424723        0.044222   \n",
       "136      11.031789      0.152706         0.423443        0.047282   \n",
       "135       8.930448      0.123750         0.420228        0.046435   \n",
       "\n",
       "    param_combine__combinefuelconsumption__ratio  \\\n",
       "36                                      0.544444   \n",
       "88                                      0.611111   \n",
       "48                                      0.566667   \n",
       "55                                      0.566667   \n",
       "56                                      0.566667   \n",
       "..                                           ...   \n",
       "121                                     0.677778   \n",
       "120                                     0.677778   \n",
       "137                                          0.7   \n",
       "136                                          0.7   \n",
       "135                                          0.7   \n",
       "\n",
       "    param_feature__n_features_to_select  split0_test_score  split1_test_score  \\\n",
       "36                                   11           0.992613           0.992663   \n",
       "88                                   18           0.992179           0.992481   \n",
       "48                                    8           0.992765           0.992512   \n",
       "55                                   15           0.992068           0.992696   \n",
       "56                                   16           0.992046           0.992697   \n",
       "..                                  ...                ...                ...   \n",
       "121                                   6           0.991446           0.990809   \n",
       "120                                   5           0.991266           0.990551   \n",
       "137                                   7           0.991420           0.990794   \n",
       "136                                   6           0.991291           0.990473   \n",
       "135                                   5           0.991034           0.990553   \n",
       "\n",
       "     split2_test_score  split3_test_score  split4_test_score  mean_test_score  \\\n",
       "36            0.993743           0.991613           0.993152         0.992757   \n",
       "88            0.994223           0.991880           0.993035         0.992760   \n",
       "48            0.994046           0.991297           0.993008         0.992726   \n",
       "55            0.994216           0.991452           0.993196         0.992726   \n",
       "56            0.994222           0.991451           0.993196         0.992722   \n",
       "..                 ...                ...                ...              ...   \n",
       "121           0.993241           0.990355           0.992104         0.991591   \n",
       "120           0.993116           0.990315           0.992061         0.991462   \n",
       "137           0.993077           0.990189           0.991768         0.991450   \n",
       "136           0.992915           0.990011           0.991708         0.991279   \n",
       "135           0.992877           0.989939           0.991567         0.991194   \n",
       "\n",
       "     std_test_score  rank_test_score r2_adj_score  \n",
       "36         0.000702                2     0.992741  \n",
       "88         0.000825                1     0.992734  \n",
       "48         0.000885                4     0.992714  \n",
       "55         0.000949                3     0.992704  \n",
       "56         0.000954                5     0.992699  \n",
       "..              ...              ...          ...  \n",
       "121        0.001015              146     0.991581  \n",
       "120        0.001028              147     0.991453  \n",
       "137        0.000976              148     0.991438  \n",
       "136        0.001012              149     0.991269  \n",
       "135        0.000998              150     0.991185  \n",
       "\n",
       "[150 rows x 15 columns]"
      ]
     },
     "execution_count": 105,
     "metadata": {},
     "output_type": "execute_result"
    }
   ],
   "source": [
    "grid_result"
   ]
  },
  {
   "cell_type": "markdown",
   "metadata": {
    "id": "eOSKSc4GalAX"
   },
   "source": [
    "#### Features\n",
    "1. Fuel consumption has high impact\n",
    "2. Using Ethonol reduces CO2 Emission\n",
    "3. Intercept is 251.075825"
   ]
  },
  {
   "cell_type": "code",
   "execution_count": 106,
   "metadata": {
    "colab": {
     "base_uri": "https://localhost:8080/",
     "height": 551
    },
    "id": "FJ61PvEmG6PX",
    "outputId": "d3763ef7-2e34-484d-eeb2-38fc2501c6c9"
   },
   "outputs": [
    {
     "data": {
      "text/html": [
       "<div>\n",
       "<style scoped>\n",
       "    .dataframe tbody tr th:only-of-type {\n",
       "        vertical-align: middle;\n",
       "    }\n",
       "\n",
       "    .dataframe tbody tr th {\n",
       "        vertical-align: top;\n",
       "    }\n",
       "\n",
       "    .dataframe thead th {\n",
       "        text-align: right;\n",
       "    }\n",
       "</style>\n",
       "<table border=\"1\" class=\"dataframe\">\n",
       "  <thead>\n",
       "    <tr style=\"text-align: right;\">\n",
       "      <th></th>\n",
       "      <th>coef</th>\n",
       "      <th>features</th>\n",
       "    </tr>\n",
       "  </thead>\n",
       "  <tbody>\n",
       "    <tr>\n",
       "      <th>18</th>\n",
       "      <td>251.075825</td>\n",
       "      <td>_intercept</td>\n",
       "    </tr>\n",
       "    <tr>\n",
       "      <th>15</th>\n",
       "      <td>65.375685</td>\n",
       "      <td>combinefuelconsumption__Fuel Consumption</td>\n",
       "    </tr>\n",
       "    <tr>\n",
       "      <th>10</th>\n",
       "      <td>4.115495</td>\n",
       "      <td>onehotencoder__x1_D</td>\n",
       "    </tr>\n",
       "    <tr>\n",
       "      <th>3</th>\n",
       "      <td>0.947204</td>\n",
       "      <td>onehotencoder__x0_PICKUP TRUCK - STANDARD</td>\n",
       "    </tr>\n",
       "    <tr>\n",
       "      <th>6</th>\n",
       "      <td>0.869670</td>\n",
       "      <td>onehotencoder__x0_SUV - SMALL</td>\n",
       "    </tr>\n",
       "    <tr>\n",
       "      <th>2</th>\n",
       "      <td>0.833038</td>\n",
       "      <td>onehotencoder__x0_PICKUP TRUCK - SMALL</td>\n",
       "    </tr>\n",
       "    <tr>\n",
       "      <th>16</th>\n",
       "      <td>0.765236</td>\n",
       "      <td>Cylinders</td>\n",
       "    </tr>\n",
       "    <tr>\n",
       "      <th>17</th>\n",
       "      <td>0.700386</td>\n",
       "      <td>Gears</td>\n",
       "    </tr>\n",
       "    <tr>\n",
       "      <th>7</th>\n",
       "      <td>0.591428</td>\n",
       "      <td>onehotencoder__x0_SUV - STANDARD</td>\n",
       "    </tr>\n",
       "    <tr>\n",
       "      <th>4</th>\n",
       "      <td>0.473106</td>\n",
       "      <td>onehotencoder__x0_SPECIAL PURPOSE VEHICLE</td>\n",
       "    </tr>\n",
       "    <tr>\n",
       "      <th>0</th>\n",
       "      <td>0.405651</td>\n",
       "      <td>onehotencoder__x0_FULL-SIZE</td>\n",
       "    </tr>\n",
       "    <tr>\n",
       "      <th>13</th>\n",
       "      <td>0.233524</td>\n",
       "      <td>onehotencoder__x2_AM</td>\n",
       "    </tr>\n",
       "    <tr>\n",
       "      <th>8</th>\n",
       "      <td>0.217187</td>\n",
       "      <td>onehotencoder__x0_TWO-SEATER</td>\n",
       "    </tr>\n",
       "    <tr>\n",
       "      <th>1</th>\n",
       "      <td>0.172868</td>\n",
       "      <td>onehotencoder__x0_MINIVAN</td>\n",
       "    </tr>\n",
       "    <tr>\n",
       "      <th>5</th>\n",
       "      <td>0.088658</td>\n",
       "      <td>onehotencoder__x0_STATION WAGON - MID-SIZE</td>\n",
       "    </tr>\n",
       "    <tr>\n",
       "      <th>12</th>\n",
       "      <td>-0.245157</td>\n",
       "      <td>onehotencoder__x2_A</td>\n",
       "    </tr>\n",
       "    <tr>\n",
       "      <th>14</th>\n",
       "      <td>-0.263670</td>\n",
       "      <td>onehotencoder__x2_AV</td>\n",
       "    </tr>\n",
       "    <tr>\n",
       "      <th>9</th>\n",
       "      <td>-0.747350</td>\n",
       "      <td>onehotencoder__x0_VAN - CARGO</td>\n",
       "    </tr>\n",
       "    <tr>\n",
       "      <th>11</th>\n",
       "      <td>-25.253084</td>\n",
       "      <td>onehotencoder__x1_E</td>\n",
       "    </tr>\n",
       "  </tbody>\n",
       "</table>\n",
       "</div>"
      ],
      "text/plain": [
       "          coef                                    features\n",
       "18  251.075825                                  _intercept\n",
       "15   65.375685    combinefuelconsumption__Fuel Consumption\n",
       "10    4.115495                         onehotencoder__x1_D\n",
       "3     0.947204   onehotencoder__x0_PICKUP TRUCK - STANDARD\n",
       "6     0.869670               onehotencoder__x0_SUV - SMALL\n",
       "2     0.833038      onehotencoder__x0_PICKUP TRUCK - SMALL\n",
       "16    0.765236                                   Cylinders\n",
       "17    0.700386                                       Gears\n",
       "7     0.591428            onehotencoder__x0_SUV - STANDARD\n",
       "4     0.473106   onehotencoder__x0_SPECIAL PURPOSE VEHICLE\n",
       "0     0.405651                 onehotencoder__x0_FULL-SIZE\n",
       "13    0.233524                        onehotencoder__x2_AM\n",
       "8     0.217187                onehotencoder__x0_TWO-SEATER\n",
       "1     0.172868                   onehotencoder__x0_MINIVAN\n",
       "5     0.088658  onehotencoder__x0_STATION WAGON - MID-SIZE\n",
       "12   -0.245157                         onehotencoder__x2_A\n",
       "14   -0.263670                        onehotencoder__x2_AV\n",
       "9    -0.747350               onehotencoder__x0_VAN - CARGO\n",
       "11  -25.253084                         onehotencoder__x1_E"
      ]
     },
     "execution_count": 106,
     "metadata": {},
     "output_type": "execute_result"
    }
   ],
   "source": [
    "features"
   ]
  },
  {
   "cell_type": "markdown",
   "metadata": {
    "id": "cGvXmC67aya5"
   },
   "source": [
    "### Model Performance and Metrics"
   ]
  },
  {
   "cell_type": "code",
   "execution_count": 61,
   "metadata": {
    "id": "DqrqVrgPNmCg"
   },
   "outputs": [],
   "source": [
    "# Find mean absolute percentage error\n",
    "def mape(actual, predicted):\n",
    "    return (np.mean(np.abs((actual - predicted) / actual)) * 100)"
   ]
  },
  {
   "cell_type": "code",
   "execution_count": 62,
   "metadata": {
    "id": "ZRnJ50PTN1qn"
   },
   "outputs": [],
   "source": [
    "# Shapiro test on normality of residuals\n",
    "def find_normality(y_true, y_pred):\n",
    "  statistic, pvalue = stats.shapiro(y_true - y_pred)\n",
    "  return np.round(pvalue, 4)"
   ]
  },
  {
   "cell_type": "code",
   "execution_count": 63,
   "metadata": {
    "id": "RYagPYaSOGcZ"
   },
   "outputs": [],
   "source": [
    "# F value to find if the model has any significance\n",
    "def find_f_value(y_true, y_pred, k):\n",
    "  n = len(y_true)\n",
    "  r2 = r2_score(y_true, y_pred)\n",
    "  f_value = (r2 / (k - 1))/((1-r2)/(n - k))\n",
    "  dfn = k - 1\n",
    "  dfd = n - k\n",
    "  return np.round(stats.f.sf(f_value, dfn = dfn, dfd = dfd), 4)"
   ]
  },
  {
   "cell_type": "code",
   "execution_count": 64,
   "metadata": {
    "id": "xBx9kAUPHKk-"
   },
   "outputs": [],
   "source": [
    "# List of all models\n",
    "all_models = {\n",
    "    'pipe 1': {\n",
    "        'model':pipe1,\n",
    "        'data':  train_test_split(*get_data_1(df), test_size=0.2, random_state=42),\n",
    "        'k': 30,\n",
    "    },\n",
    "    'pipe 2': {\n",
    "        'model': pipe2,\n",
    "        'data':  train_test_split(*get_data_1(df_without_outliers), test_size=0.2, random_state=42),\n",
    "        'k': 30,\n",
    "    },\n",
    "    'pipe 3': {\n",
    "        'model': pipe3,\n",
    "        'data':  train_test_split(*get_data_1(df_without_outliers_1), test_size=0.2, random_state=42),\n",
    "        'k': 30,\n",
    "    },\n",
    "    'grid': {\n",
    "        'model': grid,\n",
    "        'data':  train_test_split(*get_data_1(df_without_outliers_1), test_size=0.2, random_state=42),\n",
    "        'k': 9,\n",
    "    },\n",
    "    'grid 2': {\n",
    "        'model': grid2,\n",
    "        'data':  train_test_split(*get_data_1(df_without_outliers_1), test_size=0.2, random_state=42),\n",
    "        'k': 15\n",
    "    },\n",
    "}"
   ]
  },
  {
   "cell_type": "code",
   "execution_count": 65,
   "metadata": {
    "id": "ugZiSzOFJRKd"
   },
   "outputs": [],
   "source": [
    "# Helper to get all metrics\n",
    "def get_metrics(all_models):\n",
    "  metrics = {\n",
    "      'model':[],\n",
    "      'r2 train':[],\n",
    "      'r2 test':[],\n",
    "      'adjusted r2 train':[],\n",
    "      'adjusted r2 test':[],\n",
    "      'mse train':[],\n",
    "      'mse test':[],\n",
    "      'rmse train':[],\n",
    "      'rmse test':[],\n",
    "      'mae test':[],\n",
    "      'mae train':[],\n",
    "      'mape train':[],\n",
    "      'mape test':[],\n",
    "      'shaphiro train':[],\n",
    "      'shaphiro test':[],\n",
    "      'f value train':[],\n",
    "      'f value test':[]\n",
    "  }\n",
    "  for i, key in enumerate(all_models):\n",
    "    metrics['model'].append(key)\n",
    "    modelObj = all_models[key]\n",
    "    model = modelObj['model']\n",
    "    X_train, X_test, y_train, y_test = modelObj['data']\n",
    "    y_train_pred = model.predict(X_train)\n",
    "    y_test_pred = model.predict(X_test)\n",
    "    \n",
    "    metrics['r2 train'].append(r2_score(y_train, y_train_pred))\n",
    "    metrics['r2 test'].append(r2_score(y_test, y_test_pred))\n",
    "    \n",
    "    metrics['adjusted r2 train'].append(r2_adjusted_score(r2_score(y_train, y_train_pred), len(y_train), modelObj['k']))\n",
    "    metrics['adjusted r2 test'].append(r2_adjusted_score(r2_score(y_test, y_test_pred), len(y_train), modelObj['k']))\n",
    "    \n",
    "    metrics['mse train'].append(mean_squared_error(y_train, y_train_pred))\n",
    "    metrics['mse test'].append(mean_squared_error(y_test, y_test_pred))\n",
    "    \n",
    "    metrics['rmse train'].append(np.sqrt(mean_squared_error(y_train, y_train_pred)))\n",
    "    metrics['rmse test'].append(np.sqrt(mean_squared_error(y_test, y_test_pred)))\n",
    "    \n",
    "    metrics['mae train'].append(mean_absolute_error(y_train, y_train_pred))\n",
    "    metrics['mae test'].append(mean_absolute_error(y_test, y_test_pred))\n",
    "    \n",
    "    metrics['mape train'].append(mape(y_train, y_train_pred))\n",
    "    metrics['mape test'].append(mape(y_test, y_test_pred))\n",
    "\n",
    "    metrics['shaphiro train'].append(find_normality(y_train, y_train_pred))\n",
    "    metrics['shaphiro test'].append(find_normality(y_test, y_test_pred))\n",
    "\n",
    "    metrics['f value train'].append(find_f_value(y_train, y_train_pred, modelObj['k']))\n",
    "    metrics['f value test'].append(find_f_value(y_test, y_test_pred, modelObj['k']))\n",
    "    \n",
    "  result = pd.DataFrame(metrics)\n",
    "  return result.sort_values('adjusted r2 test', ascending=False).reset_index(drop=True)"
   ]
  },
  {
   "cell_type": "markdown",
   "metadata": {
    "id": "ZUaKs0v1bJYK"
   },
   "source": [
    "Observations\n",
    "\n",
    "1. Model 4 has highest r2 adjusted score on test data 0.993032\n",
    "2. Since p value of f statistic for all models is less than 0.05 all models are significant\n",
    "3. Since shapiro values of models are less than 0.05 residuals are not normally distributed  "
   ]
  },
  {
   "cell_type": "code",
   "execution_count": 66,
   "metadata": {
    "colab": {
     "base_uri": "https://localhost:8080/",
     "height": 261
    },
    "id": "7C022ytSPUHl",
    "outputId": "8a77550a-25cd-42c5-d167-3132ab89c1c3"
   },
   "outputs": [
    {
     "data": {
      "text/html": [
       "<div>\n",
       "<style scoped>\n",
       "    .dataframe tbody tr th:only-of-type {\n",
       "        vertical-align: middle;\n",
       "    }\n",
       "\n",
       "    .dataframe tbody tr th {\n",
       "        vertical-align: top;\n",
       "    }\n",
       "\n",
       "    .dataframe thead th {\n",
       "        text-align: right;\n",
       "    }\n",
       "</style>\n",
       "<table border=\"1\" class=\"dataframe\">\n",
       "  <thead>\n",
       "    <tr style=\"text-align: right;\">\n",
       "      <th></th>\n",
       "      <th>model</th>\n",
       "      <th>r2 train</th>\n",
       "      <th>r2 test</th>\n",
       "      <th>adjusted r2 train</th>\n",
       "      <th>adjusted r2 test</th>\n",
       "      <th>mse train</th>\n",
       "      <th>mse test</th>\n",
       "      <th>rmse train</th>\n",
       "      <th>rmse test</th>\n",
       "      <th>mae test</th>\n",
       "      <th>mae train</th>\n",
       "      <th>mape train</th>\n",
       "      <th>mape test</th>\n",
       "      <th>shaphiro train</th>\n",
       "      <th>shaphiro test</th>\n",
       "      <th>f value train</th>\n",
       "      <th>f value test</th>\n",
       "    </tr>\n",
       "  </thead>\n",
       "  <tbody>\n",
       "    <tr>\n",
       "      <th>0</th>\n",
       "      <td>grid</td>\n",
       "      <td>0.992978</td>\n",
       "      <td>0.993044</td>\n",
       "      <td>0.992965</td>\n",
       "      <td>0.993031</td>\n",
       "      <td>24.428531</td>\n",
       "      <td>25.460278</td>\n",
       "      <td>4.942523</td>\n",
       "      <td>5.045818</td>\n",
       "      <td>2.946923</td>\n",
       "      <td>2.900356</td>\n",
       "      <td>1.149979</td>\n",
       "      <td>1.197176</td>\n",
       "      <td>0.0</td>\n",
       "      <td>0.0</td>\n",
       "      <td>0.0</td>\n",
       "      <td>0.0</td>\n",
       "    </tr>\n",
       "    <tr>\n",
       "      <th>1</th>\n",
       "      <td>pipe 3</td>\n",
       "      <td>0.993013</td>\n",
       "      <td>0.993007</td>\n",
       "      <td>0.992971</td>\n",
       "      <td>0.992965</td>\n",
       "      <td>24.305871</td>\n",
       "      <td>25.596912</td>\n",
       "      <td>4.930099</td>\n",
       "      <td>5.059339</td>\n",
       "      <td>2.969686</td>\n",
       "      <td>2.917279</td>\n",
       "      <td>1.168607</td>\n",
       "      <td>1.216169</td>\n",
       "      <td>0.0</td>\n",
       "      <td>0.0</td>\n",
       "      <td>0.0</td>\n",
       "      <td>0.0</td>\n",
       "    </tr>\n",
       "    <tr>\n",
       "      <th>2</th>\n",
       "      <td>grid 2</td>\n",
       "      <td>0.992945</td>\n",
       "      <td>0.992950</td>\n",
       "      <td>0.992924</td>\n",
       "      <td>0.992929</td>\n",
       "      <td>24.543375</td>\n",
       "      <td>25.803594</td>\n",
       "      <td>4.954127</td>\n",
       "      <td>5.079724</td>\n",
       "      <td>3.077614</td>\n",
       "      <td>3.027108</td>\n",
       "      <td>1.216380</td>\n",
       "      <td>1.260381</td>\n",
       "      <td>0.0</td>\n",
       "      <td>0.0</td>\n",
       "      <td>0.0</td>\n",
       "      <td>0.0</td>\n",
       "    </tr>\n",
       "    <tr>\n",
       "      <th>3</th>\n",
       "      <td>pipe 1</td>\n",
       "      <td>0.991740</td>\n",
       "      <td>0.992084</td>\n",
       "      <td>0.991690</td>\n",
       "      <td>0.992036</td>\n",
       "      <td>28.736370</td>\n",
       "      <td>28.974974</td>\n",
       "      <td>5.360632</td>\n",
       "      <td>5.382841</td>\n",
       "      <td>3.018645</td>\n",
       "      <td>2.966749</td>\n",
       "      <td>1.170686</td>\n",
       "      <td>1.220756</td>\n",
       "      <td>0.0</td>\n",
       "      <td>0.0</td>\n",
       "      <td>0.0</td>\n",
       "      <td>0.0</td>\n",
       "    </tr>\n",
       "    <tr>\n",
       "      <th>4</th>\n",
       "      <td>pipe 2</td>\n",
       "      <td>0.984362</td>\n",
       "      <td>0.984766</td>\n",
       "      <td>0.984268</td>\n",
       "      <td>0.984674</td>\n",
       "      <td>54.403706</td>\n",
       "      <td>55.758287</td>\n",
       "      <td>7.375887</td>\n",
       "      <td>7.467147</td>\n",
       "      <td>3.377887</td>\n",
       "      <td>3.235358</td>\n",
       "      <td>1.228183</td>\n",
       "      <td>1.296401</td>\n",
       "      <td>0.0</td>\n",
       "      <td>0.0</td>\n",
       "      <td>0.0</td>\n",
       "      <td>0.0</td>\n",
       "    </tr>\n",
       "  </tbody>\n",
       "</table>\n",
       "</div>"
      ],
      "text/plain": [
       "    model  r2 train   r2 test  adjusted r2 train  adjusted r2 test  mse train  \\\n",
       "0    grid  0.992978  0.993044           0.992965          0.993031  24.428531   \n",
       "1  pipe 3  0.993013  0.993007           0.992971          0.992965  24.305871   \n",
       "2  grid 2  0.992945  0.992950           0.992924          0.992929  24.543375   \n",
       "3  pipe 1  0.991740  0.992084           0.991690          0.992036  28.736370   \n",
       "4  pipe 2  0.984362  0.984766           0.984268          0.984674  54.403706   \n",
       "\n",
       "    mse test  rmse train  rmse test  mae test  mae train  mape train  \\\n",
       "0  25.460278    4.942523   5.045818  2.946923   2.900356    1.149979   \n",
       "1  25.596912    4.930099   5.059339  2.969686   2.917279    1.168607   \n",
       "2  25.803594    4.954127   5.079724  3.077614   3.027108    1.216380   \n",
       "3  28.974974    5.360632   5.382841  3.018645   2.966749    1.170686   \n",
       "4  55.758287    7.375887   7.467147  3.377887   3.235358    1.228183   \n",
       "\n",
       "   mape test  shaphiro train  shaphiro test  f value train  f value test  \n",
       "0   1.197176             0.0            0.0            0.0           0.0  \n",
       "1   1.216169             0.0            0.0            0.0           0.0  \n",
       "2   1.260381             0.0            0.0            0.0           0.0  \n",
       "3   1.220756             0.0            0.0            0.0           0.0  \n",
       "4   1.296401             0.0            0.0            0.0           0.0  "
      ]
     },
     "execution_count": 66,
     "metadata": {},
     "output_type": "execute_result"
    }
   ],
   "source": [
    "get_metrics(all_models)"
   ]
  },
  {
   "cell_type": "markdown",
   "metadata": {
    "id": "f87B6iDJbntA"
   },
   "source": [
    "We are choosing Model 5 since it has highest performance and saving it to file and deploying to cloud\n",
    "\n",
    "1. We used GCloud Run for deploying the dockerized model on serverless architecture and exposed REST API.\n",
    "\n",
    "2. We used React as client or frontend and deployed in firebase hosting."
   ]
  },
  {
   "cell_type": "markdown",
   "metadata": {},
   "source": [
    "# Equation to compute CO2 Emission\n",
    "\n",
    "$$\n",
    "\\hat{y} = \\beta_{0} + Fuel Consumption City \\times \\beta_{1} + Fuel Consumption Hwy \\times \\beta_{2} + Fuel Diesel \\times \\beta_{3} + Gears \\times \\beta_{4} + Pickup truck small \\times \\beta_{5} + Full size \\times \\beta_{6} + Van passenger \\times \\beta_{7}\n",
    "+ Van cargo \\times \\beta_{8} + Fuel Ethanol \\times \\beta_{9}\n",
    "$$\n",
    "\n",
    "Where :- \n",
    "\n",
    "$ \\beta_{0} = 251.104489 $\n",
    "\n",
    "$ \\beta_{1} = 44.965753 $\n",
    "\n",
    "$ \\beta_{2} = 22.918521 $\n",
    "\n",
    "$ \\beta_{3} = 4.347370 $\n",
    "\n",
    "$ \\beta_{4} = 0.774746 $\n",
    "\n",
    "$ \\beta_{5} = 0.436418 $\n",
    "\n",
    "$ \\beta_{6} = 0.275594 $\n",
    "\n",
    "$ \\beta_{7} = -0.678920 $\n",
    "\n",
    "$ \\beta_{8} = -1.027355 $\n",
    "\n",
    "$ \\beta_{9} = -25.440881 $\n",
    "\n",
    "<br/>\n",
    "<br/>\n",
    "\n",
    "$$\n",
    "\\hat{y} = 251.104489 + Fuel Consumption City \\times 44.965753 + Fuel Consumption Hwy \\times 22.918521 + Fuel Diesel \\times 4.347370 + Gears \\times 0.774746 + Pickup truck small \\times 0.436418  + Full size \\times  0.275594 + Van passenger \\times (-0.678920)\n",
    "+ Van cargo \\times (-1.027355) + Fuel Ethanol \\times (-25.440881)\n",
    "$$ \n"
   ]
  },
  {
   "cell_type": "code",
   "execution_count": 107,
   "metadata": {
    "colab": {
     "base_uri": "https://localhost:8080/"
    },
    "id": "N-ip8qkMPtIT",
    "outputId": "ae5d3cd1-8a6a-4f9a-bf8f-ccf41de74e2c"
   },
   "outputs": [
    {
     "data": {
      "text/plain": [
       "['../models/model.m5']"
      ]
     },
     "execution_count": 107,
     "metadata": {},
     "output_type": "execute_result"
    }
   ],
   "source": [
    "joblib.dump(grid, '../models/model.m5')"
   ]
  },
  {
   "cell_type": "markdown",
   "metadata": {
    "id": "9kn0wqqpcKXc"
   },
   "source": [
    "[Link to website](https://co2-prediction.web.app)\n",
    "\n",
    "[Link to github](https://github.com/Deepak13245/fuel-co2-regression)"
   ]
  },
  {
   "cell_type": "markdown",
   "metadata": {
    "id": "Htngtif1cn3p"
   },
   "source": [
    "<big><big><big><center>Thank You</center></big></big></big><br/>\n",
    "<big><big><big><center style=\"font-size: 48px;\">☺</center></big></big></big>"
   ]
  },
  {
   "cell_type": "markdown",
   "metadata": {
    "id": "8t7AKrgQdBzX"
   },
   "source": [
    "## References\n",
    "\n",
    "https://co2-prediction.web.app/\n",
    "\n",
    "https://github.com/Deepak13245/fuel-co2-regression\n",
    "\n",
    "https://www.kaggle.com/debajyotipodder/co2-emission-by-vehicles\n",
    "\n",
    "https://pandas.pydata.org/\n",
    "\n",
    "https://pandas-profiling.github.io/pandas-profiling/docs/master/rtd/\n",
    "\n",
    "https://scikit-learn.org/stable/modules/generated/sklearn.linear_model.SGDRegressor.html\n",
    "\n",
    "https://scikit-learn.org/stable/modules/generated/sklearn.impute.KNNImputer.html#sklearn.impute.KNNImputer\n",
    "\n",
    "https://scikit-learn.org/stable/modules/generated/sklearn.pipeline.Pipeline.html\n",
    "\n",
    "https://scikit-learn.org/stable/modules/generated/sklearn.pipeline.make_pipeline.html\n",
    "\n",
    "https://scikit-learn.org/stable/modules/generated/sklearn.linear_model.LinearRegression.html\n",
    "\n",
    "https://scikit-learn.org/stable/modules/generated/sklearn.compose.make_column_transformer.html\n",
    "\n",
    "https://scikit-learn.org/stable/modules/generated/sklearn.feature_selection.SequentialFeatureSelector.html\n",
    "\n",
    "https://scikit-learn.org/stable/modules/generated/sklearn.model_selection.GridSearchCV.html\n",
    "\n",
    "https://flask.palletsprojects.com/en/1.1.x/\n",
    "\n",
    "https://flask-cors.readthedocs.io/en/latest/index.html\n",
    "\n",
    "https://firebase.google.com/docs/hosting\n",
    "\n",
    "https://www.docker.com/\n",
    "\n",
    "https://martinfowler.com/articles/serverless.html\n",
    "\n",
    "https://cloud.google.com/run\n",
    "\n",
    "https://cloud.google.com/build\n",
    "\n",
    "https://cloud.google.com/artifact-registry\n",
    "\n",
    "https://reactjs.org/\n",
    "\n",
    "\n",
    "https://www.youtube.com/watch?v=t5EfITuFD9w\n",
    "\n",
    "https://www.youtube.com/watch?v=DxVuO9gqotk\n",
    "\n",
    "\n",
    "\n",
    "\n",
    "\n"
   ]
  }
 ],
 "metadata": {
  "accelerator": "GPU",
  "colab": {
   "collapsed_sections": [],
   "name": "ml1 co2 regression.ipynb",
   "provenance": []
  },
  "kernelspec": {
   "display_name": "Python 3",
   "language": "python",
   "name": "python3"
  },
  "language_info": {
   "codemirror_mode": {
    "name": "ipython",
    "version": 3
   },
   "file_extension": ".py",
   "mimetype": "text/x-python",
   "name": "python",
   "nbconvert_exporter": "python",
   "pygments_lexer": "ipython3",
   "version": "3.6.9"
  }
 },
 "nbformat": 4,
 "nbformat_minor": 1
}
